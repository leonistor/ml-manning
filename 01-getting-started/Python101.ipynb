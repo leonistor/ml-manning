{
  "nbformat": 4,
  "nbformat_minor": 0,
  "metadata": {
    "colab": {
      "name": "Python101.ipynb",
      "provenance": [],
      "authorship_tag": "ABX9TyMQ8Vg2ydVgknrGAUqexgmB",
      "include_colab_link": true
    },
    "kernelspec": {
      "name": "python3",
      "display_name": "Python 3"
    }
  },
  "cells": [
    {
      "cell_type": "markdown",
      "metadata": {
        "id": "view-in-github",
        "colab_type": "text"
      },
      "source": [
        "<a href=\"https://colab.research.google.com/github/leonistor/ml-manning/blob/master/01-getting-started/Python101.ipynb\" target=\"_parent\"><img src=\"https://colab.research.google.com/assets/colab-badge.svg\" alt=\"Open In Colab\"/></a>"
      ]
    },
    {
      "cell_type": "markdown",
      "metadata": {
        "id": "0VTlASb6paP0",
        "colab_type": "text"
      },
      "source": [
        "# Pyhton Basics"
      ]
    },
    {
      "cell_type": "code",
      "metadata": {
        "id": "qc-RvGLcphy-",
        "colab_type": "code",
        "outputId": "e964e3e2-5e34-407a-fb1a-6bc40b9ea808",
        "colab": {
          "base_uri": "https://localhost:8080/",
          "height": 153
        }
      },
      "source": [
        "listOfNumbers = [1,2,3,4,5,6, 7]\n",
        "\n",
        "for number in listOfNumbers:\n",
        "  if (number % 2 ==0):\n",
        "    print(number, \"is even\")\n",
        "  else:\n",
        "    print(number, \"is odd\")\n",
        "\n",
        "print(\"all done\")"
      ],
      "execution_count": 1,
      "outputs": [
        {
          "output_type": "stream",
          "text": [
            "1 is odd\n",
            "2 is even\n",
            "3 is odd\n",
            "4 is even\n",
            "5 is odd\n",
            "6 is even\n",
            "7 is odd\n",
            "all done\n"
          ],
          "name": "stdout"
        }
      ]
    },
    {
      "cell_type": "markdown",
      "metadata": {
        "id": "4jLnn7MgrWjQ",
        "colab_type": "text"
      },
      "source": [
        "## Importing Modules"
      ]
    },
    {
      "cell_type": "code",
      "metadata": {
        "id": "DsWZCvSirZKJ",
        "colab_type": "code",
        "colab": {
          "base_uri": "https://localhost:8080/",
          "height": 51
        },
        "outputId": "cd3106dd-ec48-4f67-d729-332edd1838f6"
      },
      "source": [
        "import numpy as np\n",
        "\n",
        "A = np.random.normal(25.0, 5.0, 10)\n",
        "print(A)"
      ],
      "execution_count": 3,
      "outputs": [
        {
          "output_type": "stream",
          "text": [
            "[26.95129954 27.42274465 18.5263001  22.8593735  21.69459381 27.06467199\n",
            " 23.60638495 24.16774464 30.03994429 22.63362818]\n"
          ],
          "name": "stdout"
        }
      ]
    },
    {
      "cell_type": "markdown",
      "metadata": {
        "id": "Su4a7pSwsR2o",
        "colab_type": "text"
      },
      "source": [
        "## Lists"
      ]
    },
    {
      "cell_type": "code",
      "metadata": {
        "id": "Jy_baZsxsk-X",
        "colab_type": "code",
        "colab": {
          "base_uri": "https://localhost:8080/",
          "height": 34
        },
        "outputId": "7786b037-b800-40aa-a9ed-33ec83d907b7"
      },
      "source": [
        "x = [1,2,3,4,5,6]\n",
        "\n",
        "len(x)"
      ],
      "execution_count": 23,
      "outputs": [
        {
          "output_type": "execute_result",
          "data": {
            "text/plain": [
              "6"
            ]
          },
          "metadata": {
            "tags": []
          },
          "execution_count": 23
        }
      ]
    },
    {
      "cell_type": "code",
      "metadata": {
        "id": "EOlzBtrFsxjg",
        "colab_type": "code",
        "colab": {
          "base_uri": "https://localhost:8080/",
          "height": 34
        },
        "outputId": "5af5c2cb-071d-459b-ee2c-b5ac612f5044"
      },
      "source": [
        "x[3:]"
      ],
      "execution_count": 24,
      "outputs": [
        {
          "output_type": "execute_result",
          "data": {
            "text/plain": [
              "[4, 5, 6]"
            ]
          },
          "metadata": {
            "tags": []
          },
          "execution_count": 24
        }
      ]
    },
    {
      "cell_type": "code",
      "metadata": {
        "id": "OqeORBnRuRSN",
        "colab_type": "code",
        "colab": {
          "base_uri": "https://localhost:8080/",
          "height": 34
        },
        "outputId": "dcc44848-81da-48fe-d5f8-7f0ba593c071"
      },
      "source": [
        "# last 2 elems\n",
        "x[-2:]"
      ],
      "execution_count": 26,
      "outputs": [
        {
          "output_type": "execute_result",
          "data": {
            "text/plain": [
              "[5, 6]"
            ]
          },
          "metadata": {
            "tags": []
          },
          "execution_count": 26
        }
      ]
    },
    {
      "cell_type": "code",
      "metadata": {
        "id": "vUBWebfWtvos",
        "colab_type": "code",
        "colab": {
          "base_uri": "https://localhost:8080/",
          "height": 34
        },
        "outputId": "5413d459-3a7f-4213-e460-118873a1753c"
      },
      "source": [
        "# extend with list\n",
        "x.extend([7,8]); x"
      ],
      "execution_count": 27,
      "outputs": [
        {
          "output_type": "execute_result",
          "data": {
            "text/plain": [
              "[1, 2, 3, 4, 5, 6, 7, 8]"
            ]
          },
          "metadata": {
            "tags": []
          },
          "execution_count": 27
        }
      ]
    },
    {
      "cell_type": "code",
      "metadata": {
        "id": "C7GWKhuaudsV",
        "colab_type": "code",
        "colab": {
          "base_uri": "https://localhost:8080/",
          "height": 34
        },
        "outputId": "a2d4e9c7-5d5e-43ea-bc59-284706044cc1"
      },
      "source": [
        "# append\n",
        "x.append(9); x"
      ],
      "execution_count": 28,
      "outputs": [
        {
          "output_type": "execute_result",
          "data": {
            "text/plain": [
              "[1, 2, 3, 4, 5, 6, 7, 8, 9]"
            ]
          },
          "metadata": {
            "tags": []
          },
          "execution_count": 28
        }
      ]
    },
    {
      "cell_type": "code",
      "metadata": {
        "id": "z2YHv8SIt58Q",
        "colab_type": "code",
        "colab": {
          "base_uri": "https://localhost:8080/",
          "height": 34
        },
        "outputId": "0b88a075-15b5-4477-abec-99ff15a59c76"
      },
      "source": [
        "# sort in place\n",
        "x.sort(reverse=True); x"
      ],
      "execution_count": 30,
      "outputs": [
        {
          "output_type": "execute_result",
          "data": {
            "text/plain": [
              "[9, 8, 7, 6, 5, 4, 3, 2, 1]"
            ]
          },
          "metadata": {
            "tags": []
          },
          "execution_count": 30
        }
      ]
    },
    {
      "cell_type": "markdown",
      "metadata": {
        "id": "vcIOUzjeww8R",
        "colab_type": "text"
      },
      "source": [
        "## Tuples"
      ]
    },
    {
      "cell_type": "code",
      "metadata": {
        "id": "k4td3Wjnw1PH",
        "colab_type": "code",
        "colab": {
          "base_uri": "https://localhost:8080/",
          "height": 34
        },
        "outputId": "88b64128-8af0-45ed-92dd-0e31a865f877"
      },
      "source": [
        "# tuples are immutable\n",
        "t = (1,2,3)\n",
        "t[1]"
      ],
      "execution_count": 33,
      "outputs": [
        {
          "output_type": "execute_result",
          "data": {
            "text/plain": [
              "2"
            ]
          },
          "metadata": {
            "tags": []
          },
          "execution_count": 33
        }
      ]
    },
    {
      "cell_type": "code",
      "metadata": {
        "id": "6v_guoNVxAC8",
        "colab_type": "code",
        "colab": {
          "base_uri": "https://localhost:8080/",
          "height": 34
        },
        "outputId": "b65e5b9d-7433-463b-fd67-16a858e2f1b1"
      },
      "source": [
        "(age,income) = \"32,3300\".split(',')\n",
        "print(age, income)"
      ],
      "execution_count": 34,
      "outputs": [
        {
          "output_type": "stream",
          "text": [
            "32 3300\n"
          ],
          "name": "stdout"
        }
      ]
    },
    {
      "cell_type": "markdown",
      "metadata": {
        "id": "WKukxO-rxlHR",
        "colab_type": "text"
      },
      "source": [
        "## Dictionaries"
      ]
    },
    {
      "cell_type": "code",
      "metadata": {
        "id": "7PAthD-wxnsA",
        "colab_type": "code",
        "colab": {
          "base_uri": "https://localhost:8080/",
          "height": 34
        },
        "outputId": "b702e164-70c1-4048-d687-ff25bed7c70d"
      },
      "source": [
        "captains = {}\n",
        "captains[\"one\"] = \"Zuza\"\n",
        "captains[\"two\"] = \"Pusha\"\n",
        "captains[\"three\"] = \"Coca Mare\"\n",
        "captains"
      ],
      "execution_count": 37,
      "outputs": [
        {
          "output_type": "execute_result",
          "data": {
            "text/plain": [
              "{'one': 'Zuza', 'three': 'Coca Mare', 'two': 'Pusha'}"
            ]
          },
          "metadata": {
            "tags": []
          },
          "execution_count": 37
        }
      ]
    },
    {
      "cell_type": "code",
      "metadata": {
        "id": "JNPQQ0SJx-Wa",
        "colab_type": "code",
        "colab": {
          "base_uri": "https://localhost:8080/",
          "height": 34
        },
        "outputId": "3a0ae8d3-6863-452d-876f-7b7808a1e1ee"
      },
      "source": [
        "# use safe get\n",
        "captains.get(\"never\", \"Someone\")"
      ],
      "execution_count": 39,
      "outputs": [
        {
          "output_type": "execute_result",
          "data": {
            "text/plain": [
              "'Someone'"
            ]
          },
          "metadata": {
            "tags": []
          },
          "execution_count": 39
        }
      ]
    },
    {
      "cell_type": "code",
      "metadata": {
        "id": "tQMQZwQkyJnz",
        "colab_type": "code",
        "colab": {
          "base_uri": "https://localhost:8080/",
          "height": 68
        },
        "outputId": "68993660-a36b-4f6c-fea3-d4de98602311"
      },
      "source": [
        "for ship in captains:\n",
        "  print(ship + \": \" + captains[ship])"
      ],
      "execution_count": 40,
      "outputs": [
        {
          "output_type": "stream",
          "text": [
            "one: Zuza\n",
            "two: Pusha\n",
            "three: Coca Mare\n"
          ],
          "name": "stdout"
        }
      ]
    },
    {
      "cell_type": "markdown",
      "metadata": {
        "id": "kSg4BXUyzARV",
        "colab_type": "text"
      },
      "source": [
        "## Functions"
      ]
    },
    {
      "cell_type": "code",
      "metadata": {
        "id": "ACF-22bizCir",
        "colab_type": "code",
        "colab": {
          "base_uri": "https://localhost:8080/",
          "height": 34
        },
        "outputId": "a10081d9-ddb2-44cd-fab0-7971499ad823"
      },
      "source": [
        "def SquareIt(x):\n",
        "  return x * x\n",
        "\n",
        "print(SquareIt(3))"
      ],
      "execution_count": 42,
      "outputs": [
        {
          "output_type": "stream",
          "text": [
            "9\n"
          ],
          "name": "stdout"
        }
      ]
    },
    {
      "cell_type": "code",
      "metadata": {
        "id": "kRZxpyVzzPm9",
        "colab_type": "code",
        "colab": {
          "base_uri": "https://localhost:8080/",
          "height": 34
        },
        "outputId": "baa5d528-d417-40f7-b940-374106317165"
      },
      "source": [
        "# pass functions\n",
        "def DoSomething(f, x):\n",
        "  return f(x)\n",
        "\n",
        "print(DoSomething(SquareIt, 5))"
      ],
      "execution_count": 47,
      "outputs": [
        {
          "output_type": "stream",
          "text": [
            "25\n"
          ],
          "name": "stdout"
        }
      ]
    },
    {
      "cell_type": "code",
      "metadata": {
        "id": "YuBdQstqzi5m",
        "colab_type": "code",
        "colab": {
          "base_uri": "https://localhost:8080/",
          "height": 34
        },
        "outputId": "91a2dfb0-923e-4020-bc96-80b5c368b980"
      },
      "source": [
        "# lambda\n",
        "print(DoSomething(lambda k: k * 2 + 5, 3))"
      ],
      "execution_count": 48,
      "outputs": [
        {
          "output_type": "stream",
          "text": [
            "11\n"
          ],
          "name": "stdout"
        }
      ]
    },
    {
      "cell_type": "markdown",
      "metadata": {
        "id": "qYho4TZR0gCL",
        "colab_type": "text"
      },
      "source": [
        "## Booleans"
      ]
    },
    {
      "cell_type": "code",
      "metadata": {
        "id": "EaYjoLYZ0kku",
        "colab_type": "code",
        "colab": {
          "base_uri": "https://localhost:8080/",
          "height": 34
        },
        "outputId": "5c7b5ef0-210e-4b12-cd48-53cc2157d153"
      },
      "source": [
        "# is\n",
        "if 1 is 3:\n",
        "  print(\"oops, end of the world\")\n",
        "elif 1 > 3:\n",
        "  print(\"oops\")\n",
        "else:\n",
        "  print(\"all is well\")"
      ],
      "execution_count": 49,
      "outputs": [
        {
          "output_type": "stream",
          "text": [
            "all is well\n"
          ],
          "name": "stdout"
        }
      ]
    },
    {
      "cell_type": "markdown",
      "metadata": {
        "id": "wPQ1VErI1B4x",
        "colab_type": "text"
      },
      "source": [
        "## Looping"
      ]
    },
    {
      "cell_type": "code",
      "metadata": {
        "id": "J9Ouf4_E1Ddo",
        "colab_type": "code",
        "colab": {
          "base_uri": "https://localhost:8080/",
          "height": 85
        },
        "outputId": "0bd125ef-e90a-4cd3-cb73-30ec310613f5"
      },
      "source": [
        "for x in range(10, 30, 5):\n",
        "  print(x)"
      ],
      "execution_count": 50,
      "outputs": [
        {
          "output_type": "stream",
          "text": [
            "10\n",
            "15\n",
            "20\n",
            "25\n"
          ],
          "name": "stdout"
        }
      ]
    }
  ]
}