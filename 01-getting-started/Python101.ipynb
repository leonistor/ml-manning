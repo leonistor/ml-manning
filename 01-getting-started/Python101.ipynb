{
  "nbformat": 4,
  "nbformat_minor": 0,
  "metadata": {
    "colab": {
      "name": "Python101.ipynb",
      "provenance": [],
      "authorship_tag": "ABX9TyPxB+0CCyRcB3kWn49FAxWI",
      "include_colab_link": true
    },
    "kernelspec": {
      "name": "python3",
      "display_name": "Python 3"
    }
  },
  "cells": [
    {
      "cell_type": "markdown",
      "metadata": {
        "id": "view-in-github",
        "colab_type": "text"
      },
      "source": [
        "<a href=\"https://colab.research.google.com/github/leonistor/ml-manning/blob/master/01-getting-started/Python101.ipynb\" target=\"_parent\"><img src=\"https://colab.research.google.com/assets/colab-badge.svg\" alt=\"Open In Colab\"/></a>"
      ]
    },
    {
      "cell_type": "markdown",
      "metadata": {
        "id": "0VTlASb6paP0",
        "colab_type": "text"
      },
      "source": [
        "# Pyhton Basics"
      ]
    },
    {
      "cell_type": "code",
      "metadata": {
        "id": "qc-RvGLcphy-",
        "colab_type": "code",
        "outputId": "e964e3e2-5e34-407a-fb1a-6bc40b9ea808",
        "colab": {
          "base_uri": "https://localhost:8080/",
          "height": 153
        }
      },
      "source": [
        "listOfNumbers = [1,2,3,4,5,6, 7]\n",
        "\n",
        "for number in listOfNumbers:\n",
        "  if (number % 2 ==0):\n",
        "    print(number, \"is even\")\n",
        "  else:\n",
        "    print(number, \"is odd\")\n",
        "\n",
        "print(\"all done\")"
      ],
      "execution_count": 1,
      "outputs": [
        {
          "output_type": "stream",
          "text": [
            "1 is odd\n",
            "2 is even\n",
            "3 is odd\n",
            "4 is even\n",
            "5 is odd\n",
            "6 is even\n",
            "7 is odd\n",
            "all done\n"
          ],
          "name": "stdout"
        }
      ]
    },
    {
      "cell_type": "markdown",
      "metadata": {
        "id": "4jLnn7MgrWjQ",
        "colab_type": "text"
      },
      "source": [
        "## Importing Modules"
      ]
    },
    {
      "cell_type": "code",
      "metadata": {
        "id": "DsWZCvSirZKJ",
        "colab_type": "code",
        "colab": {
          "base_uri": "https://localhost:8080/",
          "height": 51
        },
        "outputId": "cd3106dd-ec48-4f67-d729-332edd1838f6"
      },
      "source": [
        "import numpy as np\n",
        "\n",
        "A = np.random.normal(25.0, 5.0, 10)\n",
        "print(A)"
      ],
      "execution_count": 3,
      "outputs": [
        {
          "output_type": "stream",
          "text": [
            "[26.95129954 27.42274465 18.5263001  22.8593735  21.69459381 27.06467199\n",
            " 23.60638495 24.16774464 30.03994429 22.63362818]\n"
          ],
          "name": "stdout"
        }
      ]
    }
  ]
}