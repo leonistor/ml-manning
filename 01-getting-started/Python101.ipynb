{
  "nbformat": 4,
  "nbformat_minor": 0,
  "metadata": {
    "colab": {
      "name": "Python101.ipynb",
      "provenance": [],
      "authorship_tag": "ABX9TyOkMgXnwCCOent7KvQa7EjX",
      "include_colab_link": true
    },
    "kernelspec": {
      "name": "python3",
      "display_name": "Python 3"
    }
  },
  "cells": [
    {
      "cell_type": "markdown",
      "metadata": {
        "id": "view-in-github",
        "colab_type": "text"
      },
      "source": [
        "<a href=\"https://colab.research.google.com/github/leonistor/ml-manning/blob/master/01-getting-started/Python101.ipynb\" target=\"_parent\"><img src=\"https://colab.research.google.com/assets/colab-badge.svg\" alt=\"Open In Colab\"/></a>"
      ]
    },
    {
      "cell_type": "markdown",
      "metadata": {
        "id": "0VTlASb6paP0",
        "colab_type": "text"
      },
      "source": [
        "# Pyhton Basics"
      ]
    },
    {
      "cell_type": "markdown",
      "metadata": {
        "id": "Jm3aNNfVpVob",
        "colab_type": "text"
      },
      "source": [
        "# Python 101"
      ]
    },
    {
      "cell_type": "code",
      "metadata": {
        "id": "qc-RvGLcphy-",
        "colab_type": "code",
        "colab": {
          "base_uri": "https://localhost:8080/",
          "height": 136
        },
        "outputId": "f4f45bb4-d728-46bd-8c3a-7bc1a51bb70b"
      },
      "source": [
        "listOfNumbers = [1,2,3,4,5,6]\n",
        "\n",
        "for number in listOfNumbers:\n",
        "  if (number % 2 ==0):\n",
        "    print(number, \"is even\")\n",
        "  else:\n",
        "    print(number, \"is odd\")\n",
        "\n",
        "print(\"all done\")"
      ],
      "execution_count": 1,
      "outputs": [
        {
          "output_type": "stream",
          "text": [
            "1 is odd\n",
            "2 is even\n",
            "3 is odd\n",
            "4 is even\n",
            "5 is odd\n",
            "6 is even\n",
            "all done\n"
          ],
          "name": "stdout"
        }
      ]
    }
  ]
}