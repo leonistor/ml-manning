{
  "nbformat": 4,
  "nbformat_minor": 0,
  "metadata": {
    "colab": {
      "name": "TrainTest.ipynb",
      "provenance": [],
      "collapsed_sections": [],
      "authorship_tag": "ABX9TyP//ZuGKhq68gZXf1cDuVoI",
      "include_colab_link": true
    },
    "kernelspec": {
      "name": "python3",
      "display_name": "Python 3"
    }
  },
  "cells": [
    {
      "cell_type": "markdown",
      "metadata": {
        "id": "view-in-github",
        "colab_type": "text"
      },
      "source": [
        "<a href=\"https://colab.research.google.com/github/leonistor/ml-manning/blob/master/04-machine-learning/TrainTest.ipynb\" target=\"_parent\"><img src=\"https://colab.research.google.com/assets/colab-badge.svg\" alt=\"Open In Colab\"/></a>"
      ]
    },
    {
      "cell_type": "markdown",
      "metadata": {
        "id": "N9iLTPQcBtV0",
        "colab_type": "text"
      },
      "source": [
        "# Train / Test"
      ]
    },
    {
      "cell_type": "code",
      "metadata": {
        "id": "SkO0__Q5BlXK",
        "colab_type": "code",
        "colab": {
          "base_uri": "https://localhost:8080/",
          "height": 282
        },
        "outputId": "0cbff61e-7963-4a5a-b6b4-369d3c5bc731"
      },
      "source": [
        "import numpy as np\n",
        "import matplotlib.pyplot as plt\n",
        "\n",
        "# generate random data\n",
        "np.random.seed(2)\n",
        "\n",
        "pageSpeeds = np.random.normal(3.0, 1.0, 100)\n",
        "purchaseAmount = np.random.normal(50, 30.0, 100) / pageSpeeds\n",
        "\n",
        "plt.scatter(pageSpeeds, purchaseAmount)"
      ],
      "execution_count": 18,
      "outputs": [
        {
          "output_type": "execute_result",
          "data": {
            "text/plain": [
              "<matplotlib.collections.PathCollection at 0x7f734f6f1a90>"
            ]
          },
          "metadata": {
            "tags": []
          },
          "execution_count": 18
        },
        {
          "output_type": "display_data",
          "data": {
            "image/png": "[encoded data removed]",
            "text/plain": [
              "<Figure size 432x288 with 1 Axes>"
            ]
          },
          "metadata": {
            "tags": [],
            "needs_background": "light"
          }
        }
      ]
    },
    {
      "cell_type": "code",
      "metadata": {
        "id": "oVhnZNkrCPKn",
        "colab_type": "code",
        "colab": {
          "base_uri": "https://localhost:8080/",
          "height": 282
        },
        "outputId": "a37b6fb0-0f62-45ae-e344-a6b4537499e0"
      },
      "source": [
        "# split data: 80% training, 20% test\n",
        "trainX = pageSpeeds[:80]\n",
        "testX = pageSpeeds[80:]\n",
        "\n",
        "trainY = purchaseAmount[:80]\n",
        "testY = purchaseAmount[80:]\n",
        "\n",
        "plt.scatter(trainX, trainY)"
      ],
      "execution_count": 19,
      "outputs": [
        {
          "output_type": "execute_result",
          "data": {
            "text/plain": [
              "<matplotlib.collections.PathCollection at 0x7f734f7047f0>"
            ]
          },
          "metadata": {
            "tags": []
          },
          "execution_count": 19
        },
        {
          "output_type": "display_data",
          "data": {
            "image/png": "[encoded data removed]",
            "text/plain": [
              "<Figure size 432x288 with 1 Axes>"
            ]
          },
          "metadata": {
            "tags": [],
            "needs_background": "light"
          }
        }
      ]
    },
    {
      "cell_type": "code",
      "metadata": {
        "id": "zWv2eCCZC8bv",
        "colab_type": "code",
        "colab": {}
      },
      "source": [
        "# 8th degree polynomial will overfit for sure\n",
        "\n",
        "x = np.array(trainX)\n",
        "y = np.array(trainY)\n",
        "\n",
        "poly = np.poly1d(np.polyfit(x, y, 7))"
      ],
      "execution_count": 0,
      "outputs": []
    },
    {
      "cell_type": "code",
      "metadata": {
        "id": "q9pMiGQTDSVz",
        "colab_type": "code",
        "colab": {
          "base_uri": "https://localhost:8080/",
          "height": 269
        },
        "outputId": "91f0807e-d7cf-4eef-a1c6-d9f6202438f3"
      },
      "source": [
        "# plot on training data\n",
        "xp = np.linspace(0, 7, 100)\n",
        "axes = plt.axes()\n",
        "axes.set_xlim([0,7])\n",
        "axes.set_ylim([0, 200])\n",
        "plt.scatter(x, y)\n",
        "plt.plot(xp, poly(xp), c='r')\n",
        "plt.show()"
      ],
      "execution_count": 51,
      "outputs": [
        {
          "output_type": "display_data",
          "data": {
            "image/png": "[encoded data removed]",
            "text/plain": [
              "<Figure size 432x288 with 1 Axes>"
            ]
          },
          "metadata": {
            "tags": [],
            "needs_background": "light"
          }
        }
      ]
    },
    {
      "cell_type": "code",
      "metadata": {
        "id": "JG-sPaWwD-64",
        "colab_type": "code",
        "colab": {
          "base_uri": "https://localhost:8080/",
          "height": 269
        },
        "outputId": "3ba488e7-5ba4-4d04-c142-0b29ecaf09cd"
      },
      "source": [
        "# plot on test data\n",
        "testx = np.array(testX)\n",
        "testy = np.array(testY)\n",
        "\n",
        "axes = plt.axes()\n",
        "axes.set_xlim([0,7])\n",
        "axes.set_ylim([0, 200])\n",
        "plt.scatter(testx, testy)\n",
        "plt.plot(xp, poly(xp), c='r')\n",
        "plt.show()"
      ],
      "execution_count": 52,
      "outputs": [
        {
          "output_type": "display_data",
          "data": {
            "image/png": "[encoded data removed]",
            "text/plain": [
              "<Figure size 432x288 with 1 Axes>"
            ]
          },
          "metadata": {
            "tags": [],
            "needs_background": "light"
          }
        }
      ]
    },
    {
      "cell_type": "code",
      "metadata": {
        "id": "gLiyyfd9EqR8",
        "colab_type": "code",
        "colab": {
          "base_uri": "https://localhost:8080/",
          "height": 34
        },
        "outputId": "915a8c1e-e48f-4be6-c50d-52d475349de0"
      },
      "source": [
        "# check r2 score for test\n",
        "from sklearn.metrics import r2_score\n",
        "\n",
        "# Best possible score is 1.0 and it can be negative (because the model can be arbitrarily worse).\n",
        "# A constant model that always predicts the expected value of y, disregarding the input features,\n",
        "# would get a R^2 score of 0.0.\n",
        "\n",
        "r2 = r2_score(testy, poly(testx))\n",
        "print(\"test score: {:.2f}\".format(r2))"
      ],
      "execution_count": 53,
      "outputs": [
        {
          "output_type": "stream",
          "text": [
            "test score: 0.55\n"
          ],
          "name": "stdout"
        }
      ]
    },
    {
      "cell_type": "code",
      "metadata": {
        "id": "thhD5keQE8Hr",
        "colab_type": "code",
        "colab": {
          "base_uri": "https://localhost:8080/",
          "height": 34
        },
        "outputId": "0c0f6311-e737-40cb-d1e8-10859cb5f62c"
      },
      "source": [
        "# check r2 score for training\n",
        "\n",
        "r2 = r2_score( np.array(trainY), poly(np.array(trainX)))\n",
        "print(\"train score: {:.2f}\".format(r2))"
      ],
      "execution_count": 54,
      "outputs": [
        {
          "output_type": "stream",
          "text": [
            "train score: 0.62\n"
          ],
          "name": "stdout"
        }
      ]
    },
    {
      "cell_type": "markdown",
      "metadata": {
        "id": "zsy1k6pAGVTc",
        "colab_type": "text"
      },
      "source": [
        "poly degree | test score | train score\n",
        "--- | --- | ---\n",
        "3 | 0.27 | 0.43\n",
        "4 | 0.39 | 0.48\n",
        "5 | 0.50 | 0.55\n",
        "6 | 0.61 | 0.60\n",
        "7 | 0.55 | 0.62\n",
        "8 | 0.30 | 0.34\n"
      ]
    }
  ]
}