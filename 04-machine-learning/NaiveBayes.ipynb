{
  "nbformat": 4,
  "nbformat_minor": 0,
  "metadata": {
    "colab": {
      "name": "NaiveBayes.ipynb",
      "provenance": [],
      "collapsed_sections": [
        "IYwmMZOjXWFj"
      ],
      "authorship_tag": "ABX9TyNE+h5oRlECap/MhP9RO3kE",
      "include_colab_link": true
    },
    "kernelspec": {
      "name": "python3",
      "display_name": "Python 3"
    }
  },
  "cells": [
    {
      "cell_type": "markdown",
      "metadata": {
        "id": "view-in-github",
        "colab_type": "text"
      },
      "source": [
        "<a href=\"https://colab.research.google.com/github/leonistor/ml-manning/blob/master/04-machine-learning/NaiveBayes.ipynb\" target=\"_parent\"><img src=\"https://colab.research.google.com/assets/colab-badge.svg\" alt=\"Open In Colab\"/></a>"
      ]
    },
    {
      "cell_type": "markdown",
      "metadata": {
        "id": "ulk2YgZ6PK4w",
        "colab_type": "text"
      },
      "source": [
        "# Naive Bayes (za eazy way)"
      ]
    },
    {
      "cell_type": "markdown",
      "metadata": {
        "id": "IYwmMZOjXWFj",
        "colab_type": "text"
      },
      "source": [
        "## Prepare data files"
      ]
    },
    {
      "cell_type": "code",
      "metadata": {
        "id": "sBoARiFlMw6l",
        "colab_type": "code",
        "colab": {}
      },
      "source": [
        "# prepare emails data\n",
        "\n",
        "# is 'prepare data files' already executed?\n",
        "data_ready = True"
      ],
      "execution_count": 0,
      "outputs": []
    },
    {
      "cell_type": "code",
      "metadata": {
        "id": "u5o-X5R_Rgo9",
        "colab_type": "code",
        "colab": {}
      },
      "source": [
        "# https://svaderia.github.io/articles/downloading-and-unzipping-a-zipfile/\n",
        "from io import BytesIO\n",
        "from urllib.request import urlopen\n",
        "from zipfile import ZipFile\n",
        "\n",
        "zipurl = \"https://github.com/leonistor/ml-manning/raw/master/04-machine-learning/emails.zip\"\n",
        "# use if zipped files not in folders\n",
        "tmp_destination = \"\"\n",
        "\n",
        "if not data_ready:\n",
        "  with urlopen(zipurl) as zip_response:\n",
        "    with ZipFile(BytesIO(zip_response.read())) as zfile:\n",
        "      zfile.extractall(\"/tmp/\" + tmp_destination)\n",
        "\n",
        "data_ready = True"
      ],
      "execution_count": 0,
      "outputs": []
    },
    {
      "cell_type": "code",
      "metadata": {
        "id": "kpe1KqsfTAje",
        "colab_type": "code",
        "colab": {
          "base_uri": "https://localhost:8080/",
          "height": 0
        },
        "outputId": "cc5f1383-c69f-4860-b396-1eccea5b0b98"
      },
      "source": [
        "import glob\n",
        "path = \"/tmp/emails/\"\n",
        "files = [f for f in glob.glob(path + \"**/*\", recursive=True)]\n",
        "# for f in files:\n",
        "  # print(f)\n",
        "print(\"files and folders count: \", len(files))"
      ],
      "execution_count": 4,
      "outputs": [
        {
          "output_type": "stream",
          "text": [
            "files and folders count:  3002\n"
          ],
          "name": "stdout"
        }
      ]
    },
    {
      "cell_type": "markdown",
      "metadata": {
        "id": "6LWeKEq0XjDs",
        "colab_type": "text"
      },
      "source": [
        "## Import data"
      ]
    },
    {
      "cell_type": "code",
      "metadata": {
        "id": "r-PEMhSjXqP4",
        "colab_type": "code",
        "colab": {
          "base_uri": "https://localhost:8080/",
          "height": 204
        },
        "outputId": "a6ec75a5-13cc-43b6-9ba4-eda6a9a59d8f"
      },
      "source": [
        "import io\n",
        "import os\n",
        "import numpy\n",
        "\n",
        "from pandas import DataFrame\n",
        "from sklearn.feature_extraction.text import CountVectorizer\n",
        "from sklearn.naive_bayes import MultinomialNB\n",
        "\n",
        "def readFiles(path):\n",
        "  for root, dirnames, filenames in os.walk(path):\n",
        "    for filename in filenames:\n",
        "      path = os.path.join(root, filename)\n",
        "\n",
        "      inBody = False\n",
        "      lines = []\n",
        "      f = io.open(path, 'r', encoding='latin1')\n",
        "      for line in f:\n",
        "        if inBody:\n",
        "          lines.append(line)\n",
        "        elif line == '\\n':\n",
        "          inBody = True\n",
        "      f.close()\n",
        "      message = '\\n'.join(lines)\n",
        "      yield path, message\n",
        "\n",
        "def dataFrameFromDirectory(path, classification):\n",
        "  rows = []\n",
        "  index = []\n",
        "  for filename, message in readFiles(path):\n",
        "    rows.append({'message': message, 'class': classification})\n",
        "    index.append(filename)\n",
        "  return DataFrame(rows, index=index)\n",
        "\n",
        "data = DataFrame({'message': [], 'class': []})\n",
        "\n",
        "data = data.append(dataFrameFromDirectory('/tmp/emails/spam', 'spam'))\n",
        "data = data.append(dataFrameFromDirectory('/tmp/emails/ham', 'ham'))\n",
        "\n",
        "data.head()"
      ],
      "execution_count": 5,
      "outputs": [
        {
          "output_type": "execute_result",
          "data": {
            "text/html": [
              "<div>\n",
              "<style scoped>\n",
              "    .dataframe tbody tr th:only-of-type {\n",
              "        vertical-align: middle;\n",
              "    }\n",
              "\n",
              "    .dataframe tbody tr th {\n",
              "        vertical-align: top;\n",
              "    }\n",
              "\n",
              "    .dataframe thead th {\n",
              "        text-align: right;\n",
              "    }\n",
              "</style>\n",
              "<table border=\"1\" class=\"dataframe\">\n",
              "  <thead>\n",
              "    <tr style=\"text-align: right;\">\n",
              "      <th></th>\n",
              "      <th>message</th>\n",
              "      <th>class</th>\n",
              "    </tr>\n",
              "  </thead>\n",
              "  <tbody>\n",
              "    <tr>\n",
              "      <th>/tmp/emails/spam/00173.e10eb62e2c7808674c43d6a5e9e08a1c</th>\n",
              "      <td>&lt;html&gt;\\n\\n&lt;body bgColor=\"#CCCCCC\" topmargin=1 ...</td>\n",
              "      <td>spam</td>\n",
              "    </tr>\n",
              "    <tr>\n",
              "      <th>/tmp/emails/spam/00270.5dcd9ce3be2992222b9038d7bf75a23a</th>\n",
              "      <td>Dear Partner to be,\\n\\n\\n\\nFirst, I must apolo...</td>\n",
              "      <td>spam</td>\n",
              "    </tr>\n",
              "    <tr>\n",
              "      <th>/tmp/emails/spam/00405.3163fff27ff95b91afd656f0025c6a83</th>\n",
              "      <td>&lt;html&gt;\\n\\n&lt;head&gt;\\n\\n&lt;/head&gt;\\n\\n&lt;center&gt;\\n\\n&lt;h1...</td>\n",
              "      <td>spam</td>\n",
              "    </tr>\n",
              "    <tr>\n",
              "      <th>/tmp/emails/spam/00256.edd9bfb44729edf3c4f177814fd8c9e1</th>\n",
              "      <td>This is a Multipart MIME message. Since your m...</td>\n",
              "      <td>spam</td>\n",
              "    </tr>\n",
              "    <tr>\n",
              "      <th>/tmp/emails/spam/00281.db28f3aab77ff478279d8de20d572b42</th>\n",
              "      <td>\\n\\n&lt;html&gt;&lt;body&gt;&lt;center&gt;\\n\\n\\n\\n&lt;table bgcolor...</td>\n",
              "      <td>spam</td>\n",
              "    </tr>\n",
              "  </tbody>\n",
              "</table>\n",
              "</div>"
            ],
            "text/plain": [
              "                                                                                              message class\n",
              "/tmp/emails/spam/00173.e10eb62e2c7808674c43d6a5...  <html>\\n\\n<body bgColor=\"#CCCCCC\" topmargin=1 ...  spam\n",
              "/tmp/emails/spam/00270.5dcd9ce3be2992222b9038d7...  Dear Partner to be,\\n\\n\\n\\nFirst, I must apolo...  spam\n",
              "/tmp/emails/spam/00405.3163fff27ff95b91afd656f0...  <html>\\n\\n<head>\\n\\n</head>\\n\\n<center>\\n\\n<h1...  spam\n",
              "/tmp/emails/spam/00256.edd9bfb44729edf3c4f17781...  This is a Multipart MIME message. Since your m...  spam\n",
              "/tmp/emails/spam/00281.db28f3aab77ff478279d8de2...  \\n\\n<html><body><center>\\n\\n\\n\\n<table bgcolor...  spam"
            ]
          },
          "metadata": {
            "tags": []
          },
          "execution_count": 5
        }
      ]
    },
    {
      "cell_type": "markdown",
      "metadata": {
        "id": "7dVNoodFava_",
        "colab_type": "text"
      },
      "source": [
        "## The fun part"
      ]
    },
    {
      "cell_type": "code",
      "metadata": {
        "id": "thsseEMMa1CF",
        "colab_type": "code",
        "colab": {
          "base_uri": "https://localhost:8080/",
          "height": 34
        },
        "outputId": "f7aebc9d-2612-449b-bd5a-0e36251058ca"
      },
      "source": [
        "vectorizer = CountVectorizer()\n",
        "# words -> tokens and count (Learn the vocabulary dictionary and return term-document matrix.)\n",
        "counts = vectorizer.fit_transform(data['message'].values)\n",
        "\n",
        "classifier = MultinomialNB()\n",
        "targets = data['class'].values\n",
        "# classifier.fit(X, y)\n",
        "# X : {array-like, sparse matrix} of shape (n_samples, n_features)\n",
        "    # Training vectors, where n_samples is the number of samples and  \n",
        "    # n_features is the number of features.  \n",
        "# y : array-like of shape (n_samples,)\n",
        "    # Target values.\n",
        "classifier.fit(counts, targets)"
      ],
      "execution_count": 6,
      "outputs": [
        {
          "output_type": "execute_result",
          "data": {
            "text/plain": [
              "MultinomialNB(alpha=1.0, class_prior=None, fit_prior=True)"
            ]
          },
          "metadata": {
            "tags": []
          },
          "execution_count": 6
        }
      ]
    },
    {
      "cell_type": "code",
      "metadata": {
        "id": "n-e2KGkmcjQ1",
        "colab_type": "code",
        "colab": {
          "base_uri": "https://localhost:8080/",
          "height": 34
        },
        "outputId": "2d856edd-4662-4853-bf92-8fdb20fe58e4"
      },
      "source": [
        "# try out with some examples of body text:\n",
        "examples = [\n",
        "  'Free Viagra now',\n",
        "  'Hi, Bob, how about a game of golf tommorrow?',\n",
        "  'Enlarge your penis today'\n",
        "  ]\n",
        "# tokenize examples\n",
        "example_counts = vectorizer.transform(examples)\n",
        "predictions = classifier.predict(example_counts)\n",
        "predictions"
      ],
      "execution_count": 7,
      "outputs": [
        {
          "output_type": "execute_result",
          "data": {
            "text/plain": [
              "array(['spam', 'ham', 'spam'], dtype='<U4')"
            ]
          },
          "metadata": {
            "tags": []
          },
          "execution_count": 7
        }
      ]
    },
    {
      "cell_type": "markdown",
      "metadata": {
        "id": "63_wjKhZgdt4",
        "colab_type": "text"
      },
      "source": [
        "## Activity: Train/ Test check accuracy"
      ]
    },
    {
      "cell_type": "code",
      "metadata": {
        "id": "G5cQfRpDhC40",
        "colab_type": "code",
        "colab": {
          "base_uri": "https://localhost:8080/",
          "height": 204
        },
        "outputId": "c0f30da5-dcdb-4608-ad86-5e9b7ecef539"
      },
      "source": [
        "# https://www.kaggle.com/dilip990/spam-ham-detection-using-naive-bayes-classifier\n",
        "all_predictions = classifier.predict(vectorizer.transform(data['message'].values))\n",
        "\n",
        "from sklearn.metrics import classification_report, confusion_matrix\n",
        "\n",
        "print(classification_report(data['class'].values, all_predictions))\n",
        "print(confusion_matrix(data['class'].values, all_predictions))"
      ],
      "execution_count": 13,
      "outputs": [
        {
          "output_type": "stream",
          "text": [
            "              precision    recall  f1-score   support\n",
            "\n",
            "         ham       0.97      1.00      0.98      2500\n",
            "        spam       0.99      0.86      0.92       500\n",
            "\n",
            "    accuracy                           0.97      3000\n",
            "   macro avg       0.98      0.93      0.95      3000\n",
            "weighted avg       0.98      0.97      0.97      3000\n",
            "\n",
            "[[2495    5]\n",
            " [  71  429]]\n"
          ],
          "name": "stdout"
        }
      ]
    }
  ]
}