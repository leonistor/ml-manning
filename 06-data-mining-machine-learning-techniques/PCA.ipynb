{
  "nbformat": 4,
  "nbformat_minor": 0,
  "metadata": {
    "colab": {
      "name": "PCA.ipynb",
      "provenance": [],
      "collapsed_sections": [],
      "authorship_tag": "ABX9TyN2VM0vGumf0HltD61liV3x",
      "include_colab_link": true
    },
    "kernelspec": {
      "name": "python3",
      "display_name": "Python 3"
    }
  },
  "cells": [
    {
      "cell_type": "markdown",
      "metadata": {
        "id": "view-in-github",
        "colab_type": "text"
      },
      "source": [
        "<a href=\"https://colab.research.google.com/github/leonistor/ml-manning/blob/master/06-data-mining-machine-learning-techniques/PCA.ipynb\" target=\"_parent\"><img src=\"https://colab.research.google.com/assets/colab-badge.svg\" alt=\"Open In Colab\"/></a>"
      ]
    },
    {
      "cell_type": "markdown",
      "metadata": {
        "id": "1EJHBgdYKHy4",
        "colab_type": "text"
      },
      "source": [
        "# Principal Component Analysis\n",
        "\n",
        "Example: B&W photo = (x, y, brightness) -> 2 dimensions"
      ]
    },
    {
      "cell_type": "code",
      "metadata": {
        "id": "tOuQ8iZHKEA_",
        "colab_type": "code",
        "colab": {
          "base_uri": "https://localhost:8080/",
          "height": 68
        },
        "outputId": "55914742-6d8a-4884-813f-5af645e7e95a"
      },
      "source": [
        "from sklearn.datasets import load_iris\n",
        "from sklearn.decomposition import PCA\n",
        "import pylab as pl\n",
        "from itertools import cycle\n",
        "\n",
        "# iris dataset\n",
        "# 150 samples of 4 dimensions (length,width) x (petal, sepal)\n",
        "\n",
        "iris = load_iris()\n",
        "\n",
        "numSamples, numFeatures = iris.data.shape\n",
        "print(numSamples)\n",
        "print(numFeatures)\n",
        "print(list(iris.target_names))"
      ],
      "execution_count": 5,
      "outputs": [
        {
          "output_type": "stream",
          "text": [
            "150\n",
            "4\n",
            "['setosa', 'versicolor', 'virginica']\n"
          ],
          "name": "stdout"
        }
      ]
    },
    {
      "cell_type": "code",
      "metadata": {
        "id": "5fq94WF2Nv4e",
        "colab_type": "code",
        "colab": {}
      },
      "source": [
        "# PCA to 2 dimensions\n",
        "# whiten = normalize\n",
        "X = iris.data\n",
        "pca = PCA(n_components=2, whiten=True).fit(X)\n",
        "X_pca = pca.transform(X)"
      ],
      "execution_count": 0,
      "outputs": []
    },
    {
      "cell_type": "code",
      "metadata": {
        "id": "fXuz9ow5OXAv",
        "colab_type": "code",
        "colab": {
          "base_uri": "https://localhost:8080/",
          "height": 51
        },
        "outputId": "651c6548-b166-403b-97aa-f937bfd0dd84"
      },
      "source": [
        "# the 2 eigenvectors of the 4D space\n",
        "print(pca.components_)"
      ],
      "execution_count": 11,
      "outputs": [
        {
          "output_type": "stream",
          "text": [
            "[[ 0.36138659 -0.08452251  0.85667061  0.3582892 ]\n",
            " [ 0.65658877  0.73016143 -0.17337266 -0.07548102]]\n"
          ],
          "name": "stdout"
        }
      ]
    },
    {
      "cell_type": "code",
      "metadata": {
        "id": "4cAnNJoCOpbs",
        "colab_type": "code",
        "colab": {
          "base_uri": "https://localhost:8080/",
          "height": 51
        },
        "outputId": "c2091653-f80a-4561-b7d1-93b752f69db6"
      },
      "source": [
        "# how much of the variance in 4D is preserved in 2D\n",
        "print(pca.explained_variance_ratio_)\n",
        "print(sum(pca.explained_variance_ratio_))"
      ],
      "execution_count": 13,
      "outputs": [
        {
          "output_type": "stream",
          "text": [
            "[0.92461872 0.05306648]\n",
            "0.977685206318795\n"
          ],
          "name": "stdout"
        }
      ]
    },
    {
      "cell_type": "code",
      "metadata": {
        "id": "YYJbIV0CPKhG",
        "colab_type": "code",
        "colab": {
          "base_uri": "https://localhost:8080/",
          "height": 267
        },
        "outputId": "7952fbe2-d00d-4b1b-a90f-5321f1f91ac6"
      },
      "source": [
        "# visualize\n",
        "colors = cycle('rgb')\n",
        "target_ids = range(len(iris.target_names))\n",
        "pl.figure()\n",
        "for i, c, label in zip(target_ids, colors, iris.target_names):\n",
        "  pl.scatter(X_pca[iris.target == i, 0], X_pca[iris.target == i, 1],\n",
        "             c=c, label=label)\n",
        "pl.legend()\n",
        "pl.show()"
      ],
      "execution_count": 15,
      "outputs": [
        {
          "output_type": "display_data",
          "data": {
            "image/png": "[encoded data removed]",
            "text/plain": [
              "<Figure size 432x288 with 1 Axes>"
            ]
          },
          "metadata": {
            "tags": [],
            "needs_background": "light"
          }
        }
      ]
    }
  ]
}