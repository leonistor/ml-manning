{
  "nbformat": 4,
  "nbformat_minor": 0,
  "metadata": {
    "colab": {
      "name": "KNN.ipynb",
      "provenance": [],
      "collapsed_sections": [],
      "authorship_tag": "ABX9TyPFVn6zqv12hrbwjUgUNUx3",
      "include_colab_link": true
    },
    "kernelspec": {
      "name": "python3",
      "display_name": "Python 3"
    }
  },
  "cells": [
    {
      "cell_type": "markdown",
      "metadata": {
        "id": "view-in-github",
        "colab_type": "text"
      },
      "source": [
        "<a href=\"https://colab.research.google.com/github/leonistor/ml-manning/blob/master/06-data-mining-machine-learning-techniques/KNN.ipynb\" target=\"_parent\"><img src=\"https://colab.research.google.com/assets/colab-badge.svg\" alt=\"Open In Colab\"/></a>"
      ]
    },
    {
      "cell_type": "markdown",
      "metadata": {
        "id": "-dA7tDblj6VF",
        "colab_type": "text"
      },
      "source": [
        "# KNN (K-nearest Heighbors)"
      ]
    },
    {
      "cell_type": "code",
      "metadata": {
        "id": "KEqEgpTpjTUG",
        "colab_type": "code",
        "colab": {}
      },
      "source": [
        "# ! wget 'https://github.com/miaomiao3/tensorflow_fm/raw/master/ml-100k/u.data'\n",
        "# ! pwd\n",
        "# ! ls -lah\n",
        "# prepend user 0 data\n",
        "# ! echo -e '0\\t50\\t5\\t881250949\\n0\\t172\\t5\\t881250949\\n0\\t133\\t1\\t881250949' > user0.data\n",
        "# ! mv u.data userall.data\n",
        "# ! cat user0.data userall.data > u.data\n",
        "# ! head u.data"
      ],
      "execution_count": 0,
      "outputs": []
    },
    {
      "cell_type": "code",
      "metadata": {
        "id": "wLoBpuv6kRq8",
        "colab_type": "code",
        "colab": {
          "base_uri": "https://localhost:8080/",
          "height": 204
        },
        "outputId": "57564217-dc1d-470e-e9e6-ff63d4f839fe"
      },
      "source": [
        "import pandas as pd\n",
        "r_cols = ['user_id', 'movie_id', 'rating']\n",
        "ratings = pd.read_csv('u.data', sep='\\t', names=r_cols, usecols=range(3))\n",
        "ratings.head()"
      ],
      "execution_count": 12,
      "outputs": [
        {
          "output_type": "execute_result",
          "data": {
            "text/html": [
              "<div>\n",
              "<style scoped>\n",
              "    .dataframe tbody tr th:only-of-type {\n",
              "        vertical-align: middle;\n",
              "    }\n",
              "\n",
              "    .dataframe tbody tr th {\n",
              "        vertical-align: top;\n",
              "    }\n",
              "\n",
              "    .dataframe thead th {\n",
              "        text-align: right;\n",
              "    }\n",
              "</style>\n",
              "<table border=\"1\" class=\"dataframe\">\n",
              "  <thead>\n",
              "    <tr style=\"text-align: right;\">\n",
              "      <th></th>\n",
              "      <th>user_id</th>\n",
              "      <th>movie_id</th>\n",
              "      <th>rating</th>\n",
              "    </tr>\n",
              "  </thead>\n",
              "  <tbody>\n",
              "    <tr>\n",
              "      <th>0</th>\n",
              "      <td>0</td>\n",
              "      <td>50</td>\n",
              "      <td>5</td>\n",
              "    </tr>\n",
              "    <tr>\n",
              "      <th>1</th>\n",
              "      <td>0</td>\n",
              "      <td>172</td>\n",
              "      <td>5</td>\n",
              "    </tr>\n",
              "    <tr>\n",
              "      <th>2</th>\n",
              "      <td>0</td>\n",
              "      <td>133</td>\n",
              "      <td>1</td>\n",
              "    </tr>\n",
              "    <tr>\n",
              "      <th>3</th>\n",
              "      <td>196</td>\n",
              "      <td>242</td>\n",
              "      <td>3</td>\n",
              "    </tr>\n",
              "    <tr>\n",
              "      <th>4</th>\n",
              "      <td>186</td>\n",
              "      <td>302</td>\n",
              "      <td>3</td>\n",
              "    </tr>\n",
              "  </tbody>\n",
              "</table>\n",
              "</div>"
            ],
            "text/plain": [
              "   user_id  movie_id  rating\n",
              "0        0        50       5\n",
              "1        0       172       5\n",
              "2        0       133       1\n",
              "3      196       242       3\n",
              "4      186       302       3"
            ]
          },
          "metadata": {
            "tags": []
          },
          "execution_count": 12
        }
      ]
    },
    {
      "cell_type": "code",
      "metadata": {
        "id": "z8LVV2PPnmo7",
        "colab_type": "code",
        "colab": {
          "base_uri": "https://localhost:8080/",
          "height": 266
        },
        "outputId": "b989b773-e04d-42a0-ad9d-de6a9563ca07"
      },
      "source": [
        "import numpy as np\n",
        "# aggregate by rating (count and avg)\n",
        "movieProperties = ratings.groupby('movie_id').agg({'rating': [np.size, np.mean]})\n",
        "movieProperties.head()"
      ],
      "execution_count": 27,
      "outputs": [
        {
          "output_type": "execute_result",
          "data": {
            "text/html": [
              "<div>\n",
              "<style scoped>\n",
              "    .dataframe tbody tr th:only-of-type {\n",
              "        vertical-align: middle;\n",
              "    }\n",
              "\n",
              "    .dataframe tbody tr th {\n",
              "        vertical-align: top;\n",
              "    }\n",
              "\n",
              "    .dataframe thead tr th {\n",
              "        text-align: left;\n",
              "    }\n",
              "\n",
              "    .dataframe thead tr:last-of-type th {\n",
              "        text-align: right;\n",
              "    }\n",
              "</style>\n",
              "<table border=\"1\" class=\"dataframe\">\n",
              "  <thead>\n",
              "    <tr>\n",
              "      <th></th>\n",
              "      <th colspan=\"2\" halign=\"left\">rating</th>\n",
              "    </tr>\n",
              "    <tr>\n",
              "      <th></th>\n",
              "      <th>size</th>\n",
              "      <th>mean</th>\n",
              "    </tr>\n",
              "    <tr>\n",
              "      <th>movie_id</th>\n",
              "      <th></th>\n",
              "      <th></th>\n",
              "    </tr>\n",
              "  </thead>\n",
              "  <tbody>\n",
              "    <tr>\n",
              "      <th>1</th>\n",
              "      <td>452</td>\n",
              "      <td>3.878319</td>\n",
              "    </tr>\n",
              "    <tr>\n",
              "      <th>2</th>\n",
              "      <td>131</td>\n",
              "      <td>3.206107</td>\n",
              "    </tr>\n",
              "    <tr>\n",
              "      <th>3</th>\n",
              "      <td>90</td>\n",
              "      <td>3.033333</td>\n",
              "    </tr>\n",
              "    <tr>\n",
              "      <th>4</th>\n",
              "      <td>209</td>\n",
              "      <td>3.550239</td>\n",
              "    </tr>\n",
              "    <tr>\n",
              "      <th>5</th>\n",
              "      <td>86</td>\n",
              "      <td>3.302326</td>\n",
              "    </tr>\n",
              "  </tbody>\n",
              "</table>\n",
              "</div>"
            ],
            "text/plain": [
              "         rating          \n",
              "           size      mean\n",
              "movie_id                 \n",
              "1           452  3.878319\n",
              "2           131  3.206107\n",
              "3            90  3.033333\n",
              "4           209  3.550239\n",
              "5            86  3.302326"
            ]
          },
          "metadata": {
            "tags": []
          },
          "execution_count": 27
        }
      ]
    },
    {
      "cell_type": "code",
      "metadata": {
        "id": "hrcMAyP5n_Tt",
        "colab_type": "code",
        "colab": {
          "base_uri": "https://localhost:8080/",
          "height": 235
        },
        "outputId": "838a31b6-2de7-42c1-accf-5359b856cad6"
      },
      "source": [
        "# nomalize ratings\n",
        "movieNumRatings = pd.DataFrame(movieProperties['rating']['size'])\n",
        "movieNormalizedNumRatings = movieNumRatings.apply(lambda x: (x - np.min(x)) / (np.max(x) - np.min(x)))\n",
        "movieNormalizedNumRatings.head()"
      ],
      "execution_count": 16,
      "outputs": [
        {
          "output_type": "execute_result",
          "data": {
            "text/html": [
              "<div>\n",
              "<style scoped>\n",
              "    .dataframe tbody tr th:only-of-type {\n",
              "        vertical-align: middle;\n",
              "    }\n",
              "\n",
              "    .dataframe tbody tr th {\n",
              "        vertical-align: top;\n",
              "    }\n",
              "\n",
              "    .dataframe thead th {\n",
              "        text-align: right;\n",
              "    }\n",
              "</style>\n",
              "<table border=\"1\" class=\"dataframe\">\n",
              "  <thead>\n",
              "    <tr style=\"text-align: right;\">\n",
              "      <th></th>\n",
              "      <th>size</th>\n",
              "    </tr>\n",
              "    <tr>\n",
              "      <th>movie_id</th>\n",
              "      <th></th>\n",
              "    </tr>\n",
              "  </thead>\n",
              "  <tbody>\n",
              "    <tr>\n",
              "      <th>1</th>\n",
              "      <td>0.773585</td>\n",
              "    </tr>\n",
              "    <tr>\n",
              "      <th>2</th>\n",
              "      <td>0.222985</td>\n",
              "    </tr>\n",
              "    <tr>\n",
              "      <th>3</th>\n",
              "      <td>0.152659</td>\n",
              "    </tr>\n",
              "    <tr>\n",
              "      <th>4</th>\n",
              "      <td>0.356775</td>\n",
              "    </tr>\n",
              "    <tr>\n",
              "      <th>5</th>\n",
              "      <td>0.145798</td>\n",
              "    </tr>\n",
              "  </tbody>\n",
              "</table>\n",
              "</div>"
            ],
            "text/plain": [
              "              size\n",
              "movie_id          \n",
              "1         0.773585\n",
              "2         0.222985\n",
              "3         0.152659\n",
              "4         0.356775\n",
              "5         0.145798"
            ]
          },
          "metadata": {
            "tags": []
          },
          "execution_count": 16
        }
      ]
    },
    {
      "cell_type": "code",
      "metadata": {
        "id": "5MJW6V69s3yv",
        "colab_type": "code",
        "colab": {}
      },
      "source": [
        ""
      ],
      "execution_count": 0,
      "outputs": []
    },
    {
      "cell_type": "code",
      "metadata": {
        "id": "-EZiD31opIZz",
        "colab_type": "code",
        "colab": {
          "base_uri": "https://localhost:8080/",
          "height": 85
        },
        "outputId": "520f8ece-c888-4a39-b4e0-85df2e1c755c"
      },
      "source": [
        "# extract genre\n",
        "# ! wget 'https://raw.githubusercontent.com/miaomiao3/tensorflow_fm/master/ml-100k/u.item'\n",
        "# ! head u.item\n",
        "movieDict = {}\n",
        "with open('u.item', encoding='iso-8859-1') as f:\n",
        "  temp = ''\n",
        "  for line in f:\n",
        "    fields = line.rstrip('\\n').split('|')\n",
        "    movieID = int(fields[0])\n",
        "    name = fields[1]\n",
        "    genres = fields[5:25]\n",
        "    genres = list(map(int, genres))\n",
        "    movieDict[movieID] = (name, genres, movieNormalizedNumRatings.loc[movieID].get('size'),\n",
        "                          movieProperties.loc[movieID].rating.get('mean'))\n",
        "\n",
        "# x = list(map(int, ['0', '1', '1']))\n",
        "# x\n",
        "movieDict[1]"
      ],
      "execution_count": 40,
      "outputs": [
        {
          "output_type": "execute_result",
          "data": {
            "text/plain": [
              "('Toy Story (1995)',\n",
              " [0, 0, 0, 1, 1, 1, 0, 0, 0, 0, 0, 0, 0, 0, 0, 0, 0, 0, 0],\n",
              " 0.7735849056603774,\n",
              " 3.8783185840707963)"
            ]
          },
          "metadata": {
            "tags": []
          },
          "execution_count": 40
        }
      ]
    },
    {
      "cell_type": "code",
      "metadata": {
        "id": "Fn51z7_awKtP",
        "colab_type": "code",
        "colab": {
          "base_uri": "https://localhost:8080/",
          "height": 34
        },
        "outputId": "1bef5ef3-7b8e-4871-c9fe-e37c50255226"
      },
      "source": [
        "# compute similarity: \"ditance\" based on how similar the genres are and houw similar the popularity is\n",
        "from scipy import spatial\n",
        "\n",
        "def ComputeDistance(a, b):\n",
        "  genresA = a[1]\n",
        "  genresB = b[1]\n",
        "  genresDistance = spatial.distance.cosine(genresA, genresB)\n",
        "  popA = a[2]\n",
        "  popB = b[2]\n",
        "  popDistance = abs(popA - popB)\n",
        "  return genresDistance + popDistance\n",
        "\n",
        "ComputeDistance(movieDict[2], movieDict[4])"
      ],
      "execution_count": 42,
      "outputs": [
        {
          "output_type": "execute_result",
          "data": {
            "text/plain": [
              "0.8004574042309892"
            ]
          },
          "metadata": {
            "tags": []
          },
          "execution_count": 42
        }
      ]
    },
    {
      "cell_type": "code",
      "metadata": {
        "id": "x9Ws6qwOw-YK",
        "colab_type": "code",
        "colab": {
          "base_uri": "https://localhost:8080/",
          "height": 71
        },
        "outputId": "6cb84ff9-3929-4d5d-a157-e394a8c08a08"
      },
      "source": [
        "print(movieDict[2])\n",
        "print(movieDict[4])"
      ],
      "execution_count": 43,
      "outputs": [
        {
          "output_type": "stream",
          "text": [
            "('GoldenEye (1995)', [0, 1, 1, 0, 0, 0, 0, 0, 0, 0, 0, 0, 0, 0, 0, 0, 1, 0, 0], 0.22298456260720412, 3.2061068702290076)\n",
            "('Get Shorty (1995)', [0, 1, 0, 0, 0, 1, 0, 0, 1, 0, 0, 0, 0, 0, 0, 0, 0, 0, 0], 0.3567753001715266, 3.550239234449761)\n"
          ],
          "name": "stdout"
        }
      ]
    },
    {
      "cell_type": "markdown",
      "metadata": {
        "id": "zqE642QhxcZa",
        "colab_type": "text"
      },
      "source": [
        "## Neighbors"
      ]
    },
    {
      "cell_type": "code",
      "metadata": {
        "id": "4CHd_Ia-xfRk",
        "colab_type": "code",
        "colab": {
          "base_uri": "https://localhost:8080/",
          "height": 187
        },
        "outputId": "8c7a6be5-ee79-4512-ef1e-13b06270e333"
      },
      "source": [
        "import operator\n",
        "\n",
        "def getNeighbors(movieID, K):\n",
        "  distances = []\n",
        "  for movie in movieDict:\n",
        "    if (movie != movieID):\n",
        "      dist = ComputeDistance(movieDict[movieID], movieDict[movie])\n",
        "      distances.append((movie, dist))\n",
        "  distances.sort(key=operator.itemgetter(1))\n",
        "  neighbors = []\n",
        "  for x in range(K):\n",
        "    neighbors.append(distances[x][0])\n",
        "  return neighbors\n",
        "\n",
        "K = 10\n",
        "avgRating = 0\n",
        "neighbors = getNeighbors(1, K)\n",
        "for neighbor in neighbors:\n",
        "  avgRating += movieDict[neighbor][3]\n",
        "  print(movieDict[neighbor][0] + \" \" + str(movieDict[neighbor][3]))\n",
        "\n",
        "avgRating /= float(K)"
      ],
      "execution_count": 56,
      "outputs": [
        {
          "output_type": "stream",
          "text": [
            "Liar Liar (1997) 3.156701030927835\n",
            "Aladdin (1992) 3.8127853881278537\n",
            "Willy Wonka and the Chocolate Factory (1971) 3.6319018404907975\n",
            "Monty Python and the Holy Grail (1974) 4.0664556962025316\n",
            "Full Monty, The (1997) 3.926984126984127\n",
            "George of the Jungle (1997) 2.685185185185185\n",
            "Beavis and Butt-head Do America (1996) 2.7884615384615383\n",
            "Birdcage, The (1996) 3.4436860068259385\n",
            "Home Alone (1990) 3.0875912408759123\n",
            "Aladdin and the King of Thieves (1996) 2.8461538461538463\n"
          ],
          "name": "stdout"
        }
      ]
    },
    {
      "cell_type": "code",
      "metadata": {
        "id": "JQYcckOf0MR4",
        "colab_type": "code",
        "colab": {
          "base_uri": "https://localhost:8080/",
          "height": 34
        },
        "outputId": "dd525948-00be-402f-e044-832d2570b478"
      },
      "source": [
        "# avg rating of K-nearest neighbors (predicted rating)\n",
        "avgRating"
      ],
      "execution_count": 50,
      "outputs": [
        {
          "output_type": "execute_result",
          "data": {
            "text/plain": [
              "3.3445905900235564"
            ]
          },
          "metadata": {
            "tags": []
          },
          "execution_count": 50
        }
      ]
    },
    {
      "cell_type": "code",
      "metadata": {
        "id": "7JzXDIYN0e0L",
        "colab_type": "code",
        "colab": {
          "base_uri": "https://localhost:8080/",
          "height": 85
        },
        "outputId": "17d6d9d1-bd32-40a1-9865-5bcc392439ee"
      },
      "source": [
        "# actual movie 1 rating\n",
        "movieDict[1]"
      ],
      "execution_count": 51,
      "outputs": [
        {
          "output_type": "execute_result",
          "data": {
            "text/plain": [
              "('Toy Story (1995)',\n",
              " [0, 0, 0, 1, 1, 1, 0, 0, 0, 0, 0, 0, 0, 0, 0, 0, 0, 0, 0],\n",
              " 0.7735849056603774,\n",
              " 3.8783185840707963)"
            ]
          },
          "metadata": {
            "tags": []
          },
          "execution_count": 51
        }
      ]
    }
  ]
}