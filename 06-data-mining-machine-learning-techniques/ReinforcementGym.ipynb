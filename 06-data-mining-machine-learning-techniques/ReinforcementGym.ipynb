{
  "nbformat": 4,
  "nbformat_minor": 0,
  "metadata": {
    "colab": {
      "name": "ReinforcementGym.ipynb",
      "provenance": [],
      "collapsed_sections": [],
      "authorship_tag": "ABX9TyP5gMdnYc8EhL0xitCmU38M",
      "include_colab_link": true
    },
    "kernelspec": {
      "name": "python3",
      "display_name": "Python 3"
    }
  },
  "cells": [
    {
      "cell_type": "markdown",
      "metadata": {
        "id": "view-in-github",
        "colab_type": "text"
      },
      "source": [
        "<a href=\"https://colab.research.google.com/github/leonistor/ml-manning/blob/master/06-data-mining-machine-learning-techniques/ReinforcementGym.ipynb\" target=\"_parent\"><img src=\"https://colab.research.google.com/assets/colab-badge.svg\" alt=\"Open In Colab\"/></a>"
      ]
    },
    {
      "cell_type": "markdown",
      "metadata": {
        "id": "5iW6qoljpB-j",
        "colab_type": "text"
      },
      "source": [
        "# Q- / Reinforcement Learning"
      ]
    },
    {
      "cell_type": "code",
      "metadata": {
        "id": "NzCFGEeFoJ7U",
        "colab_type": "code",
        "colab": {}
      },
      "source": [
        "# ! pip install gym"
      ],
      "execution_count": 0,
      "outputs": []
    },
    {
      "cell_type": "code",
      "metadata": {
        "id": "q1TMX7aXo_ak",
        "colab_type": "code",
        "colab": {
          "base_uri": "https://localhost:8080/",
          "height": 153
        },
        "outputId": "eab08a83-a0aa-4a44-f015-b9de1df1cfbb"
      },
      "source": [
        "import gym\n",
        "import random\n",
        "\n",
        "random.seed(1234)\n",
        "\n",
        "streets = gym.make(\"Taxi-v3\").env\n",
        "streets.render()"
      ],
      "execution_count": 7,
      "outputs": [
        {
          "output_type": "stream",
          "text": [
            "+---------+\n",
            "|\u001b[34;1mR\u001b[0m: | : :G|\n",
            "| : | :\u001b[43m \u001b[0m: |\n",
            "| : : : : |\n",
            "| | : | : |\n",
            "|Y| : |\u001b[35mB\u001b[0m: |\n",
            "+---------+\n",
            "\n"
          ],
          "name": "stdout"
        }
      ]
    },
    {
      "cell_type": "markdown",
      "metadata": {
        "id": "tqnSO4Saq6Qi",
        "colab_type": "text"
      },
      "source": [
        "### Q-Learning\n",
        "\n",
        "- R, G, B, Y - pickup and dropoff locations\n",
        "- Blue letter: pick passenger from\n",
        "- Magenta letter: drop passenger to\n",
        "\n",
        "State of the world:\n",
        "- location (5 x 5 grid -> 25 locations)\n",
        "- currennt destination (4 locations)\n",
        "- where theh passenger is (in taxi or 4 locations)\n",
        "- => 25 x 4 x 5 = 500 possible states\n",
        "\n",
        "For each state, 6 possible actions:\n",
        "- move S E W N\n",
        "- pickup\n",
        "- drop off\n",
        "\n",
        "Rewards and penalties:\n",
        "\n",
        "\n",
        "|              |     |\n",
        "|------------------------------------|----:|\n",
        "| successful drop-off                | +20 |\n",
        "| step taken while having passenger  |  -1 |\n",
        "| pickup or drop at illegal location | -10 |\n",
        "\n"
      ]
    },
    {
      "cell_type": "code",
      "metadata": {
        "id": "53zFvyGVpuVN",
        "colab_type": "code",
        "colab": {
          "base_uri": "https://localhost:8080/",
          "height": 153
        },
        "outputId": "51dce199-84fe-4974-9645-1bb91c06df67"
      },
      "source": [
        "# initial state\n",
        "# taxi location x: 2, y: 3, passenger at pickup location 2, destination location 0\n",
        "initial_state = streets.encode(2, 3, 2, 0)\n",
        "\n",
        "streets.s = initial_state\n",
        "streets.render()"
      ],
      "execution_count": 9,
      "outputs": [
        {
          "output_type": "stream",
          "text": [
            "+---------+\n",
            "|\u001b[35mR\u001b[0m: | : :G|\n",
            "| : | : : |\n",
            "| : : :\u001b[43m \u001b[0m: |\n",
            "| | : | : |\n",
            "|\u001b[34;1mY\u001b[0m| : |B: |\n",
            "+---------+\n",
            "\n"
          ],
          "name": "stdout"
        }
      ]
    },
    {
      "cell_type": "code",
      "metadata": {
        "id": "ezG0U1JtuK4Y",
        "colab_type": "code",
        "colab": {
          "base_uri": "https://localhost:8080/",
          "height": 119
        },
        "outputId": "d1b3afe7-0915-4ce5-d922-6fb7b6215d08"
      },
      "source": [
        "# initial reward table\n",
        "# [probability, next state id, reward, dropoff?]\n",
        "streets.P[initial_state]"
      ],
      "execution_count": 11,
      "outputs": [
        {
          "output_type": "execute_result",
          "data": {
            "text/plain": [
              "{0: [(1.0, 368, -1, False)],\n",
              " 1: [(1.0, 168, -1, False)],\n",
              " 2: [(1.0, 288, -1, False)],\n",
              " 3: [(1.0, 248, -1, False)],\n",
              " 4: [(1.0, 268, -10, False)],\n",
              " 5: [(1.0, 268, -10, False)]}"
            ]
          },
          "metadata": {
            "tags": []
          },
          "execution_count": 11
        }
      ]
    },
    {
      "cell_type": "code",
      "metadata": {
        "id": "rXUuVB7Run4X",
        "colab_type": "code",
        "colab": {}
      },
      "source": [
        "# Q-Learning\n",
        "# train 10_000 taxi runs, with 10% chance of exploratory (not use Q values)\n",
        "import numpy as np\n",
        "\n",
        "q_table = np.zeros([streets.observation_space.n, streets.action_space.n])\n",
        "\n",
        "learning_rate = 0.1\n",
        "discount_factor = 0.6\n",
        "exploration = 0.1\n",
        "epochs = 10_000\n",
        "\n",
        "for taxi_run in range(epochs):\n",
        "  state = streets.reset()\n",
        "  done = False\n",
        "  while not done:\n",
        "    random_value = random.uniform(0, 1)\n",
        "    if random_value < exploration:\n",
        "      # explore a random action\n",
        "      action = streets.action_space.sample()\n",
        "    else:\n",
        "      # use the action with the highest Q-value\n",
        "      action = np.argmax(q_table[state])\n",
        "    \n",
        "    next_state, reward, done, info = streets.step(action)\n",
        "\n",
        "    prev_q = q_table[state, action]\n",
        "    next_max_q = np.max(q_table[next_state])\n",
        "    new_q = (1 - learning_rate) * prev_q + \\\n",
        "        learning_rate * (reward + discount_factor * next_max_q)\n",
        "    q_table[state, action] = new_q\n",
        "\n",
        "    state = next_state"
      ],
      "execution_count": 0,
      "outputs": []
    },
    {
      "cell_type": "code",
      "metadata": {
        "id": "PN8eKxGFyyXE",
        "colab_type": "code",
        "colab": {
          "base_uri": "https://localhost:8080/",
          "height": 51
        },
        "outputId": "0a78151d-99f3-4316-be91-4e34fa8fac66"
      },
      "source": [
        "# see results\n",
        "q_table[initial_state]"
      ],
      "execution_count": 19,
      "outputs": [
        {
          "output_type": "execute_result",
          "data": {
            "text/plain": [
              "array([-2.42558047, -2.40696774, -2.41324747, -2.3639511 , -9.13287701,\n",
              "       -5.80430814])"
            ]
          },
          "metadata": {
            "tags": []
          },
          "execution_count": 19
        }
      ]
    },
    {
      "cell_type": "code",
      "metadata": {
        "id": "yofz3vvEzTyD",
        "colab_type": "code",
        "colab": {
          "base_uri": "https://localhost:8080/",
          "height": 187
        },
        "outputId": "404d4f45-f912-4d2d-e6cb-505a6e6bd1e7"
      },
      "source": [
        "from IPython.display import clear_output\n",
        "from time import sleep\n",
        "\n",
        "for tripnum in range(1, 11):\n",
        "    state = streets.reset()\n",
        "\n",
        "    done = False\n",
        "\n",
        "    while not done:\n",
        "        action = np.argmax(q_table[state])\n",
        "        next_state, reward, done, info = streets.step(action)\n",
        "        clear_output(wait=True)\n",
        "        print(\"Trip number \" + str(tripnum))\n",
        "        print(streets.render(mode='ansi'))\n",
        "        sleep(.5)\n",
        "        state = next_state\n",
        "    sleep(1)"
      ],
      "execution_count": 21,
      "outputs": [
        {
          "output_type": "stream",
          "text": [
            "Trip number 10\n",
            "+---------+\n",
            "|R: | : :G|\n",
            "| : | : : |\n",
            "| : : : : |\n",
            "| | : | : |\n",
            "|\u001b[35m\u001b[34;1m\u001b[43mY\u001b[0m\u001b[0m\u001b[0m| : |B: |\n",
            "+---------+\n",
            "  (Dropoff)\n",
            "\n"
          ],
          "name": "stdout"
        }
      ]
    }
  ]
}