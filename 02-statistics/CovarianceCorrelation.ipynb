{
  "nbformat": 4,
  "nbformat_minor": 0,
  "metadata": {
    "colab": {
      "name": "CovarianceCorrelation.ipynb",
      "provenance": [],
      "collapsed_sections": [],
      "authorship_tag": "ABX9TyNE7ENRUP1Utl9yecvQnwT+",
      "include_colab_link": true
    },
    "kernelspec": {
      "name": "python3",
      "display_name": "Python 3"
    }
  },
  "cells": [
    {
      "cell_type": "markdown",
      "metadata": {
        "id": "view-in-github",
        "colab_type": "text"
      },
      "source": [
        "<a href=\"https://colab.research.google.com/github/leonistor/ml-manning/blob/master/02-statistics/CovarianceCorrelation.ipynb\" target=\"_parent\"><img src=\"https://colab.research.google.com/assets/colab-badge.svg\" alt=\"Open In Colab\"/></a>"
      ]
    },
    {
      "cell_type": "markdown",
      "metadata": {
        "id": "xQepEn99Uw4M",
        "colab_type": "text"
      },
      "source": [
        "# Covariance and Correlation"
      ]
    },
    {
      "cell_type": "code",
      "metadata": {
        "id": "8l2octnWUwQK",
        "colab_type": "code",
        "colab": {
          "base_uri": "https://localhost:8080/",
          "height": 282
        },
        "outputId": "c1147d01-fabb-40e0-c28b-77640463228e"
      },
      "source": [
        "import numpy as np\n",
        "import matplotlib.pyplot as plt\n",
        "\n",
        "def deviation_from_mean(x):\n",
        "  xmean = np.mean(x)\n",
        "  return [xi - xmean for xi in x]\n",
        "\n",
        "def covariance(x, y):\n",
        "  n = len(x)\n",
        "  return np.dot(deviation_from_mean(x), deviation_from_mean(y)) / (n - 1)\n",
        "\n",
        "page_speeds = np.random.normal(3.0, 1.0, 1000)\n",
        "purchase_amount = np.random.normal(50.0, 10.0, 1000)\n",
        "\n",
        "plt.scatter(page_speeds, purchase_amount)\n",
        "\n",
        "cv = covariance(page_speeds, purchase_amount)\n",
        "print(\"cv: \", cv)"
      ],
      "execution_count": 13,
      "outputs": [
        {
          "output_type": "stream",
          "text": [
            "cv:  -0.11348998550739284\n"
          ],
          "name": "stdout"
        },
        {
          "output_type": "display_data",
          "data": {
            "image/png": "[encoded data removed]",
            "text/plain": [
              "<Figure size 432x288 with 1 Axes>"
            ]
          },
          "metadata": {
            "tags": [],
            "needs_background": "light"
          }
        }
      ]
    },
    {
      "cell_type": "code",
      "metadata": {
        "id": "7twge0bPXEBQ",
        "colab_type": "code",
        "colab": {
          "base_uri": "https://localhost:8080/",
          "height": 282
        },
        "outputId": "6afdf8f1-36f7-40b5-c122-f6dbb0da0842"
      },
      "source": [
        "purchase_amount = np.random.normal(50.0, 10.0, 1000) / page_speeds\n",
        "\n",
        "plt.scatter(page_speeds, purchase_amount)\n",
        "\n",
        "covariance(page_speeds, purchase_amount)"
      ],
      "execution_count": 17,
      "outputs": [
        {
          "output_type": "execute_result",
          "data": {
            "text/plain": [
              "-8.139049809163911"
            ]
          },
          "metadata": {
            "tags": []
          },
          "execution_count": 17
        },
        {
          "output_type": "display_data",
          "data": {
            "image/png": "[encoded data removed]",
            "text/plain": [
              "<Figure size 432x288 with 1 Axes>"
            ]
          },
          "metadata": {
            "tags": [],
            "needs_background": "light"
          }
        }
      ]
    },
    {
      "cell_type": "code",
      "metadata": {
        "id": "0yCKgIIGXb52",
        "colab_type": "code",
        "colab": {
          "base_uri": "https://localhost:8080/",
          "height": 34
        },
        "outputId": "8fa8e17b-2b3d-42f0-bc40-5933507afb9c"
      },
      "source": [
        "def correlation(x, y):\n",
        "  stddev_x = x.std()\n",
        "  stddev_y = y.std()\n",
        "  return covariance(x, y) / stddev_x / stddev_y\n",
        "\n",
        "correlation(page_speeds, purchase_amount)"
      ],
      "execution_count": 19,
      "outputs": [
        {
          "output_type": "execute_result",
          "data": {
            "text/plain": [
              "-0.7435231328091534"
            ]
          },
          "metadata": {
            "tags": []
          },
          "execution_count": 19
        }
      ]
    },
    {
      "cell_type": "code",
      "metadata": {
        "id": "UL8w5yBXX1-B",
        "colab_type": "code",
        "colab": {
          "base_uri": "https://localhost:8080/",
          "height": 51
        },
        "outputId": "28812c78-2fe2-4ccc-c815-a9164667db83"
      },
      "source": [
        "# numpy built-in\n",
        "\n",
        "np.corrcoef(page_speeds, purchase_amount)"
      ],
      "execution_count": 21,
      "outputs": [
        {
          "output_type": "execute_result",
          "data": {
            "text/plain": [
              "array([[ 1.        , -0.74277961],\n",
              "       [-0.74277961,  1.        ]])"
            ]
          },
          "metadata": {
            "tags": []
          },
          "execution_count": 21
        }
      ]
    },
    {
      "cell_type": "code",
      "metadata": {
        "id": "M3fG5jF0YXaZ",
        "colab_type": "code",
        "colab": {
          "base_uri": "https://localhost:8080/",
          "height": 51
        },
        "outputId": "7182a247-ebef-46d1-9c7d-7e8f0d4c661e"
      },
      "source": [
        "np.cov(page_speeds, purchase_amount)"
      ],
      "execution_count": 22,
      "outputs": [
        {
          "output_type": "execute_result",
          "data": {
            "text/plain": [
              "array([[  0.94685306,  -8.13904981],\n",
              "       [ -8.13904981, 126.80748196]])"
            ]
          },
          "metadata": {
            "tags": []
          },
          "execution_count": 22
        }
      ]
    }
  ]
}