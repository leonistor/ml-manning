{
  "nbformat": 4,
  "nbformat_minor": 0,
  "metadata": {
    "colab": {
      "name": "Distributions.ipynb",
      "provenance": [],
      "authorship_tag": "ABX9TyNHIvIz05/OxaLQYzmrie9t",
      "include_colab_link": true
    },
    "kernelspec": {
      "name": "python3",
      "display_name": "Python 3"
    }
  },
  "cells": [
    {
      "cell_type": "markdown",
      "metadata": {
        "id": "view-in-github",
        "colab_type": "text"
      },
      "source": [
        "<a href=\"https://colab.research.google.com/github/leonistor/ml-manning/blob/master/02-statistics/Distributions.ipynb\" target=\"_parent\"><img src=\"https://colab.research.google.com/assets/colab-badge.svg\" alt=\"Open In Colab\"/></a>"
      ]
    },
    {
      "cell_type": "markdown",
      "metadata": {
        "id": "JjN2zlTlV_rJ",
        "colab_type": "text"
      },
      "source": [
        "# Examples of Distributions"
      ]
    },
    {
      "cell_type": "markdown",
      "metadata": {
        "id": "d8_jMd8CWf8y",
        "colab_type": "text"
      },
      "source": [
        "## Uniform distribution"
      ]
    },
    {
      "cell_type": "code",
      "metadata": {
        "id": "cO8xZP7KV9Dw",
        "colab_type": "code",
        "colab": {
          "base_uri": "https://localhost:8080/",
          "height": 265
        },
        "outputId": "c20ad48e-3a1d-4604-aab9-a7ad54d5f6c1"
      },
      "source": [
        "import numpy as np\n",
        "import matplotlib.pyplot as plt\n",
        "\n",
        "values = np.random.uniform(-10.0, 10.0, 100_000)\n",
        "plt.hist(values, 50)\n",
        "plt.show()"
      ],
      "execution_count": 4,
      "outputs": [
        {
          "output_type": "display_data",
          "data": {
            "image/png": "[encoded data removed]",
            "text/plain": [
              "<Figure size 432x288 with 1 Axes>"
            ]
          },
          "metadata": {
            "tags": [],
            "needs_background": "light"
          }
        }
      ]
    },
    {
      "cell_type": "markdown",
      "metadata": {
        "id": "R02KiqSSXFEd",
        "colab_type": "text"
      },
      "source": [
        "## Normal / Gaussian"
      ]
    },
    {
      "cell_type": "code",
      "metadata": {
        "id": "wZFXsq5HWeOa",
        "colab_type": "code",
        "colab": {
          "base_uri": "https://localhost:8080/",
          "height": 282
        },
        "outputId": "aeb9c7ba-342c-4a1c-8eaa-dd05a62f8893"
      },
      "source": [
        "from scipy.stats import norm\n",
        "# norm.pdf?\n",
        "# arange: evenly spaced values in interval\n",
        "x = np.arange(-3, 3, 0.001)\n",
        "plt.plot(x, norm.pdf(x))"
      ],
      "execution_count": 5,
      "outputs": [
        {
          "output_type": "execute_result",
          "data": {
            "text/plain": [
              "[<matplotlib.lines.Line2D at 0x7f0240e102b0>]"
            ]
          },
          "metadata": {
            "tags": []
          },
          "execution_count": 5
        },
        {
          "output_type": "display_data",
          "data": {
            "image/png": "[encoded data removed]",
            "text/plain": [
              "<Figure size 432x288 with 1 Axes>"
            ]
          },
          "metadata": {
            "tags": [],
            "needs_background": "light"
          }
        }
      ]
    },
    {
      "cell_type": "code",
      "metadata": {
        "id": "GFVYNeiwXyRr",
        "colab_type": "code",
        "colab": {
          "base_uri": "https://localhost:8080/",
          "height": 267
        },
        "outputId": "d33d030a-475b-4511-f2d7-f27cd21aeb30"
      },
      "source": [
        "# mean (miu)\n",
        "mu = 5.0\n",
        "# std dev\n",
        "sigma = 2.0\n",
        "values = np.random.normal(mu, sigma, 10_000)\n",
        "plt.hist(values, 50); plt.show()"
      ],
      "execution_count": 6,
      "outputs": [
        {
          "output_type": "display_data",
          "data": {
            "image/png": "[encoded data removed]",
            "text/plain": [
              "<Figure size 432x288 with 1 Axes>"
            ]
          },
          "metadata": {
            "tags": [],
            "needs_background": "light"
          }
        }
      ]
    },
    {
      "cell_type": "markdown",
      "metadata": {
        "id": "pRv1fINOY0uo",
        "colab_type": "text"
      },
      "source": [
        "## Exponential / \"Power Law\""
      ]
    },
    {
      "cell_type": "code",
      "metadata": {
        "id": "4s8crnqAY3wb",
        "colab_type": "code",
        "colab": {
          "base_uri": "https://localhost:8080/",
          "height": 282
        },
        "outputId": "ce386061-b478-4d9b-85d5-9cb92b0b822c"
      },
      "source": [
        "from scipy.stats import expon\n",
        "\n",
        "x = np.arange(0, 10, 0.001)\n",
        "plt.plot(x, expon.pdf(x))"
      ],
      "execution_count": 7,
      "outputs": [
        {
          "output_type": "execute_result",
          "data": {
            "text/plain": [
              "[<matplotlib.lines.Line2D at 0x7f024a623470>]"
            ]
          },
          "metadata": {
            "tags": []
          },
          "execution_count": 7
        },
        {
          "output_type": "display_data",
          "data": {
            "image/png": "[encoded data removed]",
            "text/plain": [
              "<Figure size 432x288 with 1 Axes>"
            ]
          },
          "metadata": {
            "tags": [],
            "needs_background": "light"
          }
        }
      ]
    },
    {
      "cell_type": "markdown",
      "metadata": {
        "id": "ndDxcCg3ZSlT",
        "colab_type": "text"
      },
      "source": [
        "## Binomial Probability Mass Function\n",
        "\n",
        "Discrete data -> __mass__!"
      ]
    },
    {
      "cell_type": "code",
      "metadata": {
        "id": "xr9mLZRaZWXd",
        "colab_type": "code",
        "colab": {
          "base_uri": "https://localhost:8080/",
          "height": 282
        },
        "outputId": "3ee919eb-273f-45dc-c0e6-d55b6b646009"
      },
      "source": [
        "from scipy.stats import binom\n",
        "\n",
        "n, p = 10, 0.5\n",
        "x = np.arange(0, 10, 0.001)\n",
        "plt.plot(x, binom.pmf(x, n, p))"
      ],
      "execution_count": 11,
      "outputs": [
        {
          "output_type": "execute_result",
          "data": {
            "text/plain": [
              "[<matplotlib.lines.Line2D at 0x7f0240d37f60>]"
            ]
          },
          "metadata": {
            "tags": []
          },
          "execution_count": 11
        },
        {
          "output_type": "display_data",
          "data": {
            "image/png": "[encoded data removed]",
            "text/plain": [
              "<Figure size 432x288 with 1 Axes>"
            ]
          },
          "metadata": {
            "tags": [],
            "needs_background": "light"
          }
        }
      ]
    },
    {
      "cell_type": "markdown",
      "metadata": {
        "id": "_QkglJHxaRcI",
        "colab_type": "text"
      },
      "source": [
        "## Poisson Probability Mass Function\n",
        "\n",
        "Site gets on average (mean) 500 visits a day. What is the probability of getting 550?"
      ]
    },
    {
      "cell_type": "code",
      "metadata": {
        "id": "FSF9fJ_8afn7",
        "colab_type": "code",
        "colab": {
          "base_uri": "https://localhost:8080/",
          "height": 299
        },
        "outputId": "1a2517d0-08cf-4def-96c7-a96731f9a29c"
      },
      "source": [
        "from scipy.stats import poisson\n",
        "\n",
        "mu = 500\n",
        "x = np.arange(400, 600, 0.5)\n",
        "p_550 = poisson.pmf(550, mu)\n",
        "print(\"{:.2%}\".format(p_550))\n",
        "plt.plot(x, poisson.pmf(x, mu))"
      ],
      "execution_count": 19,
      "outputs": [
        {
          "output_type": "stream",
          "text": [
            "0.15%\n"
          ],
          "name": "stdout"
        },
        {
          "output_type": "execute_result",
          "data": {
            "text/plain": [
              "[<matplotlib.lines.Line2D at 0x7f0240999fd0>]"
            ]
          },
          "metadata": {
            "tags": []
          },
          "execution_count": 19
        },
        {
          "output_type": "display_data",
          "data": {
            "image/png": "[encoded data removed]",
            "text/plain": [
              "<Figure size 432x288 with 1 Axes>"
            ]
          },
          "metadata": {
            "tags": [],
            "needs_background": "light"
          }
        }
      ]
    }
  ]
}