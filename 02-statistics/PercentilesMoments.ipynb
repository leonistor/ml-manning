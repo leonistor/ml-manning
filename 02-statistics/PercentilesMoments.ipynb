{
  "nbformat": 4,
  "nbformat_minor": 0,
  "metadata": {
    "colab": {
      "name": "PercentilesMoments.ipynb",
      "provenance": [],
      "authorship_tag": "ABX9TyNgcEhaBrszI++fo4XdZXhd",
      "include_colab_link": true
    },
    "kernelspec": {
      "name": "python3",
      "display_name": "Python 3"
    }
  },
  "cells": [
    {
      "cell_type": "markdown",
      "metadata": {
        "id": "view-in-github",
        "colab_type": "text"
      },
      "source": [
        "<a href=\"https://colab.research.google.com/github/leonistor/ml-manning/blob/master/02-statistics/PercentilesMoments.ipynb\" target=\"_parent\"><img src=\"https://colab.research.google.com/assets/colab-badge.svg\" alt=\"Open In Colab\"/></a>"
      ]
    },
    {
      "cell_type": "markdown",
      "metadata": {
        "id": "WZfpqIeqGa0W",
        "colab_type": "text"
      },
      "source": [
        "# Percentiles"
      ]
    },
    {
      "cell_type": "code",
      "metadata": {
        "id": "Oqq6qfyCGXf_",
        "colab_type": "code",
        "colab": {
          "base_uri": "https://localhost:8080/",
          "height": 265
        },
        "outputId": "e0aefde3-e9f9-4bca-86eb-63e038217ba9"
      },
      "source": [
        "import numpy as np\n",
        "import matplotlib.pyplot as plt\n",
        "\n",
        "vals = np.random.normal(0, 0.5, 10_000)\n",
        "\n",
        "plt.hist(vals, 50)\n",
        "plt.show()"
      ],
      "execution_count": 6,
      "outputs": [
        {
          "output_type": "display_data",
          "data": {
            "image/png": "[encoded data removed]",
            "text/plain": [
              "<Figure size 432x288 with 1 Axes>"
            ]
          },
          "metadata": {
            "tags": [],
            "needs_background": "light"
          }
        }
      ]
    },
    {
      "cell_type": "code",
      "metadata": {
        "id": "uIsleZFXHMIx",
        "colab_type": "code",
        "colab": {
          "base_uri": "https://localhost:8080/",
          "height": 34
        },
        "outputId": "7697bb2c-339d-4212-a65b-e6fa111f3ab5"
      },
      "source": [
        "# 50% of data is less than; also median here\n",
        "np.percentile(vals, 50)"
      ],
      "execution_count": 8,
      "outputs": [
        {
          "output_type": "execute_result",
          "data": {
            "text/plain": [
              "-0.005374025541770739"
            ]
          },
          "metadata": {
            "tags": []
          },
          "execution_count": 8
        }
      ]
    },
    {
      "cell_type": "code",
      "metadata": {
        "id": "SmpvaAb8HgZR",
        "colab_type": "code",
        "colab": {
          "base_uri": "https://localhost:8080/",
          "height": 34
        },
        "outputId": "6a2d5987-7ab6-45b7-dd3b-8d78fb585efc"
      },
      "source": [
        "np.percentile(vals, 90)"
      ],
      "execution_count": 10,
      "outputs": [
        {
          "output_type": "execute_result",
          "data": {
            "text/plain": [
              "0.6272427861461202"
            ]
          },
          "metadata": {
            "tags": []
          },
          "execution_count": 10
        }
      ]
    },
    {
      "cell_type": "code",
      "metadata": {
        "id": "idtFtRbTHr_T",
        "colab_type": "code",
        "colab": {
          "base_uri": "https://localhost:8080/",
          "height": 34
        },
        "outputId": "bedb2fb4-2328-4846-eff8-cc8ca64f643b"
      },
      "source": [
        "# 20% of data is less than this\n",
        "np.percentile(vals, 20)"
      ],
      "execution_count": 11,
      "outputs": [
        {
          "output_type": "execute_result",
          "data": {
            "text/plain": [
              "-0.4252823507296144"
            ]
          },
          "metadata": {
            "tags": []
          },
          "execution_count": 11
        }
      ]
    },
    {
      "cell_type": "markdown",
      "metadata": {
        "id": "05Y3-d4YJ4DZ",
        "colab_type": "text"
      },
      "source": [
        "## Moments"
      ]
    },
    {
      "cell_type": "markdown",
      "metadata": {
        "id": "ttfcD8GhKOfH",
        "colab_type": "text"
      },
      "source": [
        "### 1<sup>st</sup> moment: mean\n",
        "\n",
        "\n"
      ]
    },
    {
      "cell_type": "code",
      "metadata": {
        "id": "Xno5xl-sJ9rd",
        "colab_type": "code",
        "colab": {
          "base_uri": "https://localhost:8080/",
          "height": 34
        },
        "outputId": "4e5e4754-f6ab-4b0b-b9b9-68945a30bad1"
      },
      "source": [
        "# mean\n",
        "np.mean(vals)"
      ],
      "execution_count": 12,
      "outputs": [
        {
          "output_type": "execute_result",
          "data": {
            "text/plain": [
              "-0.005554675261574938"
            ]
          },
          "metadata": {
            "tags": []
          },
          "execution_count": 12
        }
      ]
    },
    {
      "cell_type": "markdown",
      "metadata": {
        "id": "O3HUYC-FKzgW",
        "colab_type": "text"
      },
      "source": [
        "### 2<sup>nd</sup> moment: variance"
      ]
    },
    {
      "cell_type": "code",
      "metadata": {
        "id": "766RC8XFK7TY",
        "colab_type": "code",
        "colab": {
          "base_uri": "https://localhost:8080/",
          "height": 34
        },
        "outputId": "61038784-3776-41d0-a097-2247b24d2d3d"
      },
      "source": [
        "# variance (stdev squared): a measure of the spread\n",
        "np.var(vals)"
      ],
      "execution_count": 14,
      "outputs": [
        {
          "output_type": "execute_result",
          "data": {
            "text/plain": [
              "0.2436202270664543"
            ]
          },
          "metadata": {
            "tags": []
          },
          "execution_count": 14
        }
      ]
    },
    {
      "cell_type": "markdown",
      "metadata": {
        "id": "wdkG_AN4LQfU",
        "colab_type": "text"
      },
      "source": [
        "### 3<sup>rd</sup> moment: skew"
      ]
    },
    {
      "cell_type": "code",
      "metadata": {
        "id": "xU9Zw5R0Lal9",
        "colab_type": "code",
        "colab": {
          "base_uri": "https://localhost:8080/",
          "height": 34
        },
        "outputId": "e53fb702-e7b1-4dd3-e829-b18b0224450b"
      },
      "source": [
        "# how much the shape leans toward left or right\n",
        "import scipy.stats as sp\n",
        "sp.skew(vals)"
      ],
      "execution_count": 15,
      "outputs": [
        {
          "output_type": "execute_result",
          "data": {
            "text/plain": [
              "-0.0035743292638485396"
            ]
          },
          "metadata": {
            "tags": []
          },
          "execution_count": 15
        }
      ]
    },
    {
      "cell_type": "markdown",
      "metadata": {
        "id": "9JRC5f-ELvp0",
        "colab_type": "text"
      },
      "source": [
        "### 4<sup>th</sup> moment: kurtosis"
      ]
    },
    {
      "cell_type": "code",
      "metadata": {
        "id": "P-nxO3PSL3n3",
        "colab_type": "code",
        "colab": {
          "base_uri": "https://localhost:8080/",
          "height": 34
        },
        "outputId": "1d85c710-f6d8-462b-c4c3-6ab959145d3e"
      },
      "source": [
        "# shape of the tail\n",
        "sp.kurtosis(vals)"
      ],
      "execution_count": 16,
      "outputs": [
        {
          "output_type": "execute_result",
          "data": {
            "text/plain": [
              "-0.05808431940016856"
            ]
          },
          "metadata": {
            "tags": []
          },
          "execution_count": 16
        }
      ]
    }
  ]
}