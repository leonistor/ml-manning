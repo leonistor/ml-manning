{
  "nbformat": 4,
  "nbformat_minor": 0,
  "metadata": {
    "colab": {
      "name": "MeanMedianMode.ipynb",
      "provenance": [],
      "collapsed_sections": [],
      "authorship_tag": "ABX9TyPLjxgDrsbzR1Nb7Gius4W7",
      "include_colab_link": true
    },
    "kernelspec": {
      "name": "python3",
      "display_name": "Python 3"
    }
  },
  "cells": [
    {
      "cell_type": "markdown",
      "metadata": {
        "id": "view-in-github",
        "colab_type": "text"
      },
      "source": [
        "<a href=\"https://colab.research.google.com/github/leonistor/ml-manning/blob/master/02-statistics/MeanMedianMode.ipynb\" target=\"_parent\"><img src=\"https://colab.research.google.com/assets/colab-badge.svg\" alt=\"Open In Colab\"/></a>"
      ]
    },
    {
      "cell_type": "markdown",
      "metadata": {
        "id": "pr57vilaDTTS",
        "colab_type": "text"
      },
      "source": [
        "# Mean, Median and Mode. NumPy Intro"
      ]
    },
    {
      "cell_type": "code",
      "metadata": {
        "id": "Y54HDgpxDHVw",
        "colab_type": "code",
        "colab": {
          "base_uri": "https://localhost:8080/",
          "height": 34
        },
        "outputId": "174bf569-43cc-4c39-8640-09c4ac751bf6"
      },
      "source": [
        "import numpy as np\n",
        "\n",
        "# 10_000 income data, centered around 27_000$, with standard deviation of 15_000$\n",
        "\n",
        "incomes = np.random.normal(27_000, 15_000, 10_000)\n",
        "np.mean(incomes)"
      ],
      "execution_count": 18,
      "outputs": [
        {
          "output_type": "execute_result",
          "data": {
            "text/plain": [
              "27037.878344162786"
            ]
          },
          "metadata": {
            "tags": []
          },
          "execution_count": 18
        }
      ]
    },
    {
      "cell_type": "code",
      "metadata": {
        "id": "wH0w6ODnD-x8",
        "colab_type": "code",
        "colab": {
          "base_uri": "https://localhost:8080/",
          "height": 265
        },
        "outputId": "de2a00ca-4a75-4d87-e4a0-3ea9d528bb1e"
      },
      "source": [
        "%matplotlib inline\n",
        "import matplotlib.pyplot as plt\n",
        "\n",
        "# segment into 50 buckets, histogram\n",
        "plt.hist(incomes, 50)\n",
        "plt.show()"
      ],
      "execution_count": 19,
      "outputs": [
        {
          "output_type": "display_data",
          "data": {
            "image/png": "[encoded data removed]",
            "text/plain": [
              "<Figure size 432x288 with 1 Axes>"
            ]
          },
          "metadata": {
            "tags": [],
            "needs_background": "light"
          }
        }
      ]
    },
    {
      "cell_type": "code",
      "metadata": {
        "id": "-eXW2juEE7OS",
        "colab_type": "code",
        "colab": {
          "base_uri": "https://localhost:8080/",
          "height": 34
        },
        "outputId": "78fa3fd1-40f6-4353-9244-2c3726bf7057"
      },
      "source": [
        "np.median(incomes)"
      ],
      "execution_count": 20,
      "outputs": [
        {
          "output_type": "execute_result",
          "data": {
            "text/plain": [
              "26937.60808030564"
            ]
          },
          "metadata": {
            "tags": []
          },
          "execution_count": 20
        }
      ]
    },
    {
      "cell_type": "code",
      "metadata": {
        "id": "MFSBUWdPFC7g",
        "colab_type": "code",
        "colab": {
          "base_uri": "https://localhost:8080/",
          "height": 51
        },
        "outputId": "4a71ecf4-ac22-4803-8029-c13e845b5ff1"
      },
      "source": [
        "# outliers!\n",
        "incomes = np.append(incomes, [1_000_000_000])\n",
        "\n",
        "new_median = np.median(incomes)\n",
        "new_mean = np.mean(incomes)\n",
        "\n",
        "print(\"{:_.2f}\".format(new_median))\n",
        "print(\"{:_.2f}\".format(new_mean))"
      ],
      "execution_count": 22,
      "outputs": [
        {
          "output_type": "stream",
          "text": [
            "26_938.38\n",
            "226_992.48\n"
          ],
          "name": "stdout"
        }
      ]
    },
    {
      "cell_type": "markdown",
      "metadata": {
        "id": "FbLAsZnaH-Bg",
        "colab_type": "text"
      },
      "source": [
        "## Mode"
      ]
    },
    {
      "cell_type": "code",
      "metadata": {
        "id": "NztQnZ3cH_8c",
        "colab_type": "code",
        "colab": {
          "base_uri": "https://localhost:8080/",
          "height": 34
        },
        "outputId": "1230c9a4-8d2c-4075-ed46-2e8dccfe9716"
      },
      "source": [
        "# age data between 18 and 90 for 500 people\n",
        "ages = np.random.randint(18, high=90, size=500)\n",
        "ages[30:40]"
      ],
      "execution_count": 26,
      "outputs": [
        {
          "output_type": "execute_result",
          "data": {
            "text/plain": [
              "array([22, 76, 39, 71, 65, 61, 58, 52, 57, 23])"
            ]
          },
          "metadata": {
            "tags": []
          },
          "execution_count": 26
        }
      ]
    },
    {
      "cell_type": "code",
      "metadata": {
        "id": "_BgsjHWxIlbL",
        "colab_type": "code",
        "colab": {
          "base_uri": "https://localhost:8080/",
          "height": 34
        },
        "outputId": "c11642a6-faf2-413b-9550-fbc2a594c7f0"
      },
      "source": [
        "from scipy import stats\n",
        "stats.mode(ages)"
      ],
      "execution_count": 28,
      "outputs": [
        {
          "output_type": "execute_result",
          "data": {
            "text/plain": [
              "ModeResult(mode=array([25]), count=array([15]))"
            ]
          },
          "metadata": {
            "tags": []
          },
          "execution_count": 28
        }
      ]
    },
    {
      "cell_type": "markdown",
      "metadata": {
        "id": "i81fHcrYJVb1",
        "colab_type": "text"
      },
      "source": [
        "## Practice"
      ]
    },
    {
      "cell_type": "code",
      "metadata": {
        "id": "Sk3po9IEJWtJ",
        "colab_type": "code",
        "colab": {
          "base_uri": "https://localhost:8080/",
          "height": 265
        },
        "outputId": "9767c94e-112a-4511-e7bf-3649812671f1"
      },
      "source": [
        "purchases = np.random.normal(100.0, 20.0, 10_000)\n",
        "\n",
        "plt.hist(purchases, bins=50)\n",
        "plt.show()"
      ],
      "execution_count": 31,
      "outputs": [
        {
          "output_type": "display_data",
          "data": {
            "image/png": "[encoded data removed]",
            "text/plain": [
              "<Figure size 432x288 with 1 Axes>"
            ]
          },
          "metadata": {
            "tags": [],
            "needs_background": "light"
          }
        }
      ]
    },
    {
      "cell_type": "code",
      "metadata": {
        "id": "p_p1Bno9J5PA",
        "colab_type": "code",
        "colab": {
          "base_uri": "https://localhost:8080/",
          "height": 102
        },
        "outputId": "ef6fd1f6-d69c-4c62-c3e9-b2d83ac6ad40"
      },
      "source": [
        "print(\"{:_.2f}\".format(np.median(purchases)))\n",
        "print(\"{:_.2f}\".format(np.mean(purchases)))\n",
        "purchases = np.append(purchases, [900_000])\n",
        "print(\"outlier!\")\n",
        "print(\"{:_.2f}\".format(np.median(purchases)))\n",
        "print(\"{:_.2f}\".format(np.mean(purchases)))\n"
      ],
      "execution_count": 40,
      "outputs": [
        {
          "output_type": "stream",
          "text": [
            "100.11\n",
            "220.78\n",
            "outlier!\n",
            "100.11\n",
            "310.69\n"
          ],
          "name": "stdout"
        }
      ]
    }
  ]
}