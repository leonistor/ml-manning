{
  "nbformat": 4,
  "nbformat_minor": 0,
  "metadata": {
    "colab": {
      "name": "ML-Stack-NumPy.ipynb",
      "provenance": [],
      "collapsed_sections": [],
      "authorship_tag": "ABX9TyMeM392u3isEm5uLT0YdJbL",
      "include_colab_link": true
    },
    "kernelspec": {
      "name": "python3",
      "display_name": "Python 3"
    }
  },
  "cells": [
    {
      "cell_type": "markdown",
      "metadata": {
        "id": "view-in-github",
        "colab_type": "text"
      },
      "source": [
        "<a href=\"https://colab.research.google.com/github/leonistor/ml-manning/blob/master/basics-ml-stack/ML_Stack_NumPy.ipynb\" target=\"_parent\"><img src=\"https://colab.research.google.com/assets/colab-badge.svg\" alt=\"Open In Colab\"/></a>"
      ]
    },
    {
      "cell_type": "markdown",
      "metadata": {
        "id": "4wnYuARw3JPm",
        "colab_type": "text"
      },
      "source": [
        "# ML Stack: NumPy"
      ]
    },
    {
      "cell_type": "code",
      "metadata": {
        "id": "VlS6Vf633dhh",
        "colab_type": "code",
        "colab": {}
      },
      "source": [
        "import numpy as np"
      ],
      "execution_count": 0,
      "outputs": []
    },
    {
      "cell_type": "markdown",
      "metadata": {
        "id": "6pE7c-7u4NVl",
        "colab_type": "text"
      },
      "source": [
        "## List vs Array"
      ]
    },
    {
      "cell_type": "code",
      "metadata": {
        "id": "a7vQsRde3DvE",
        "colab_type": "code",
        "colab": {
          "base_uri": "https://localhost:8080/",
          "height": 34
        },
        "outputId": "44a5ad7a-5efd-4d75-d679-8159b7fc753f"
      },
      "source": [
        "L = list(range(1,6)); L"
      ],
      "execution_count": 17,
      "outputs": [
        {
          "output_type": "execute_result",
          "data": {
            "text/plain": [
              "[1, 2, 3, 4, 5]"
            ]
          },
          "metadata": {
            "tags": []
          },
          "execution_count": 17
        }
      ]
    },
    {
      "cell_type": "code",
      "metadata": {
        "id": "Qd30Wghc37Id",
        "colab_type": "code",
        "colab": {
          "base_uri": "https://localhost:8080/",
          "height": 34
        },
        "outputId": "e6cac29c-04e9-41ab-9ca1-dd3286ca1566"
      },
      "source": [
        "A = np.array(range(1,6)); A"
      ],
      "execution_count": 19,
      "outputs": [
        {
          "output_type": "execute_result",
          "data": {
            "text/plain": [
              "array([1, 2, 3, 4, 5])"
            ]
          },
          "metadata": {
            "tags": []
          },
          "execution_count": 19
        }
      ]
    },
    {
      "cell_type": "code",
      "metadata": {
        "id": "0b9W3rIP4QA3",
        "colab_type": "code",
        "colab": {
          "base_uri": "https://localhost:8080/",
          "height": 34
        },
        "outputId": "9e495ee4-2b0f-455f-9681-678a3c064e58"
      },
      "source": [
        "L2 = [x ** 2 for x in L]; L2"
      ],
      "execution_count": 20,
      "outputs": [
        {
          "output_type": "execute_result",
          "data": {
            "text/plain": [
              "[1, 4, 9, 16, 25]"
            ]
          },
          "metadata": {
            "tags": []
          },
          "execution_count": 20
        }
      ]
    },
    {
      "cell_type": "code",
      "metadata": {
        "id": "6wgcd57z4Ynk",
        "colab_type": "code",
        "colab": {
          "base_uri": "https://localhost:8080/",
          "height": 34
        },
        "outputId": "b1b5c321-23ae-47f2-fc07-8ef1c4282181"
      },
      "source": [
        "A ** 2"
      ],
      "execution_count": 21,
      "outputs": [
        {
          "output_type": "execute_result",
          "data": {
            "text/plain": [
              "array([ 1,  4,  9, 16, 25])"
            ]
          },
          "metadata": {
            "tags": []
          },
          "execution_count": 21
        }
      ]
    },
    {
      "cell_type": "code",
      "metadata": {
        "id": "N4ex4eg_4d8N",
        "colab_type": "code",
        "colab": {
          "base_uri": "https://localhost:8080/",
          "height": 34
        },
        "outputId": "cb6f2174-7c1f-430f-dd1e-67af94746381"
      },
      "source": [
        "np.log(A)"
      ],
      "execution_count": 22,
      "outputs": [
        {
          "output_type": "execute_result",
          "data": {
            "text/plain": [
              "array([0.        , 0.69314718, 1.09861229, 1.38629436, 1.60943791])"
            ]
          },
          "metadata": {
            "tags": []
          },
          "execution_count": 22
        }
      ]
    },
    {
      "cell_type": "code",
      "metadata": {
        "id": "l82u77064fwD",
        "colab_type": "code",
        "colab": {
          "base_uri": "https://localhost:8080/",
          "height": 51
        },
        "outputId": "5e79aeb4-94e6-456d-fc54-bb5787024dd4"
      },
      "source": [
        "np.exp(A)"
      ],
      "execution_count": 23,
      "outputs": [
        {
          "output_type": "execute_result",
          "data": {
            "text/plain": [
              "array([  2.71828183,   7.3890561 ,  20.08553692,  54.59815003,\n",
              "       148.4131591 ])"
            ]
          },
          "metadata": {
            "tags": []
          },
          "execution_count": 23
        }
      ]
    },
    {
      "cell_type": "markdown",
      "metadata": {
        "id": "WN0D8aSW81wU",
        "colab_type": "text"
      },
      "source": [
        "## Product"
      ]
    },
    {
      "cell_type": "code",
      "metadata": {
        "id": "ByEbIHYA4t8n",
        "colab_type": "code",
        "colab": {
          "base_uri": "https://localhost:8080/",
          "height": 34
        },
        "outputId": "d0f90c7a-43da-4b4e-9fae-1bdf9d84c000"
      },
      "source": [
        "a = np.array([1,2])\n",
        "b = np.array([2,1])\n",
        "a * b"
      ],
      "execution_count": 24,
      "outputs": [
        {
          "output_type": "execute_result",
          "data": {
            "text/plain": [
              "array([2, 2])"
            ]
          },
          "metadata": {
            "tags": []
          },
          "execution_count": 24
        }
      ]
    },
    {
      "cell_type": "code",
      "metadata": {
        "id": "k1VRr-4n9Ubq",
        "colab_type": "code",
        "colab": {
          "base_uri": "https://localhost:8080/",
          "height": 34
        },
        "outputId": "abea813a-98bc-4218-b762-5777f7d847d2"
      },
      "source": [
        "np.sum(a*b)"
      ],
      "execution_count": 25,
      "outputs": [
        {
          "output_type": "execute_result",
          "data": {
            "text/plain": [
              "4"
            ]
          },
          "metadata": {
            "tags": []
          },
          "execution_count": 25
        }
      ]
    },
    {
      "cell_type": "code",
      "metadata": {
        "id": "ucT_CMhE9XTs",
        "colab_type": "code",
        "colab": {
          "base_uri": "https://localhost:8080/",
          "height": 34
        },
        "outputId": "2a084d55-aa98-48fb-b7e6-0e8eb2196286"
      },
      "source": [
        "(a * b).sum()"
      ],
      "execution_count": 27,
      "outputs": [
        {
          "output_type": "execute_result",
          "data": {
            "text/plain": [
              "4"
            ]
          },
          "metadata": {
            "tags": []
          },
          "execution_count": 27
        }
      ]
    },
    {
      "cell_type": "code",
      "metadata": {
        "id": "A7y6ns3g9f4o",
        "colab_type": "code",
        "colab": {
          "base_uri": "https://localhost:8080/",
          "height": 34
        },
        "outputId": "35dafe3b-ce1b-4377-821f-549502129863"
      },
      "source": [
        "# produs vectorial\n",
        "np.dot(a, b)"
      ],
      "execution_count": 29,
      "outputs": [
        {
          "output_type": "execute_result",
          "data": {
            "text/plain": [
              "4"
            ]
          },
          "metadata": {
            "tags": []
          },
          "execution_count": 29
        }
      ]
    },
    {
      "cell_type": "code",
      "metadata": {
        "id": "cAfDdsl59q8f",
        "colab_type": "code",
        "colab": {
          "base_uri": "https://localhost:8080/",
          "height": 34
        },
        "outputId": "14367bb7-045d-4683-8d66-3743cd9b4359"
      },
      "source": [
        "a.dot(b) == b.dot(a)"
      ],
      "execution_count": 31,
      "outputs": [
        {
          "output_type": "execute_result",
          "data": {
            "text/plain": [
              "True"
            ]
          },
          "metadata": {
            "tags": []
          },
          "execution_count": 31
        }
      ]
    },
    {
      "cell_type": "code",
      "metadata": {
        "id": "MFC5_fqZ9xZd",
        "colab_type": "code",
        "colab": {
          "base_uri": "https://localhost:8080/",
          "height": 34
        },
        "outputId": "b2f27367-434d-414d-d890-6bb331ea6c75"
      },
      "source": [
        "a @ b"
      ],
      "execution_count": 33,
      "outputs": [
        {
          "output_type": "execute_result",
          "data": {
            "text/plain": [
              "4"
            ]
          },
          "metadata": {
            "tags": []
          },
          "execution_count": 33
        }
      ]
    },
    {
      "cell_type": "markdown",
      "metadata": {
        "id": "jGzx2Mu8-LWr",
        "colab_type": "text"
      },
      "source": [
        "## Norm (magnitude)"
      ]
    },
    {
      "cell_type": "code",
      "metadata": {
        "id": "HM9JUfpf96k_",
        "colab_type": "code",
        "colab": {
          "base_uri": "https://localhost:8080/",
          "height": 34
        },
        "outputId": "6d787a5e-4708-48eb-9954-bc1dc183b6c3"
      },
      "source": [
        "a_magnitude = np.sqrt((a*a).sum()); a_magnitude"
      ],
      "execution_count": 35,
      "outputs": [
        {
          "output_type": "execute_result",
          "data": {
            "text/plain": [
              "2.23606797749979"
            ]
          },
          "metadata": {
            "tags": []
          },
          "execution_count": 35
        }
      ]
    },
    {
      "cell_type": "code",
      "metadata": {
        "id": "2X-s_gkj-DEf",
        "colab_type": "code",
        "colab": {
          "base_uri": "https://localhost:8080/",
          "height": 34
        },
        "outputId": "7be7557c-f77e-4182-c4c9-764003619965"
      },
      "source": [
        "a_magnitude = np.linalg.norm(a); a_magnitude"
      ],
      "execution_count": 38,
      "outputs": [
        {
          "output_type": "execute_result",
          "data": {
            "text/plain": [
              "2.23606797749979"
            ]
          },
          "metadata": {
            "tags": []
          },
          "execution_count": 38
        }
      ]
    },
    {
      "cell_type": "markdown",
      "metadata": {
        "id": "IL_M5r3Y_eGB",
        "colab_type": "text"
      },
      "source": [
        "## Angle"
      ]
    },
    {
      "cell_type": "code",
      "metadata": {
        "id": "juo7MP47_dcg",
        "colab_type": "code",
        "colab": {
          "base_uri": "https://localhost:8080/",
          "height": 34
        },
        "outputId": "9a8b1ed7-4a6f-48e3-f81e-aa21e791666e"
      },
      "source": [
        "cosangle = a.dot(b) / ( np.linalg.norm(a) * np.linalg.norm(b) ); cosangle"
      ],
      "execution_count": 40,
      "outputs": [
        {
          "output_type": "execute_result",
          "data": {
            "text/plain": [
              "0.7999999999999998"
            ]
          },
          "metadata": {
            "tags": []
          },
          "execution_count": 40
        }
      ]
    },
    {
      "cell_type": "code",
      "metadata": {
        "id": "yOdNHWOV_umO",
        "colab_type": "code",
        "colab": {
          "base_uri": "https://localhost:8080/",
          "height": 34
        },
        "outputId": "82bad1ad-b0d7-4931-8403-e1fbbb1271ae"
      },
      "source": [
        "angle = np.arccos(cosangle); angle # radians"
      ],
      "execution_count": 41,
      "outputs": [
        {
          "output_type": "execute_result",
          "data": {
            "text/plain": [
              "0.6435011087932847"
            ]
          },
          "metadata": {
            "tags": []
          },
          "execution_count": 41
        }
      ]
    },
    {
      "cell_type": "markdown",
      "metadata": {
        "id": "86XTv7AGAeaf",
        "colab_type": "text"
      },
      "source": [
        "## Matrices"
      ]
    },
    {
      "cell_type": "code",
      "metadata": {
        "id": "WRxzQOpQAgwq",
        "colab_type": "code",
        "colab": {
          "base_uri": "https://localhost:8080/",
          "height": 51
        },
        "outputId": "bf7a46d6-a70a-47ed-dbfd-d611e229cd48"
      },
      "source": [
        "# first index is row, second is column\n",
        "M = np.array([ [1, 2], [3, 4] ]); M"
      ],
      "execution_count": 43,
      "outputs": [
        {
          "output_type": "execute_result",
          "data": {
            "text/plain": [
              "array([[1, 2],\n",
              "       [3, 4]])"
            ]
          },
          "metadata": {
            "tags": []
          },
          "execution_count": 43
        }
      ]
    },
    {
      "cell_type": "code",
      "metadata": {
        "id": "aSLFlx4wAsal",
        "colab_type": "code",
        "colab": {
          "base_uri": "https://localhost:8080/",
          "height": 34
        },
        "outputId": "ea8dac66-9cdc-4da5-af2f-9101ae8a5b13"
      },
      "source": [
        "L = [ [1, 2], [3, 4] ]; L"
      ],
      "execution_count": 44,
      "outputs": [
        {
          "output_type": "execute_result",
          "data": {
            "text/plain": [
              "[[1, 2], [3, 4]]"
            ]
          },
          "metadata": {
            "tags": []
          },
          "execution_count": 44
        }
      ]
    },
    {
      "cell_type": "code",
      "metadata": {
        "id": "J-Iqn2aKA3ob",
        "colab_type": "code",
        "colab": {
          "base_uri": "https://localhost:8080/",
          "height": 34
        },
        "outputId": "773d39ff-df7a-47ba-dcfe-650e7fa311a5"
      },
      "source": [
        "# indexing\n",
        "L[0][0]"
      ],
      "execution_count": 46,
      "outputs": [
        {
          "output_type": "execute_result",
          "data": {
            "text/plain": [
              "1"
            ]
          },
          "metadata": {
            "tags": []
          },
          "execution_count": 46
        }
      ]
    },
    {
      "cell_type": "code",
      "metadata": {
        "id": "-AiOGOsYBBvi",
        "colab_type": "code",
        "colab": {
          "base_uri": "https://localhost:8080/",
          "height": 34
        },
        "outputId": "e773de3f-3c45-420c-d9bb-65a621a58fb7"
      },
      "source": [
        "M[0][0]"
      ],
      "execution_count": 47,
      "outputs": [
        {
          "output_type": "execute_result",
          "data": {
            "text/plain": [
              "1"
            ]
          },
          "metadata": {
            "tags": []
          },
          "execution_count": 47
        }
      ]
    },
    {
      "cell_type": "code",
      "metadata": {
        "id": "ZwB54QoMBD2_",
        "colab_type": "code",
        "colab": {
          "base_uri": "https://localhost:8080/",
          "height": 34
        },
        "outputId": "201b1d68-d45b-4021-fdb6-96c7734e98d5"
      },
      "source": [
        "# better\n",
        "M[0,0]"
      ],
      "execution_count": 49,
      "outputs": [
        {
          "output_type": "execute_result",
          "data": {
            "text/plain": [
              "1"
            ]
          },
          "metadata": {
            "tags": []
          },
          "execution_count": 49
        }
      ]
    },
    {
      "cell_type": "code",
      "metadata": {
        "id": "Ij6oKVfOBNTS",
        "colab_type": "code",
        "colab": {}
      },
      "source": [
        "# not recommended; use array\n",
        "M2 = np.matrix([ [1, 2], [3, 4] ])"
      ],
      "execution_count": 0,
      "outputs": []
    },
    {
      "cell_type": "code",
      "metadata": {
        "id": "v2gRnZ2FBSZi",
        "colab_type": "code",
        "colab": {
          "base_uri": "https://localhost:8080/",
          "height": 51
        },
        "outputId": "568e45e1-d00b-448a-b11b-1445bffb981f"
      },
      "source": [
        "A = np.array(M2); A"
      ],
      "execution_count": 51,
      "outputs": [
        {
          "output_type": "execute_result",
          "data": {
            "text/plain": [
              "array([[1, 2],\n",
              "       [3, 4]])"
            ]
          },
          "metadata": {
            "tags": []
          },
          "execution_count": 51
        }
      ]
    },
    {
      "cell_type": "code",
      "metadata": {
        "id": "zfY76AgoBett",
        "colab_type": "code",
        "colab": {
          "base_uri": "https://localhost:8080/",
          "height": 51
        },
        "outputId": "fdcc16f1-a350-4b6b-d00d-76a83cd3fb12"
      },
      "source": [
        "# transpose\n",
        "A.T"
      ],
      "execution_count": 52,
      "outputs": [
        {
          "output_type": "execute_result",
          "data": {
            "text/plain": [
              "array([[1, 3],\n",
              "       [2, 4]])"
            ]
          },
          "metadata": {
            "tags": []
          },
          "execution_count": 52
        }
      ]
    },
    {
      "cell_type": "markdown",
      "metadata": {
        "id": "YypmpjOTB3zF",
        "colab_type": "text"
      },
      "source": [
        "## Generate arrays / matrices"
      ]
    },
    {
      "cell_type": "code",
      "metadata": {
        "id": "LjLNE2pDBg74",
        "colab_type": "code",
        "colab": {
          "base_uri": "https://localhost:8080/",
          "height": 34
        },
        "outputId": "6eab604a-d55b-442c-e56f-1b2f3d01a480"
      },
      "source": [
        "Z = np.zeros(10); Z"
      ],
      "execution_count": 53,
      "outputs": [
        {
          "output_type": "execute_result",
          "data": {
            "text/plain": [
              "array([0., 0., 0., 0., 0., 0., 0., 0., 0., 0.])"
            ]
          },
          "metadata": {
            "tags": []
          },
          "execution_count": 53
        }
      ]
    },
    {
      "cell_type": "code",
      "metadata": {
        "id": "8W7nancGDd-i",
        "colab_type": "code",
        "colab": {
          "base_uri": "https://localhost:8080/",
          "height": 102
        },
        "outputId": "71048477-b55b-48a0-8d61-9745d875f39d"
      },
      "source": [
        "Z = np.zeros((5,5)); Z"
      ],
      "execution_count": 55,
      "outputs": [
        {
          "output_type": "execute_result",
          "data": {
            "text/plain": [
              "array([[0., 0., 0., 0., 0.],\n",
              "       [0., 0., 0., 0., 0.],\n",
              "       [0., 0., 0., 0., 0.],\n",
              "       [0., 0., 0., 0., 0.],\n",
              "       [0., 0., 0., 0., 0.]])"
            ]
          },
          "metadata": {
            "tags": []
          },
          "execution_count": 55
        }
      ]
    },
    {
      "cell_type": "code",
      "metadata": {
        "id": "O-aQPhLmDpVU",
        "colab_type": "code",
        "colab": {
          "base_uri": "https://localhost:8080/",
          "height": 102
        },
        "outputId": "c89e10f1-1f94-4368-a08c-32581db23623"
      },
      "source": [
        "O = np.ones((5,5)); O"
      ],
      "execution_count": 58,
      "outputs": [
        {
          "output_type": "execute_result",
          "data": {
            "text/plain": [
              "array([[1., 1., 1., 1., 1.],\n",
              "       [1., 1., 1., 1., 1.],\n",
              "       [1., 1., 1., 1., 1.],\n",
              "       [1., 1., 1., 1., 1.],\n",
              "       [1., 1., 1., 1., 1.]])"
            ]
          },
          "metadata": {
            "tags": []
          },
          "execution_count": 58
        }
      ]
    },
    {
      "cell_type": "code",
      "metadata": {
        "id": "LbhAxKIFDznD",
        "colab_type": "code",
        "colab": {
          "base_uri": "https://localhost:8080/",
          "height": 102
        },
        "outputId": "1227ef26-28d7-4ca3-f198-c513586f65cf"
      },
      "source": [
        "# uniform distributed\n",
        "R = np.random.random((5,5)); R"
      ],
      "execution_count": 61,
      "outputs": [
        {
          "output_type": "execute_result",
          "data": {
            "text/plain": [
              "array([[0.0636336 , 0.16412874, 0.6645665 , 0.94385374, 0.01318042],\n",
              "       [0.5403159 , 0.99083917, 0.06652885, 0.22323996, 0.35815542],\n",
              "       [0.55295205, 0.84180299, 0.78150036, 0.53611829, 0.17490893],\n",
              "       [0.97003217, 0.94050663, 0.50880255, 0.12364348, 0.23474916],\n",
              "       [0.75648592, 0.50212069, 0.45698888, 0.22275248, 0.85845408]])"
            ]
          },
          "metadata": {
            "tags": []
          },
          "execution_count": 61
        }
      ]
    },
    {
      "cell_type": "code",
      "metadata": {
        "id": "jDAC8JH1D5td",
        "colab_type": "code",
        "colab": {
          "base_uri": "https://localhost:8080/",
          "height": 102
        },
        "outputId": "db9a3d0e-6a7e-449c-8fce-f48495c7f2a4"
      },
      "source": [
        "# gaussian (standard normal) distributed; no tuple!\n",
        "G = np.random.randn(5, 5); G"
      ],
      "execution_count": 62,
      "outputs": [
        {
          "output_type": "execute_result",
          "data": {
            "text/plain": [
              "array([[ 1.89913861, -0.41862341, -0.44797463,  0.06081647, -0.62607902],\n",
              "       [ 0.843663  , -0.49081424,  0.24834272, -0.61505648,  0.0637491 ],\n",
              "       [-2.19957295, -0.25442353, -0.26169486, -1.83174878,  0.62662605],\n",
              "       [ 0.45753949,  0.1403184 ,  0.94911523, -0.94035891, -1.85989745],\n",
              "       [ 0.23764391, -0.43608194, -0.1613585 ,  1.46114893,  0.52660222]])"
            ]
          },
          "metadata": {
            "tags": []
          },
          "execution_count": 62
        }
      ]
    },
    {
      "cell_type": "code",
      "metadata": {
        "id": "xlX9CODPEXAd",
        "colab_type": "code",
        "colab": {
          "base_uri": "https://localhost:8080/",
          "height": 34
        },
        "outputId": "ab9a28a7-f9d4-487d-a7c1-401ae7bd3960"
      },
      "source": [
        "# mean, variance\n",
        "G.mean()"
      ],
      "execution_count": 63,
      "outputs": [
        {
          "output_type": "execute_result",
          "data": {
            "text/plain": [
              "-0.12115922330594676"
            ]
          },
          "metadata": {
            "tags": []
          },
          "execution_count": 63
        }
      ]
    },
    {
      "cell_type": "code",
      "metadata": {
        "id": "v8q9-srSEgqN",
        "colab_type": "code",
        "colab": {
          "base_uri": "https://localhost:8080/",
          "height": 34
        },
        "outputId": "ae7fb8c4-1205-47a6-a99a-bd4a96d50b37"
      },
      "source": [
        "G.var()"
      ],
      "execution_count": 64,
      "outputs": [
        {
          "output_type": "execute_result",
          "data": {
            "text/plain": [
              "0.8914250928783045"
            ]
          },
          "metadata": {
            "tags": []
          },
          "execution_count": 64
        }
      ]
    },
    {
      "cell_type": "markdown",
      "metadata": {
        "id": "eLfk8c9AEkCh",
        "colab_type": "text"
      },
      "source": [
        "## Matrix operations"
      ]
    },
    {
      "cell_type": "code",
      "metadata": {
        "id": "tb9PQZTvEiD8",
        "colab_type": "code",
        "colab": {}
      },
      "source": [
        "# * is element by element mult\n",
        "# dot is matrix mult"
      ],
      "execution_count": 0,
      "outputs": []
    },
    {
      "cell_type": "code",
      "metadata": {
        "id": "gEMqrgJ0Fb1v",
        "colab_type": "code",
        "colab": {
          "base_uri": "https://localhost:8080/",
          "height": 51
        },
        "outputId": "59aba279-8bd3-4053-ce23-608943a9307c"
      },
      "source": [
        "# inverse\n",
        "A = np.array([ [1, 2], [3, 4] ])\n",
        "Ainv = np.linalg.inv(A); Ainv"
      ],
      "execution_count": 66,
      "outputs": [
        {
          "output_type": "execute_result",
          "data": {
            "text/plain": [
              "array([[-2. ,  1. ],\n",
              "       [ 1.5, -0.5]])"
            ]
          },
          "metadata": {
            "tags": []
          },
          "execution_count": 66
        }
      ]
    },
    {
      "cell_type": "code",
      "metadata": {
        "id": "c3Fr4Ni8FnVA",
        "colab_type": "code",
        "colab": {
          "base_uri": "https://localhost:8080/",
          "height": 51
        },
        "outputId": "4f5d1ad9-3a77-40fd-bb80-97f5a43856a4"
      },
      "source": [
        "Ainv.dot(A)"
      ],
      "execution_count": 68,
      "outputs": [
        {
          "output_type": "execute_result",
          "data": {
            "text/plain": [
              "array([[1.00000000e+00, 0.00000000e+00],\n",
              "       [1.11022302e-16, 1.00000000e+00]])"
            ]
          },
          "metadata": {
            "tags": []
          },
          "execution_count": 68
        }
      ]
    },
    {
      "cell_type": "code",
      "metadata": {
        "id": "sN9RyPqQFtUN",
        "colab_type": "code",
        "colab": {
          "base_uri": "https://localhost:8080/",
          "height": 34
        },
        "outputId": "aab9a31d-57a7-4c53-bc65-0e552c73a2c5"
      },
      "source": [
        "# determinant\n",
        "np.linalg.det(A)"
      ],
      "execution_count": 69,
      "outputs": [
        {
          "output_type": "execute_result",
          "data": {
            "text/plain": [
              "-2.0000000000000004"
            ]
          },
          "metadata": {
            "tags": []
          },
          "execution_count": 69
        }
      ]
    },
    {
      "cell_type": "code",
      "metadata": {
        "id": "l_HpC6zJFzeo",
        "colab_type": "code",
        "colab": {
          "base_uri": "https://localhost:8080/",
          "height": 34
        },
        "outputId": "8b78970d-bf2d-4e7c-ff2d-a96bcda21fec"
      },
      "source": [
        "# diagonal\n",
        "np.diag(A)"
      ],
      "execution_count": 70,
      "outputs": [
        {
          "output_type": "execute_result",
          "data": {
            "text/plain": [
              "array([1, 4])"
            ]
          },
          "metadata": {
            "tags": []
          },
          "execution_count": 70
        }
      ]
    },
    {
      "cell_type": "code",
      "metadata": {
        "id": "M1gx1ro_F5Tq",
        "colab_type": "code",
        "colab": {
          "base_uri": "https://localhost:8080/",
          "height": 102
        },
        "outputId": "f962d465-b130-4a65-d4d9-ac03e0b58f04"
      },
      "source": [
        "# diagonal matrix\n",
        "np.diag([1,2,3,4,5])"
      ],
      "execution_count": 71,
      "outputs": [
        {
          "output_type": "execute_result",
          "data": {
            "text/plain": [
              "array([[1, 0, 0, 0, 0],\n",
              "       [0, 2, 0, 0, 0],\n",
              "       [0, 0, 3, 0, 0],\n",
              "       [0, 0, 0, 4, 0],\n",
              "       [0, 0, 0, 0, 5]])"
            ]
          },
          "metadata": {
            "tags": []
          },
          "execution_count": 71
        }
      ]
    },
    {
      "cell_type": "code",
      "metadata": {
        "id": "o_0gjVU1F_65",
        "colab_type": "code",
        "colab": {
          "base_uri": "https://localhost:8080/",
          "height": 51
        },
        "outputId": "e52ff219-9b65-44a3-f9aa-e3a7b75eab43"
      },
      "source": [
        "a = np.array([1, 2])\n",
        "b = np.array([3, 4])\n",
        "\n",
        "# outer product\n",
        "np.outer(a, b)"
      ],
      "execution_count": 72,
      "outputs": [
        {
          "output_type": "execute_result",
          "data": {
            "text/plain": [
              "array([[3, 4],\n",
              "       [6, 8]])"
            ]
          },
          "metadata": {
            "tags": []
          },
          "execution_count": 72
        }
      ]
    },
    {
      "cell_type": "code",
      "metadata": {
        "id": "DiDMmGDFGeV9",
        "colab_type": "code",
        "colab": {
          "base_uri": "https://localhost:8080/",
          "height": 34
        },
        "outputId": "c84fac54-90ba-4a1d-8a61-a7ad9b88cbcd"
      },
      "source": [
        "# inner product\n",
        "np.inner(a, b)"
      ],
      "execution_count": 73,
      "outputs": [
        {
          "output_type": "execute_result",
          "data": {
            "text/plain": [
              "11"
            ]
          },
          "metadata": {
            "tags": []
          },
          "execution_count": 73
        }
      ]
    },
    {
      "cell_type": "code",
      "metadata": {
        "id": "2RKU6s0dGlQ6",
        "colab_type": "code",
        "colab": {
          "base_uri": "https://localhost:8080/",
          "height": 34
        },
        "outputId": "f251cd4a-4d61-4a47-b563-a78dbbc745c9"
      },
      "source": [
        "a.dot(b)"
      ],
      "execution_count": 74,
      "outputs": [
        {
          "output_type": "execute_result",
          "data": {
            "text/plain": [
              "11"
            ]
          },
          "metadata": {
            "tags": []
          },
          "execution_count": 74
        }
      ]
    },
    {
      "cell_type": "code",
      "metadata": {
        "id": "Li2sNlGOGoIE",
        "colab_type": "code",
        "colab": {
          "base_uri": "https://localhost:8080/",
          "height": 34
        },
        "outputId": "4645336b-473b-4937-ea9f-8995177a81cc"
      },
      "source": [
        "# trace: sum of diagonal\n",
        "np.diag(A).sum()"
      ],
      "execution_count": 75,
      "outputs": [
        {
          "output_type": "execute_result",
          "data": {
            "text/plain": [
              "5"
            ]
          },
          "metadata": {
            "tags": []
          },
          "execution_count": 75
        }
      ]
    },
    {
      "cell_type": "code",
      "metadata": {
        "id": "oMtireV8Gs44",
        "colab_type": "code",
        "colab": {
          "base_uri": "https://localhost:8080/",
          "height": 34
        },
        "outputId": "5c6f1bb3-ec6d-4e29-9f1d-e054029f06a5"
      },
      "source": [
        "np.trace(A)"
      ],
      "execution_count": 76,
      "outputs": [
        {
          "output_type": "execute_result",
          "data": {
            "text/plain": [
              "5"
            ]
          },
          "metadata": {
            "tags": []
          },
          "execution_count": 76
        }
      ]
    },
    {
      "cell_type": "markdown",
      "metadata": {
        "id": "s0vOuowAG2nu",
        "colab_type": "text"
      },
      "source": [
        "## Eigenvalues, eigenvectors"
      ]
    },
    {
      "cell_type": "code",
      "metadata": {
        "id": "GNFMw8HbGu2t",
        "colab_type": "code",
        "colab": {
          "base_uri": "https://localhost:8080/",
          "height": 68
        },
        "outputId": "724e5975-f278-4729-9949-ff019e110049"
      },
      "source": [
        "# 100 samples of 3 features\n",
        "X = np.random.randn(100, 3)\n",
        "\n",
        "# covariance of 3 features\n",
        "cov = np.cov(X.T)\n",
        "cov"
      ],
      "execution_count": 81,
      "outputs": [
        {
          "output_type": "execute_result",
          "data": {
            "text/plain": [
              "array([[ 1.09611853, -0.02627582, -0.05899847],\n",
              "       [-0.02627582,  0.98518463, -0.01019996],\n",
              "       [-0.05899847, -0.01019996,  0.89519682]])"
            ]
          },
          "metadata": {
            "tags": []
          },
          "execution_count": 81
        }
      ]
    },
    {
      "cell_type": "code",
      "metadata": {
        "id": "uKacHNFJHmAq",
        "colab_type": "code",
        "colab": {
          "base_uri": "https://localhost:8080/",
          "height": 85
        },
        "outputId": "e1c3b9d1-d987-4c0a-d59b-36617408c981"
      },
      "source": [
        "# eigenvalues and eigenvectors\n",
        "np.linalg.eig(cov)"
      ],
      "execution_count": 83,
      "outputs": [
        {
          "output_type": "execute_result",
          "data": {
            "text/plain": [
              "(array([1.11612545, 0.87652269, 0.98385185]),\n",
              " array([[ 0.95367121, -0.27360565, -0.12510466],\n",
              "        [-0.17215322, -0.15526407, -0.97275708],\n",
              "        [-0.24672758, -0.94922759,  0.19517297]]))"
            ]
          },
          "metadata": {
            "tags": []
          },
          "execution_count": 83
        }
      ]
    },
    {
      "cell_type": "markdown",
      "metadata": {
        "id": "_C7wkaCPID34",
        "colab_type": "text"
      },
      "source": [
        "## Solve a linear system"
      ]
    },
    {
      "cell_type": "code",
      "metadata": {
        "id": "Rvrn7T8NHyw8",
        "colab_type": "code",
        "colab": {
          "base_uri": "https://localhost:8080/",
          "height": 51
        },
        "outputId": "cdcbdf2a-b1aa-4606-a530-bce849c45e1f"
      },
      "source": [
        "# Ax = B\n",
        "# solution: x = inverse(A) x B\n",
        "A"
      ],
      "execution_count": 84,
      "outputs": [
        {
          "output_type": "execute_result",
          "data": {
            "text/plain": [
              "array([[1, 2],\n",
              "       [3, 4]])"
            ]
          },
          "metadata": {
            "tags": []
          },
          "execution_count": 84
        }
      ]
    },
    {
      "cell_type": "code",
      "metadata": {
        "id": "GcmXJ8NRIgcG",
        "colab_type": "code",
        "colab": {}
      },
      "source": [
        "B = np.array([3, 4])"
      ],
      "execution_count": 0,
      "outputs": []
    },
    {
      "cell_type": "code",
      "metadata": {
        "id": "TLByWnriIhXJ",
        "colab_type": "code",
        "colab": {
          "base_uri": "https://localhost:8080/",
          "height": 34
        },
        "outputId": "aac7fa52-c6fe-4db7-b071-997a98b99b98"
      },
      "source": [
        "X = np.linalg.inv(A).dot(B); X"
      ],
      "execution_count": 88,
      "outputs": [
        {
          "output_type": "execute_result",
          "data": {
            "text/plain": [
              "array([-2. ,  2.5])"
            ]
          },
          "metadata": {
            "tags": []
          },
          "execution_count": 88
        }
      ]
    },
    {
      "cell_type": "code",
      "metadata": {
        "id": "7pa0_XuSIswn",
        "colab_type": "code",
        "colab": {
          "base_uri": "https://localhost:8080/",
          "height": 34
        },
        "outputId": "43a6abdd-e619-404d-9645-f6b70fda4f5a"
      },
      "source": [
        "# solve; use this!\n",
        "X = np.linalg.solve(A, B); X"
      ],
      "execution_count": 90,
      "outputs": [
        {
          "output_type": "execute_result",
          "data": {
            "text/plain": [
              "array([-2. ,  2.5])"
            ]
          },
          "metadata": {
            "tags": []
          },
          "execution_count": 90
        }
      ]
    },
    {
      "cell_type": "code",
      "metadata": {
        "id": "bOl_Qr9dJMYC",
        "colab_type": "code",
        "colab": {
          "base_uri": "https://localhost:8080/",
          "height": 34
        },
        "outputId": "aa1bd47c-cf6c-49d5-c03f-efa5eb3cfdc6"
      },
      "source": [
        "# problem:\n",
        "# X1 + X2 = 2200\n",
        "# 1.5 * X1 + 4 * X2 = 5050\n",
        "A = np.array([[1,1], [1.5,4]])\n",
        "B = np.array([2200, 5050])\n",
        "np.linalg.solve(A, B)"
      ],
      "execution_count": 92,
      "outputs": [
        {
          "output_type": "execute_result",
          "data": {
            "text/plain": [
              "array([1500.,  700.])"
            ]
          },
          "metadata": {
            "tags": []
          },
          "execution_count": 92
        }
      ]
    }
  ]
}