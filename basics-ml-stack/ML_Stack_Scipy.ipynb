{
  "nbformat": 4,
  "nbformat_minor": 0,
  "metadata": {
    "colab": {
      "name": "ML_Stack_Scipy.ipynb",
      "provenance": [],
      "collapsed_sections": [],
      "authorship_tag": "ABX9TyOKd/nboR/ZxAtse4UrJvOw",
      "include_colab_link": true
    },
    "kernelspec": {
      "name": "python3",
      "display_name": "Python 3"
    }
  },
  "cells": [
    {
      "cell_type": "markdown",
      "metadata": {
        "id": "view-in-github",
        "colab_type": "text"
      },
      "source": [
        "<a href=\"https://colab.research.google.com/github/leonistor/ml-manning/blob/master/basics-ml-stack/ML_Stack_Scipy.ipynb\" target=\"_parent\"><img src=\"https://colab.research.google.com/assets/colab-badge.svg\" alt=\"Open In Colab\"/></a>"
      ]
    },
    {
      "cell_type": "markdown",
      "metadata": {
        "id": "gMW_YGdbskbW",
        "colab_type": "text"
      },
      "source": [
        "# ML Stack scipy"
      ]
    },
    {
      "cell_type": "code",
      "metadata": {
        "id": "8NhG_AqfsjlN",
        "colab_type": "code",
        "colab": {
          "base_uri": "https://localhost:8080/",
          "height": 34
        },
        "outputId": "811e9b26-a218-4480-b85a-99ddc4c064e0"
      },
      "source": [
        "from scipy.stats import norm\n",
        "\n",
        "# with mean and stdev\n",
        "norm.pdf(0, loc=5, scale=10)"
      ],
      "execution_count": 3,
      "outputs": [
        {
          "output_type": "execute_result",
          "data": {
            "text/plain": [
              "0.03520653267642995"
            ]
          },
          "metadata": {
            "tags": []
          },
          "execution_count": 3
        }
      ]
    },
    {
      "cell_type": "code",
      "metadata": {
        "id": "-UmyGyYJtEkt",
        "colab_type": "code",
        "colab": {
          "base_uri": "https://localhost:8080/",
          "height": 51
        },
        "outputId": "7feb7ae5-a03c-4f64-b9f6-319b17c9df15"
      },
      "source": [
        "import numpy as np\n",
        "\n",
        "r = np.random.randn(10)\n",
        "\n",
        "# probability distribution function\n",
        "norm.pdf(r)"
      ],
      "execution_count": 5,
      "outputs": [
        {
          "output_type": "execute_result",
          "data": {
            "text/plain": [
              "array([0.07669803, 0.39773878, 0.04935558, 0.29515309, 0.01735139,\n",
              "       0.06435495, 0.16422794, 0.11486757, 0.21957032, 0.31055789])"
            ]
          },
          "metadata": {
            "tags": []
          },
          "execution_count": 5
        }
      ]
    },
    {
      "cell_type": "code",
      "metadata": {
        "id": "_k97giOCtdVN",
        "colab_type": "code",
        "colab": {
          "base_uri": "https://localhost:8080/",
          "height": 51
        },
        "outputId": "b7cef357-6ee6-4f95-dbc4-be5f10d415a3"
      },
      "source": [
        "# log pdf\n",
        "norm.logpdf(r)"
      ],
      "execution_count": 6,
      "outputs": [
        {
          "output_type": "execute_result",
          "data": {
            "text/plain": [
              "array([-2.5678792 , -0.92195982, -3.00870435, -1.22026111, -4.05408249,\n",
              "       -2.74334139, -1.80649993, -2.16397538, -1.51608272, -1.16938496])"
            ]
          },
          "metadata": {
            "tags": []
          },
          "execution_count": 6
        }
      ]
    },
    {
      "cell_type": "code",
      "metadata": {
        "id": "G0Gt9ZUntkOa",
        "colab_type": "code",
        "colab": {
          "base_uri": "https://localhost:8080/",
          "height": 51
        },
        "outputId": "25ae0eb2-d310-4d99-d916-8566c816de2f"
      },
      "source": [
        "# cdf: cumulative distribution function\n",
        "norm.cdf(r)"
      ],
      "execution_count": 7,
      "outputs": [
        {
          "output_type": "execute_result",
          "data": {
            "text/plain": [
              "array([0.96531535, 0.53098016, 0.0204575 , 0.21878528, 0.99386104,\n",
              "       0.97194528, 0.09137468, 0.94271682, 0.86276688, 0.23955404])"
            ]
          },
          "metadata": {
            "tags": []
          },
          "execution_count": 7
        }
      ]
    },
    {
      "cell_type": "code",
      "metadata": {
        "id": "xt_FyK5RtzZk",
        "colab_type": "code",
        "colab": {
          "base_uri": "https://localhost:8080/",
          "height": 51
        },
        "outputId": "f815a020-cee8-4c67-db7a-19db9635e851"
      },
      "source": [
        "norm.logcdf(r)"
      ],
      "execution_count": 8,
      "outputs": [
        {
          "output_type": "execute_result",
          "data": {
            "text/plain": [
              "array([-0.03530044, -0.63303062, -3.88940556, -1.5196645 , -0.00615788,\n",
              "       -0.02845577, -2.39278685, -0.05898934, -0.14761075, -1.42897626])"
            ]
          },
          "metadata": {
            "tags": []
          },
          "execution_count": 8
        }
      ]
    },
    {
      "cell_type": "markdown",
      "metadata": {
        "id": "Z0LfWT6xt-tP",
        "colab_type": "text"
      },
      "source": [
        "## Sampling"
      ]
    },
    {
      "cell_type": "code",
      "metadata": {
        "id": "ku2drNbKt1kQ",
        "colab_type": "code",
        "colab": {
          "base_uri": "https://localhost:8080/",
          "height": 265
        },
        "outputId": "fa12fd8f-0c49-4f7f-f812-0aefdc3347e0"
      },
      "source": [
        "import matplotlib.pyplot as plt\n",
        "\n",
        "r = np.random.randn(10_000)\n",
        "plt.hist(r, bins=100)\n",
        "plt.show()"
      ],
      "execution_count": 12,
      "outputs": [
        {
          "output_type": "display_data",
          "data": {
            "image/png": "[encoded data removed]",
            "text/plain": [
              "<Figure size 432x288 with 1 Axes>"
            ]
          },
          "metadata": {
            "tags": [],
            "needs_background": "light"
          }
        }
      ]
    },
    {
      "cell_type": "code",
      "metadata": {
        "id": "ng2HMqSHuYrX",
        "colab_type": "code",
        "colab": {
          "base_uri": "https://localhost:8080/",
          "height": 265
        },
        "outputId": "6a256252-af9c-435a-e306-c8b6fef42c9d"
      },
      "source": [
        "r = 10 * np.random.randn(10_000) + 5\n",
        "plt.hist(r, bins=100)\n",
        "plt.show()"
      ],
      "execution_count": 14,
      "outputs": [
        {
          "output_type": "display_data",
          "data": {
            "image/png": "[encoded data removed]",
            "text/plain": [
              "<Figure size 432x288 with 1 Axes>"
            ]
          },
          "metadata": {
            "tags": [],
            "needs_background": "light"
          }
        }
      ]
    },
    {
      "cell_type": "markdown",
      "metadata": {
        "id": "1ym6Dxuout8C",
        "colab_type": "text"
      },
      "source": [
        "## Spherical Gaussian"
      ]
    },
    {
      "cell_type": "code",
      "metadata": {
        "id": "nSSByPjmumKx",
        "colab_type": "code",
        "colab": {
          "base_uri": "https://localhost:8080/",
          "height": 265
        },
        "outputId": "36834ac4-e583-4506-e319-1fd26e6f95e1"
      },
      "source": [
        "r = np.random.randn(10_000, 2)\n",
        "plt.scatter(r[:,0], r[:,1])\n",
        "plt.axis('equal')\n",
        "plt.show()"
      ],
      "execution_count": 19,
      "outputs": [
        {
          "output_type": "display_data",
          "data": {
            "image/png": "[encoded data removed]",
            "text/plain": [
              "<Figure size 432x288 with 1 Axes>"
            ]
          },
          "metadata": {
            "tags": [],
            "needs_background": "light"
          }
        }
      ]
    },
    {
      "cell_type": "code",
      "metadata": {
        "id": "Usjp5pkSv5ft",
        "colab_type": "code",
        "colab": {}
      },
      "source": [
        "# eliptical. second axis 5 * x + 2\n",
        "r[:,1] = 5 * r[:,1] + 2"
      ],
      "execution_count": 0,
      "outputs": []
    },
    {
      "cell_type": "code",
      "metadata": {
        "id": "lo9mpjW8wC0X",
        "colab_type": "code",
        "colab": {
          "base_uri": "https://localhost:8080/",
          "height": 265
        },
        "outputId": "49420540-7879-4ff7-b4b6-66e24b3040ac"
      },
      "source": [
        "plt.scatter(r[:,0], r[:,1])\n",
        "plt.axis('equal')\n",
        "plt.show()"
      ],
      "execution_count": 22,
      "outputs": [
        {
          "output_type": "display_data",
          "data": {
            "image/png": "[encoded data removed]",
            "text/plain": [
              "<Figure size 432x288 with 1 Axes>"
            ]
          },
          "metadata": {
            "tags": [],
            "needs_background": "light"
          }
        }
      ]
    },
    {
      "cell_type": "markdown",
      "metadata": {
        "id": "HZKvLdU4wcmi",
        "colab_type": "text"
      },
      "source": [
        "## Sample general"
      ]
    },
    {
      "cell_type": "code",
      "metadata": {
        "id": "g6ASIVNdwb6V",
        "colab_type": "code",
        "colab": {
          "base_uri": "https://localhost:8080/",
          "height": 265
        },
        "outputId": "b9e41f75-7a94-418a-b21f-6dd68837de1a"
      },
      "source": [
        "cov = np.array([[1, 0.8], [0.8, 3]])\n",
        "from scipy.stats import multivariate_normal as mvn\n",
        "\n",
        "mu = np.array([0, 2])\n",
        "\n",
        "r = mvn.rvs(mean=mu, cov=cov, size=1_000)\n",
        "\n",
        "plt.scatter(r[:,0], r[:,1])\n",
        "plt.axis('equal')\n",
        "plt.show()"
      ],
      "execution_count": 26,
      "outputs": [
        {
          "output_type": "display_data",
          "data": {
            "image/png": "[encoded data removed]",
            "text/plain": [
              "<Figure size 432x288 with 1 Axes>"
            ]
          },
          "metadata": {
            "tags": [],
            "needs_background": "light"
          }
        }
      ]
    },
    {
      "cell_type": "code",
      "metadata": {
        "id": "lTgZ18brxWnm",
        "colab_type": "code",
        "colab": {
          "base_uri": "https://localhost:8080/",
          "height": 265
        },
        "outputId": "ec0c7498-b172-4089-f451-0e3192a17f09"
      },
      "source": [
        "r = np.random.multivariate_normal(mean=mu, cov=cov, size=1_000)\n",
        "\n",
        "plt.scatter(r[:,0], r[:,1])\n",
        "plt.axis('equal')\n",
        "plt.show()"
      ],
      "execution_count": 28,
      "outputs": [
        {
          "output_type": "display_data",
          "data": {
            "image/png": "[encoded data removed]",
            "text/plain": [
              "<Figure size 432x288 with 1 Axes>"
            ]
          },
          "metadata": {
            "tags": [],
            "needs_background": "light"
          }
        }
      ]
    }
  ]
}