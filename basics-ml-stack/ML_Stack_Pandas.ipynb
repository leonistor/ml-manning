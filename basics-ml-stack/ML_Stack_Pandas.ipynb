{
  "nbformat": 4,
  "nbformat_minor": 0,
  "metadata": {
    "colab": {
      "name": "ML_Stack_Pandas.ipynb",
      "provenance": [],
      "collapsed_sections": [],
      "authorship_tag": "ABX9TyMYq9jZXN2M9MSXXj20KyV8",
      "include_colab_link": true
    },
    "kernelspec": {
      "name": "python3",
      "display_name": "Python 3"
    }
  },
  "cells": [
    {
      "cell_type": "markdown",
      "metadata": {
        "id": "view-in-github",
        "colab_type": "text"
      },
      "source": [
        "<a href=\"https://colab.research.google.com/github/leonistor/ml-manning/blob/master/basics-ml-stack/ML_Stack_Pandas.ipynb\" target=\"_parent\"><img src=\"https://colab.research.google.com/assets/colab-badge.svg\" alt=\"Open In Colab\"/></a>"
      ]
    },
    {
      "cell_type": "markdown",
      "metadata": {
        "id": "JyuC3DUlNLJH",
        "colab_type": "text"
      },
      "source": [
        "# ML Stack: Pandas"
      ]
    },
    {
      "cell_type": "markdown",
      "metadata": {
        "id": "bqkRok4gNmcg",
        "colab_type": "text"
      },
      "source": [
        "## Manual"
      ]
    },
    {
      "cell_type": "code",
      "metadata": {
        "id": "uVDusaIEND_7",
        "colab_type": "code",
        "colab": {
          "base_uri": "https://localhost:8080/",
          "height": 102
        },
        "outputId": "a96290f0-a245-49b4-dcaa-c2675b133c9d"
      },
      "source": [
        "import numpy as np\n",
        "\n",
        "X = []\n",
        "\n",
        "# data_2d.csv from https://github.com/lazyprogrammer/machine_learning_examples/raw/master/linear_regression_class/data_2d.csv\n",
        "\n",
        "for line in open(\"data_2d.csv\"):\n",
        "    row = line.split(',')\n",
        "    sample = list(map(float, row))\n",
        "    X.append(sample)\n",
        "\n",
        "X[:5]"
      ],
      "execution_count": 5,
      "outputs": [
        {
          "output_type": "execute_result",
          "data": {
            "text/plain": [
              "[[17.9302012052, 94.5205919533, 320.259529602],\n",
              " [97.1446971852, 69.5932819844, 404.634471526],\n",
              " [81.7759007845, 5.73764809688, 181.485107741],\n",
              " [55.8543424175, 70.3259016768, 321.773638018],\n",
              " [49.3665499855, 75.1140401571, 322.465485583]]"
            ]
          },
          "metadata": {
            "tags": []
          },
          "execution_count": 5
        }
      ]
    },
    {
      "cell_type": "code",
      "metadata": {
        "id": "aoy281WwOjfG",
        "colab_type": "code",
        "colab": {
          "base_uri": "https://localhost:8080/",
          "height": 34
        },
        "outputId": "fd053cdc-6e1e-4d1e-8e22-1300e24f9dcb"
      },
      "source": [
        "X = np.array(X)\n",
        "X.shape"
      ],
      "execution_count": 6,
      "outputs": [
        {
          "output_type": "execute_result",
          "data": {
            "text/plain": [
              "(100, 3)"
            ]
          },
          "metadata": {
            "tags": []
          },
          "execution_count": 6
        }
      ]
    },
    {
      "cell_type": "markdown",
      "metadata": {
        "id": "dEXa4bfcOyO2",
        "colab_type": "text"
      },
      "source": [
        "## Pandas"
      ]
    },
    {
      "cell_type": "code",
      "metadata": {
        "id": "bDf3eCWtOzVI",
        "colab_type": "code",
        "colab": {
          "base_uri": "https://localhost:8080/",
          "height": 34
        },
        "outputId": "2cbe80fe-5f57-4852-c457-fdd87affbfb1"
      },
      "source": [
        "import pandas as pd\n",
        "\n",
        "X = pd.read_csv(\"data_2d.csv\", header=None)\n",
        "\n",
        "type(X)"
      ],
      "execution_count": 10,
      "outputs": [
        {
          "output_type": "execute_result",
          "data": {
            "text/plain": [
              "pandas.core.frame.DataFrame"
            ]
          },
          "metadata": {
            "tags": []
          },
          "execution_count": 10
        }
      ]
    },
    {
      "cell_type": "code",
      "metadata": {
        "id": "3rPmFV3JPLeN",
        "colab_type": "code",
        "colab": {
          "base_uri": "https://localhost:8080/",
          "height": 187
        },
        "outputId": "5397f79b-0468-4826-9dfd-8bc00f47e1c5"
      },
      "source": [
        "X.info()"
      ],
      "execution_count": 12,
      "outputs": [
        {
          "output_type": "stream",
          "text": [
            "<class 'pandas.core.frame.DataFrame'>\n",
            "RangeIndex: 100 entries, 0 to 99\n",
            "Data columns (total 3 columns):\n",
            " #   Column  Non-Null Count  Dtype  \n",
            "---  ------  --------------  -----  \n",
            " 0   0       100 non-null    float64\n",
            " 1   1       100 non-null    float64\n",
            " 2   2       100 non-null    float64\n",
            "dtypes: float64(3)\n",
            "memory usage: 2.5 KB\n"
          ],
          "name": "stdout"
        }
      ]
    },
    {
      "cell_type": "code",
      "metadata": {
        "id": "UUI9GrF1Pdn_",
        "colab_type": "code",
        "colab": {
          "base_uri": "https://localhost:8080/",
          "height": 204
        },
        "outputId": "475273f1-d492-4abc-da1b-a7eef51e1988"
      },
      "source": [
        "X.head()"
      ],
      "execution_count": 13,
      "outputs": [
        {
          "output_type": "execute_result",
          "data": {
            "text/html": [
              "<div>\n",
              "<style scoped>\n",
              "    .dataframe tbody tr th:only-of-type {\n",
              "        vertical-align: middle;\n",
              "    }\n",
              "\n",
              "    .dataframe tbody tr th {\n",
              "        vertical-align: top;\n",
              "    }\n",
              "\n",
              "    .dataframe thead th {\n",
              "        text-align: right;\n",
              "    }\n",
              "</style>\n",
              "<table border=\"1\" class=\"dataframe\">\n",
              "  <thead>\n",
              "    <tr style=\"text-align: right;\">\n",
              "      <th></th>\n",
              "      <th>0</th>\n",
              "      <th>1</th>\n",
              "      <th>2</th>\n",
              "    </tr>\n",
              "  </thead>\n",
              "  <tbody>\n",
              "    <tr>\n",
              "      <th>0</th>\n",
              "      <td>17.930201</td>\n",
              "      <td>94.520592</td>\n",
              "      <td>320.259530</td>\n",
              "    </tr>\n",
              "    <tr>\n",
              "      <th>1</th>\n",
              "      <td>97.144697</td>\n",
              "      <td>69.593282</td>\n",
              "      <td>404.634472</td>\n",
              "    </tr>\n",
              "    <tr>\n",
              "      <th>2</th>\n",
              "      <td>81.775901</td>\n",
              "      <td>5.737648</td>\n",
              "      <td>181.485108</td>\n",
              "    </tr>\n",
              "    <tr>\n",
              "      <th>3</th>\n",
              "      <td>55.854342</td>\n",
              "      <td>70.325902</td>\n",
              "      <td>321.773638</td>\n",
              "    </tr>\n",
              "    <tr>\n",
              "      <th>4</th>\n",
              "      <td>49.366550</td>\n",
              "      <td>75.114040</td>\n",
              "      <td>322.465486</td>\n",
              "    </tr>\n",
              "  </tbody>\n",
              "</table>\n",
              "</div>"
            ],
            "text/plain": [
              "           0          1           2\n",
              "0  17.930201  94.520592  320.259530\n",
              "1  97.144697  69.593282  404.634472\n",
              "2  81.775901   5.737648  181.485108\n",
              "3  55.854342  70.325902  321.773638\n",
              "4  49.366550  75.114040  322.465486"
            ]
          },
          "metadata": {
            "tags": []
          },
          "execution_count": 13
        }
      ]
    },
    {
      "cell_type": "markdown",
      "metadata": {
        "id": "29Nir74tPkZC",
        "colab_type": "text"
      },
      "source": [
        "## Select rows and columns"
      ]
    },
    {
      "cell_type": "markdown",
      "metadata": {
        "id": "UG2b-EPkQu1y",
        "colab_type": "text"
      },
      "source": [
        "### indexing"
      ]
    },
    {
      "cell_type": "code",
      "metadata": {
        "id": "AHZkLfuPPeiG",
        "colab_type": "code",
        "colab": {
          "base_uri": "https://localhost:8080/",
          "height": 34
        },
        "outputId": "6e583f11-9d89-41eb-8df1-d457d582656b"
      },
      "source": [
        "# NOT like numpy\n",
        "# X[0,0] -> ERROR\n",
        "M = X.to_numpy()\n",
        "type(M)"
      ],
      "execution_count": 18,
      "outputs": [
        {
          "output_type": "execute_result",
          "data": {
            "text/plain": [
              "numpy.ndarray"
            ]
          },
          "metadata": {
            "tags": []
          },
          "execution_count": 18
        }
      ]
    },
    {
      "cell_type": "code",
      "metadata": {
        "id": "eRcD3tCIQNN1",
        "colab_type": "code",
        "colab": {
          "base_uri": "https://localhost:8080/",
          "height": 221
        },
        "outputId": "3c58d8f9-427d-4fb3-e8c4-ffcac4900f24"
      },
      "source": [
        "# column 0\n",
        "X[0]\n",
        "\n",
        "# numpy: X[0] -> 0th row\n",
        "# pandas: X[0] -> column with name 0"
      ],
      "execution_count": 20,
      "outputs": [
        {
          "output_type": "execute_result",
          "data": {
            "text/plain": [
              "0     17.930201\n",
              "1     97.144697\n",
              "2     81.775901\n",
              "3     55.854342\n",
              "4     49.366550\n",
              "        ...    \n",
              "95    46.456779\n",
              "96    77.130301\n",
              "97    68.600608\n",
              "98    41.693887\n",
              "99     4.142669\n",
              "Name: 0, Length: 100, dtype: float64"
            ]
          },
          "metadata": {
            "tags": []
          },
          "execution_count": 20
        }
      ]
    },
    {
      "cell_type": "code",
      "metadata": {
        "id": "vY5Mb7IQQOrc",
        "colab_type": "code",
        "colab": {
          "base_uri": "https://localhost:8080/",
          "height": 34
        },
        "outputId": "bf3db65e-69fb-4072-a89f-577219236374"
      },
      "source": [
        "type(X[0])"
      ],
      "execution_count": 22,
      "outputs": [
        {
          "output_type": "execute_result",
          "data": {
            "text/plain": [
              "pandas.core.series.Series"
            ]
          },
          "metadata": {
            "tags": []
          },
          "execution_count": 22
        }
      ]
    },
    {
      "cell_type": "markdown",
      "metadata": {
        "id": "Cl6B4VoTQxVu",
        "colab_type": "text"
      },
      "source": [
        "### select"
      ]
    },
    {
      "cell_type": "code",
      "metadata": {
        "id": "upOc_kNyQnSu",
        "colab_type": "code",
        "colab": {
          "base_uri": "https://localhost:8080/",
          "height": 85
        },
        "outputId": "d13c45f1-7c4c-4ee0-99ec-62e407b99e04"
      },
      "source": [
        "# integer location\n",
        "X.iloc[0]"
      ],
      "execution_count": 25,
      "outputs": [
        {
          "output_type": "execute_result",
          "data": {
            "text/plain": [
              "0     17.930201\n",
              "1     94.520592\n",
              "2    320.259530\n",
              "Name: 0, dtype: float64"
            ]
          },
          "metadata": {
            "tags": []
          },
          "execution_count": 25
        }
      ]
    },
    {
      "cell_type": "code",
      "metadata": {
        "id": "dbNjJpvmQ8fA",
        "colab_type": "code",
        "colab": {
          "base_uri": "https://localhost:8080/",
          "height": 34
        },
        "outputId": "283d0168-0cfd-4905-8b4e-8544d2b3bd05"
      },
      "source": [
        "type(X.iloc[0])"
      ],
      "execution_count": 27,
      "outputs": [
        {
          "output_type": "execute_result",
          "data": {
            "text/plain": [
              "pandas.core.series.Series"
            ]
          },
          "metadata": {
            "tags": []
          },
          "execution_count": 27
        }
      ]
    },
    {
      "cell_type": "code",
      "metadata": {
        "id": "NQdW5a-nRN-h",
        "colab_type": "code",
        "colab": {
          "base_uri": "https://localhost:8080/",
          "height": 419
        },
        "outputId": "ad76b06e-22e7-4462-f271-9f05df48405d"
      },
      "source": [
        "# 0th and 2nd columns\n",
        "X[[0,2]]"
      ],
      "execution_count": 29,
      "outputs": [
        {
          "output_type": "execute_result",
          "data": {
            "text/html": [
              "<div>\n",
              "<style scoped>\n",
              "    .dataframe tbody tr th:only-of-type {\n",
              "        vertical-align: middle;\n",
              "    }\n",
              "\n",
              "    .dataframe tbody tr th {\n",
              "        vertical-align: top;\n",
              "    }\n",
              "\n",
              "    .dataframe thead th {\n",
              "        text-align: right;\n",
              "    }\n",
              "</style>\n",
              "<table border=\"1\" class=\"dataframe\">\n",
              "  <thead>\n",
              "    <tr style=\"text-align: right;\">\n",
              "      <th></th>\n",
              "      <th>0</th>\n",
              "      <th>2</th>\n",
              "    </tr>\n",
              "  </thead>\n",
              "  <tbody>\n",
              "    <tr>\n",
              "      <th>0</th>\n",
              "      <td>17.930201</td>\n",
              "      <td>320.259530</td>\n",
              "    </tr>\n",
              "    <tr>\n",
              "      <th>1</th>\n",
              "      <td>97.144697</td>\n",
              "      <td>404.634472</td>\n",
              "    </tr>\n",
              "    <tr>\n",
              "      <th>2</th>\n",
              "      <td>81.775901</td>\n",
              "      <td>181.485108</td>\n",
              "    </tr>\n",
              "    <tr>\n",
              "      <th>3</th>\n",
              "      <td>55.854342</td>\n",
              "      <td>321.773638</td>\n",
              "    </tr>\n",
              "    <tr>\n",
              "      <th>4</th>\n",
              "      <td>49.366550</td>\n",
              "      <td>322.465486</td>\n",
              "    </tr>\n",
              "    <tr>\n",
              "      <th>...</th>\n",
              "      <td>...</td>\n",
              "      <td>...</td>\n",
              "    </tr>\n",
              "    <tr>\n",
              "      <th>95</th>\n",
              "      <td>46.456779</td>\n",
              "      <td>336.876154</td>\n",
              "    </tr>\n",
              "    <tr>\n",
              "      <th>96</th>\n",
              "      <td>77.130301</td>\n",
              "      <td>438.460586</td>\n",
              "    </tr>\n",
              "    <tr>\n",
              "      <th>97</th>\n",
              "      <td>68.600608</td>\n",
              "      <td>355.900287</td>\n",
              "    </tr>\n",
              "    <tr>\n",
              "      <th>98</th>\n",
              "      <td>41.693887</td>\n",
              "      <td>284.834637</td>\n",
              "    </tr>\n",
              "    <tr>\n",
              "      <th>99</th>\n",
              "      <td>4.142669</td>\n",
              "      <td>168.034401</td>\n",
              "    </tr>\n",
              "  </tbody>\n",
              "</table>\n",
              "<p>100 rows × 2 columns</p>\n",
              "</div>"
            ],
            "text/plain": [
              "            0           2\n",
              "0   17.930201  320.259530\n",
              "1   97.144697  404.634472\n",
              "2   81.775901  181.485108\n",
              "3   55.854342  321.773638\n",
              "4   49.366550  322.465486\n",
              "..        ...         ...\n",
              "95  46.456779  336.876154\n",
              "96  77.130301  438.460586\n",
              "97  68.600608  355.900287\n",
              "98  41.693887  284.834637\n",
              "99   4.142669  168.034401\n",
              "\n",
              "[100 rows x 2 columns]"
            ]
          },
          "metadata": {
            "tags": []
          },
          "execution_count": 29
        }
      ]
    },
    {
      "cell_type": "code",
      "metadata": {
        "id": "_t0S7jFzRXhK",
        "colab_type": "code",
        "colab": {
          "base_uri": "https://localhost:8080/",
          "height": 204
        },
        "outputId": "a00fe57d-9aa2-4cbd-ad67-3bd6dce60372"
      },
      "source": [
        "# rows on criteria\n",
        "X[ X[0] < 5 ]"
      ],
      "execution_count": 32,
      "outputs": [
        {
          "output_type": "execute_result",
          "data": {
            "text/html": [
              "<div>\n",
              "<style scoped>\n",
              "    .dataframe tbody tr th:only-of-type {\n",
              "        vertical-align: middle;\n",
              "    }\n",
              "\n",
              "    .dataframe tbody tr th {\n",
              "        vertical-align: top;\n",
              "    }\n",
              "\n",
              "    .dataframe thead th {\n",
              "        text-align: right;\n",
              "    }\n",
              "</style>\n",
              "<table border=\"1\" class=\"dataframe\">\n",
              "  <thead>\n",
              "    <tr style=\"text-align: right;\">\n",
              "      <th></th>\n",
              "      <th>0</th>\n",
              "      <th>1</th>\n",
              "      <th>2</th>\n",
              "    </tr>\n",
              "  </thead>\n",
              "  <tbody>\n",
              "    <tr>\n",
              "      <th>5</th>\n",
              "      <td>3.192702</td>\n",
              "      <td>29.256299</td>\n",
              "      <td>94.618811</td>\n",
              "    </tr>\n",
              "    <tr>\n",
              "      <th>44</th>\n",
              "      <td>3.593966</td>\n",
              "      <td>96.252217</td>\n",
              "      <td>293.237183</td>\n",
              "    </tr>\n",
              "    <tr>\n",
              "      <th>54</th>\n",
              "      <td>4.593463</td>\n",
              "      <td>46.335932</td>\n",
              "      <td>145.818745</td>\n",
              "    </tr>\n",
              "    <tr>\n",
              "      <th>90</th>\n",
              "      <td>1.382983</td>\n",
              "      <td>84.944087</td>\n",
              "      <td>252.905653</td>\n",
              "    </tr>\n",
              "    <tr>\n",
              "      <th>99</th>\n",
              "      <td>4.142669</td>\n",
              "      <td>52.254726</td>\n",
              "      <td>168.034401</td>\n",
              "    </tr>\n",
              "  </tbody>\n",
              "</table>\n",
              "</div>"
            ],
            "text/plain": [
              "           0          1           2\n",
              "5   3.192702  29.256299   94.618811\n",
              "44  3.593966  96.252217  293.237183\n",
              "54  4.593463  46.335932  145.818745\n",
              "90  1.382983  84.944087  252.905653\n",
              "99  4.142669  52.254726  168.034401"
            ]
          },
          "metadata": {
            "tags": []
          },
          "execution_count": 32
        }
      ]
    },
    {
      "cell_type": "code",
      "metadata": {
        "id": "55SI9_YzRmSD",
        "colab_type": "code",
        "colab": {
          "base_uri": "https://localhost:8080/",
          "height": 221
        },
        "outputId": "2c551ef2-e191-432b-9f84-06d6deb46c86"
      },
      "source": [
        "X[0] < 5"
      ],
      "execution_count": 33,
      "outputs": [
        {
          "output_type": "execute_result",
          "data": {
            "text/plain": [
              "0     False\n",
              "1     False\n",
              "2     False\n",
              "3     False\n",
              "4     False\n",
              "      ...  \n",
              "95    False\n",
              "96    False\n",
              "97    False\n",
              "98    False\n",
              "99     True\n",
              "Name: 0, Length: 100, dtype: bool"
            ]
          },
          "metadata": {
            "tags": []
          },
          "execution_count": 33
        }
      ]
    },
    {
      "cell_type": "code",
      "metadata": {
        "id": "GTX37DyRRn_M",
        "colab_type": "code",
        "colab": {
          "base_uri": "https://localhost:8080/",
          "height": 34
        },
        "outputId": "5171e3d0-dd08-4dfb-9054-9db667b6f35f"
      },
      "source": [
        "type(X[0] < 5)"
      ],
      "execution_count": 34,
      "outputs": [
        {
          "output_type": "execute_result",
          "data": {
            "text/plain": [
              "pandas.core.series.Series"
            ]
          },
          "metadata": {
            "tags": []
          },
          "execution_count": 34
        }
      ]
    },
    {
      "cell_type": "markdown",
      "metadata": {
        "id": "Qdqa7rMcSPTX",
        "colab_type": "text"
      },
      "source": [
        "## More select"
      ]
    },
    {
      "cell_type": "code",
      "metadata": {
        "id": "uemRix_5RqHW",
        "colab_type": "code",
        "colab": {}
      },
      "source": [
        "# data: https://github.com/lazyprogrammer/machine_learning_examples/raw/master/airline/international-airline-passengers.csv\n",
        "\n",
        "# pass engine to get skipfooter\n",
        "df = pd.read_csv(\"international-airline-passengers.csv\", engine='python', skipfooter=3)\n"
      ],
      "execution_count": 0,
      "outputs": []
    },
    {
      "cell_type": "code",
      "metadata": {
        "id": "up6GmEdlTkHp",
        "colab_type": "code",
        "colab": {
          "base_uri": "https://localhost:8080/",
          "height": 34
        },
        "outputId": "391377c5-3a44-456d-b0e3-8361ed2c1205"
      },
      "source": [
        "df.columns"
      ],
      "execution_count": 38,
      "outputs": [
        {
          "output_type": "execute_result",
          "data": {
            "text/plain": [
              "Index(['Month', 'International airline passengers: monthly totals in thousands. Jan 49 ? Dec 60'], dtype='object')"
            ]
          },
          "metadata": {
            "tags": []
          },
          "execution_count": 38
        }
      ]
    },
    {
      "cell_type": "code",
      "metadata": {
        "id": "TQicNvxoTwM4",
        "colab_type": "code",
        "colab": {
          "base_uri": "https://localhost:8080/",
          "height": 34
        },
        "outputId": "c3bf7a84-fca6-4bd2-838d-3b203ee52ab1"
      },
      "source": [
        "df.columns = [\"month\", \"passengers\"]; df.columns"
      ],
      "execution_count": 40,
      "outputs": [
        {
          "output_type": "execute_result",
          "data": {
            "text/plain": [
              "Index(['month', 'passengers'], dtype='object')"
            ]
          },
          "metadata": {
            "tags": []
          },
          "execution_count": 40
        }
      ]
    },
    {
      "cell_type": "code",
      "metadata": {
        "id": "_cOEYgbCT1bk",
        "colab_type": "code",
        "colab": {
          "base_uri": "https://localhost:8080/",
          "height": 221
        },
        "outputId": "2c3201c4-d32c-4df5-d71e-6320daa3a0c2"
      },
      "source": [
        "df.passengers"
      ],
      "execution_count": 41,
      "outputs": [
        {
          "output_type": "execute_result",
          "data": {
            "text/plain": [
              "0      112\n",
              "1      118\n",
              "2      132\n",
              "3      129\n",
              "4      121\n",
              "      ... \n",
              "139    606\n",
              "140    508\n",
              "141    461\n",
              "142    390\n",
              "143    432\n",
              "Name: passengers, Length: 144, dtype: int64"
            ]
          },
          "metadata": {
            "tags": []
          },
          "execution_count": 41
        }
      ]
    },
    {
      "cell_type": "code",
      "metadata": {
        "id": "4K2CLhK_T5HG",
        "colab_type": "code",
        "colab": {
          "base_uri": "https://localhost:8080/",
          "height": 204
        },
        "outputId": "b7a90681-a461-435a-9834-bed5b73977bc"
      },
      "source": [
        "# add new column\n",
        "df['ones'] = 1\n",
        "df.head()"
      ],
      "execution_count": 42,
      "outputs": [
        {
          "output_type": "execute_result",
          "data": {
            "text/html": [
              "<div>\n",
              "<style scoped>\n",
              "    .dataframe tbody tr th:only-of-type {\n",
              "        vertical-align: middle;\n",
              "    }\n",
              "\n",
              "    .dataframe tbody tr th {\n",
              "        vertical-align: top;\n",
              "    }\n",
              "\n",
              "    .dataframe thead th {\n",
              "        text-align: right;\n",
              "    }\n",
              "</style>\n",
              "<table border=\"1\" class=\"dataframe\">\n",
              "  <thead>\n",
              "    <tr style=\"text-align: right;\">\n",
              "      <th></th>\n",
              "      <th>month</th>\n",
              "      <th>passengers</th>\n",
              "      <th>ones</th>\n",
              "    </tr>\n",
              "  </thead>\n",
              "  <tbody>\n",
              "    <tr>\n",
              "      <th>0</th>\n",
              "      <td>1949-01</td>\n",
              "      <td>112</td>\n",
              "      <td>1</td>\n",
              "    </tr>\n",
              "    <tr>\n",
              "      <th>1</th>\n",
              "      <td>1949-02</td>\n",
              "      <td>118</td>\n",
              "      <td>1</td>\n",
              "    </tr>\n",
              "    <tr>\n",
              "      <th>2</th>\n",
              "      <td>1949-03</td>\n",
              "      <td>132</td>\n",
              "      <td>1</td>\n",
              "    </tr>\n",
              "    <tr>\n",
              "      <th>3</th>\n",
              "      <td>1949-04</td>\n",
              "      <td>129</td>\n",
              "      <td>1</td>\n",
              "    </tr>\n",
              "    <tr>\n",
              "      <th>4</th>\n",
              "      <td>1949-05</td>\n",
              "      <td>121</td>\n",
              "      <td>1</td>\n",
              "    </tr>\n",
              "  </tbody>\n",
              "</table>\n",
              "</div>"
            ],
            "text/plain": [
              "     month  passengers  ones\n",
              "0  1949-01         112     1\n",
              "1  1949-02         118     1\n",
              "2  1949-03         132     1\n",
              "3  1949-04         129     1\n",
              "4  1949-05         121     1"
            ]
          },
          "metadata": {
            "tags": []
          },
          "execution_count": 42
        }
      ]
    },
    {
      "cell_type": "markdown",
      "metadata": {
        "id": "0OxU6cTZUHfT",
        "colab_type": "text"
      },
      "source": [
        "## Apply"
      ]
    },
    {
      "cell_type": "code",
      "metadata": {
        "id": "l8b0eCrAUIuC",
        "colab_type": "code",
        "colab": {
          "base_uri": "https://localhost:8080/",
          "height": 34
        },
        "outputId": "c5e347c0-4181-44e4-9cca-f4973d970a65"
      },
      "source": [
        "from datetime import datetime\n",
        "\n",
        "datetime.strptime(\"1949-08\", \"%Y-%m\")"
      ],
      "execution_count": 44,
      "outputs": [
        {
          "output_type": "execute_result",
          "data": {
            "text/plain": [
              "datetime.datetime(1949, 8, 1, 0, 0)"
            ]
          },
          "metadata": {
            "tags": []
          },
          "execution_count": 44
        }
      ]
    },
    {
      "cell_type": "code",
      "metadata": {
        "id": "KNyoZGmOU1Ky",
        "colab_type": "code",
        "colab": {
          "base_uri": "https://localhost:8080/",
          "height": 204
        },
        "outputId": "d4a0de30-0d8b-43f9-abef-8d012f5f763a"
      },
      "source": [
        "# apply for rows, not columns (axis=0 default)!\n",
        "df['dt'] = df.apply(lambda row: datetime.strptime(row['month'], \"%Y-%m\"), axis=1)\n",
        "\n",
        "df.info()"
      ],
      "execution_count": 47,
      "outputs": [
        {
          "output_type": "stream",
          "text": [
            "<class 'pandas.core.frame.DataFrame'>\n",
            "RangeIndex: 144 entries, 0 to 143\n",
            "Data columns (total 4 columns):\n",
            " #   Column      Non-Null Count  Dtype         \n",
            "---  ------      --------------  -----         \n",
            " 0   month       144 non-null    object        \n",
            " 1   passengers  144 non-null    int64         \n",
            " 2   ones        144 non-null    int64         \n",
            " 3   dt          144 non-null    datetime64[ns]\n",
            "dtypes: datetime64[ns](1), int64(2), object(1)\n",
            "memory usage: 4.6+ KB\n"
          ],
          "name": "stdout"
        }
      ]
    },
    {
      "cell_type": "code",
      "metadata": {
        "id": "_ddL0fgVVXrU",
        "colab_type": "code",
        "colab": {
          "base_uri": "https://localhost:8080/",
          "height": 204
        },
        "outputId": "a2a19e9f-d354-43a5-8774-f0f13b36033a"
      },
      "source": [
        "df.tail()"
      ],
      "execution_count": 49,
      "outputs": [
        {
          "output_type": "execute_result",
          "data": {
            "text/html": [
              "<div>\n",
              "<style scoped>\n",
              "    .dataframe tbody tr th:only-of-type {\n",
              "        vertical-align: middle;\n",
              "    }\n",
              "\n",
              "    .dataframe tbody tr th {\n",
              "        vertical-align: top;\n",
              "    }\n",
              "\n",
              "    .dataframe thead th {\n",
              "        text-align: right;\n",
              "    }\n",
              "</style>\n",
              "<table border=\"1\" class=\"dataframe\">\n",
              "  <thead>\n",
              "    <tr style=\"text-align: right;\">\n",
              "      <th></th>\n",
              "      <th>month</th>\n",
              "      <th>passengers</th>\n",
              "      <th>ones</th>\n",
              "      <th>dt</th>\n",
              "    </tr>\n",
              "  </thead>\n",
              "  <tbody>\n",
              "    <tr>\n",
              "      <th>139</th>\n",
              "      <td>1960-08</td>\n",
              "      <td>606</td>\n",
              "      <td>1</td>\n",
              "      <td>1960-08-01</td>\n",
              "    </tr>\n",
              "    <tr>\n",
              "      <th>140</th>\n",
              "      <td>1960-09</td>\n",
              "      <td>508</td>\n",
              "      <td>1</td>\n",
              "      <td>1960-09-01</td>\n",
              "    </tr>\n",
              "    <tr>\n",
              "      <th>141</th>\n",
              "      <td>1960-10</td>\n",
              "      <td>461</td>\n",
              "      <td>1</td>\n",
              "      <td>1960-10-01</td>\n",
              "    </tr>\n",
              "    <tr>\n",
              "      <th>142</th>\n",
              "      <td>1960-11</td>\n",
              "      <td>390</td>\n",
              "      <td>1</td>\n",
              "      <td>1960-11-01</td>\n",
              "    </tr>\n",
              "    <tr>\n",
              "      <th>143</th>\n",
              "      <td>1960-12</td>\n",
              "      <td>432</td>\n",
              "      <td>1</td>\n",
              "      <td>1960-12-01</td>\n",
              "    </tr>\n",
              "  </tbody>\n",
              "</table>\n",
              "</div>"
            ],
            "text/plain": [
              "       month  passengers  ones         dt\n",
              "139  1960-08         606     1 1960-08-01\n",
              "140  1960-09         508     1 1960-09-01\n",
              "141  1960-10         461     1 1960-10-01\n",
              "142  1960-11         390     1 1960-11-01\n",
              "143  1960-12         432     1 1960-12-01"
            ]
          },
          "metadata": {
            "tags": []
          },
          "execution_count": 49
        }
      ]
    },
    {
      "cell_type": "markdown",
      "metadata": {
        "id": "Ti-XEtEJWHbo",
        "colab_type": "text"
      },
      "source": [
        "## Join\n",
        "\n",
        "use `merge()`"
      ]
    }
  ]
}