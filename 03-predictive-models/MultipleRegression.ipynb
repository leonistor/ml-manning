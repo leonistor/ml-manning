{
  "nbformat": 4,
  "nbformat_minor": 0,
  "metadata": {
    "colab": {
      "name": "MultipleRegression.ipynb",
      "provenance": [],
      "collapsed_sections": [],
      "authorship_tag": "ABX9TyNns1D8WFwqkwIwbTkmHGfj",
      "include_colab_link": true
    },
    "kernelspec": {
      "name": "python3",
      "display_name": "Python 3"
    }
  },
  "cells": [
    {
      "cell_type": "markdown",
      "metadata": {
        "id": "view-in-github",
        "colab_type": "text"
      },
      "source": [
        "<a href=\"https://colab.research.google.com/github/leonistor/ml-manning/blob/master/03-predictive-models/MultipleRegression.ipynb\" target=\"_parent\"><img src=\"https://colab.research.google.com/assets/colab-badge.svg\" alt=\"Open In Colab\"/></a>"
      ]
    },
    {
      "cell_type": "markdown",
      "metadata": {
        "id": "cEk5WtSHuXGE",
        "colab_type": "text"
      },
      "source": [
        "# Multiple Regression"
      ]
    },
    {
      "cell_type": "code",
      "metadata": {
        "id": "Y4Hiq2fwuSVW",
        "colab_type": "code",
        "colab": {
          "base_uri": "https://localhost:8080/",
          "height": 204
        },
        "outputId": "d9d57760-af14-4348-be8f-26dae3c31229"
      },
      "source": [
        "import pandas as pd\n",
        "\n",
        "df = pd.read_excel('http://cdn.sundog-soft.com/Udemy/DataScience/cars.xls')\n",
        "\n",
        "df.head()"
      ],
      "execution_count": 4,
      "outputs": [
        {
          "output_type": "execute_result",
          "data": {
            "text/html": [
              "<div>\n",
              "<style scoped>\n",
              "    .dataframe tbody tr th:only-of-type {\n",
              "        vertical-align: middle;\n",
              "    }\n",
              "\n",
              "    .dataframe tbody tr th {\n",
              "        vertical-align: top;\n",
              "    }\n",
              "\n",
              "    .dataframe thead th {\n",
              "        text-align: right;\n",
              "    }\n",
              "</style>\n",
              "<table border=\"1\" class=\"dataframe\">\n",
              "  <thead>\n",
              "    <tr style=\"text-align: right;\">\n",
              "      <th></th>\n",
              "      <th>Price</th>\n",
              "      <th>Mileage</th>\n",
              "      <th>Make</th>\n",
              "      <th>Model</th>\n",
              "      <th>Trim</th>\n",
              "      <th>Type</th>\n",
              "      <th>Cylinder</th>\n",
              "      <th>Liter</th>\n",
              "      <th>Doors</th>\n",
              "      <th>Cruise</th>\n",
              "      <th>Sound</th>\n",
              "      <th>Leather</th>\n",
              "    </tr>\n",
              "  </thead>\n",
              "  <tbody>\n",
              "    <tr>\n",
              "      <th>0</th>\n",
              "      <td>17314.103129</td>\n",
              "      <td>8221</td>\n",
              "      <td>Buick</td>\n",
              "      <td>Century</td>\n",
              "      <td>Sedan 4D</td>\n",
              "      <td>Sedan</td>\n",
              "      <td>6</td>\n",
              "      <td>3.1</td>\n",
              "      <td>4</td>\n",
              "      <td>1</td>\n",
              "      <td>1</td>\n",
              "      <td>1</td>\n",
              "    </tr>\n",
              "    <tr>\n",
              "      <th>1</th>\n",
              "      <td>17542.036083</td>\n",
              "      <td>9135</td>\n",
              "      <td>Buick</td>\n",
              "      <td>Century</td>\n",
              "      <td>Sedan 4D</td>\n",
              "      <td>Sedan</td>\n",
              "      <td>6</td>\n",
              "      <td>3.1</td>\n",
              "      <td>4</td>\n",
              "      <td>1</td>\n",
              "      <td>1</td>\n",
              "      <td>0</td>\n",
              "    </tr>\n",
              "    <tr>\n",
              "      <th>2</th>\n",
              "      <td>16218.847862</td>\n",
              "      <td>13196</td>\n",
              "      <td>Buick</td>\n",
              "      <td>Century</td>\n",
              "      <td>Sedan 4D</td>\n",
              "      <td>Sedan</td>\n",
              "      <td>6</td>\n",
              "      <td>3.1</td>\n",
              "      <td>4</td>\n",
              "      <td>1</td>\n",
              "      <td>1</td>\n",
              "      <td>0</td>\n",
              "    </tr>\n",
              "    <tr>\n",
              "      <th>3</th>\n",
              "      <td>16336.913140</td>\n",
              "      <td>16342</td>\n",
              "      <td>Buick</td>\n",
              "      <td>Century</td>\n",
              "      <td>Sedan 4D</td>\n",
              "      <td>Sedan</td>\n",
              "      <td>6</td>\n",
              "      <td>3.1</td>\n",
              "      <td>4</td>\n",
              "      <td>1</td>\n",
              "      <td>0</td>\n",
              "      <td>0</td>\n",
              "    </tr>\n",
              "    <tr>\n",
              "      <th>4</th>\n",
              "      <td>16339.170324</td>\n",
              "      <td>19832</td>\n",
              "      <td>Buick</td>\n",
              "      <td>Century</td>\n",
              "      <td>Sedan 4D</td>\n",
              "      <td>Sedan</td>\n",
              "      <td>6</td>\n",
              "      <td>3.1</td>\n",
              "      <td>4</td>\n",
              "      <td>1</td>\n",
              "      <td>0</td>\n",
              "      <td>1</td>\n",
              "    </tr>\n",
              "  </tbody>\n",
              "</table>\n",
              "</div>"
            ],
            "text/plain": [
              "          Price  Mileage   Make    Model  ... Doors Cruise  Sound  Leather\n",
              "0  17314.103129     8221  Buick  Century  ...     4      1      1        1\n",
              "1  17542.036083     9135  Buick  Century  ...     4      1      1        0\n",
              "2  16218.847862    13196  Buick  Century  ...     4      1      1        0\n",
              "3  16336.913140    16342  Buick  Century  ...     4      1      0        0\n",
              "4  16339.170324    19832  Buick  Century  ...     4      1      0        1\n",
              "\n",
              "[5 rows x 12 columns]"
            ]
          },
          "metadata": {
            "tags": []
          },
          "execution_count": 4
        }
      ]
    },
    {
      "cell_type": "code",
      "metadata": {
        "id": "-rloeiVIuw8i",
        "colab_type": "code",
        "colab": {
          "base_uri": "https://localhost:8080/",
          "height": 388
        },
        "outputId": "7b8e5b5b-f75c-4a34-d8f8-353578ff64c6"
      },
      "source": [
        "%matplotlib inline\n",
        "import numpy as np\n",
        "df1 = df[['Mileage', 'Price']]\n",
        "bins = np.arange(0,50_000, 10_000)\n",
        "groups = df1.groupby(pd.cut(df1['Mileage'], bins)).mean()\n",
        "print(groups.head())\n",
        "groups['Price'].plot.line()"
      ],
      "execution_count": 10,
      "outputs": [
        {
          "output_type": "stream",
          "text": [
            "                     Mileage         Price\n",
            "Mileage                                   \n",
            "(0, 10000]       5588.629630  24096.714451\n",
            "(10000, 20000]  15898.496183  21955.979607\n",
            "(20000, 30000]  24114.407104  20278.606252\n",
            "(30000, 40000]  33610.338710  19463.670267\n"
          ],
          "name": "stdout"
        },
        {
          "output_type": "execute_result",
          "data": {
            "text/plain": [
              "<matplotlib.axes._subplots.AxesSubplot at 0x7ff499fd6080>"
            ]
          },
          "metadata": {
            "tags": []
          },
          "execution_count": 10
        },
        {
          "output_type": "display_data",
          "data": {
            "image/png": "[encoded data removed]",
            "text/plain": [
              "<Figure size 432x288 with 1 Axes>"
            ]
          },
          "metadata": {
            "tags": [],
            "needs_background": "light"
          }
        }
      ]
    },
    {
      "cell_type": "code",
      "metadata": {
        "id": "CbUwTCLJwKbn",
        "colab_type": "code",
        "colab": {
          "base_uri": "https://localhost:8080/",
          "height": 584
        },
        "outputId": "3a69a522-f6e7-4c37-ed5e-105f41ca5694"
      },
      "source": [
        "import statsmodels.api as sm\n",
        "from sklearn.preprocessing import StandardScaler\n",
        "scale = StandardScaler()\n",
        "\n",
        "X = df[['Mileage', 'Cylinder', 'Doors']]\n",
        "y = df['Price']\n",
        "\n",
        "# normalize features to -1..1\n",
        "\n",
        "X = scale.fit_transform(X)\n",
        "\n",
        "print(X)\n",
        "\n",
        "# Ordinary Least Square model\n",
        "est = sm.OLS(y, X).fit()\n",
        "\n",
        "est.summary()"
      ],
      "execution_count": 26,
      "outputs": [
        {
          "output_type": "stream",
          "text": [
            "[[-1.41748516  0.52741047  0.55627894]\n",
            " [-1.30590228  0.52741047  0.55627894]\n",
            " [-0.81012759  0.52741047  0.55627894]\n",
            " ...\n",
            " [ 0.07960546  0.52741047  0.55627894]\n",
            " [ 0.75044563  0.52741047  0.55627894]\n",
            " [ 1.93256489  0.52741047  0.55627894]]\n"
          ],
          "name": "stdout"
        },
        {
          "output_type": "execute_result",
          "data": {
            "text/html": [
              "<table class=\"simpletable\">\n",
              "<caption>OLS Regression Results</caption>\n",
              "<tr>\n",
              "  <th>Dep. Variable:</th>          <td>Price</td>      <th>  R-squared (uncentered):</th>      <td>   0.064</td> \n",
              "</tr>\n",
              "<tr>\n",
              "  <th>Model:</th>                   <td>OLS</td>       <th>  Adj. R-squared (uncentered):</th> <td>   0.060</td> \n",
              "</tr>\n",
              "<tr>\n",
              "  <th>Method:</th>             <td>Least Squares</td>  <th>  F-statistic:       </th>          <td>   18.11</td> \n",
              "</tr>\n",
              "<tr>\n",
              "  <th>Date:</th>             <td>Tue, 28 Apr 2020</td> <th>  Prob (F-statistic):</th>          <td>2.23e-11</td> \n",
              "</tr>\n",
              "<tr>\n",
              "  <th>Time:</th>                 <td>17:25:07</td>     <th>  Log-Likelihood:    </th>          <td> -9207.1</td> \n",
              "</tr>\n",
              "<tr>\n",
              "  <th>No. Observations:</th>      <td>   804</td>      <th>  AIC:               </th>          <td>1.842e+04</td>\n",
              "</tr>\n",
              "<tr>\n",
              "  <th>Df Residuals:</th>          <td>   801</td>      <th>  BIC:               </th>          <td>1.843e+04</td>\n",
              "</tr>\n",
              "<tr>\n",
              "  <th>Df Model:</th>              <td>     3</td>      <th>                     </th>              <td> </td>    \n",
              "</tr>\n",
              "<tr>\n",
              "  <th>Covariance Type:</th>      <td>nonrobust</td>    <th>                     </th>              <td> </td>    \n",
              "</tr>\n",
              "</table>\n",
              "<table class=\"simpletable\">\n",
              "<tr>\n",
              "   <td></td>     <th>coef</th>     <th>std err</th>      <th>t</th>      <th>P>|t|</th>  <th>[0.025</th>    <th>0.975]</th>  \n",
              "</tr>\n",
              "<tr>\n",
              "  <th>x1</th> <td>-1272.3412</td> <td>  804.623</td> <td>   -1.581</td> <td> 0.114</td> <td>-2851.759</td> <td>  307.077</td>\n",
              "</tr>\n",
              "<tr>\n",
              "  <th>x2</th> <td> 5587.4472</td> <td>  804.509</td> <td>    6.945</td> <td> 0.000</td> <td> 4008.252</td> <td> 7166.642</td>\n",
              "</tr>\n",
              "<tr>\n",
              "  <th>x3</th> <td>-1404.5513</td> <td>  804.275</td> <td>   -1.746</td> <td> 0.081</td> <td>-2983.288</td> <td>  174.185</td>\n",
              "</tr>\n",
              "</table>\n",
              "<table class=\"simpletable\">\n",
              "<tr>\n",
              "  <th>Omnibus:</th>       <td>157.913</td> <th>  Durbin-Watson:     </th> <td>   0.008</td>\n",
              "</tr>\n",
              "<tr>\n",
              "  <th>Prob(Omnibus):</th> <td> 0.000</td>  <th>  Jarque-Bera (JB):  </th> <td> 257.529</td>\n",
              "</tr>\n",
              "<tr>\n",
              "  <th>Skew:</th>          <td> 1.278</td>  <th>  Prob(JB):          </th> <td>1.20e-56</td>\n",
              "</tr>\n",
              "<tr>\n",
              "  <th>Kurtosis:</th>      <td> 4.074</td>  <th>  Cond. No.          </th> <td>    1.03</td>\n",
              "</tr>\n",
              "</table><br/><br/>Warnings:<br/>[1] Standard Errors assume that the covariance matrix of the errors is correctly specified."
            ],
            "text/plain": [
              "<class 'statsmodels.iolib.summary.Summary'>\n",
              "\"\"\"\n",
              "                                 OLS Regression Results                                \n",
              "=======================================================================================\n",
              "Dep. Variable:                  Price   R-squared (uncentered):                   0.064\n",
              "Model:                            OLS   Adj. R-squared (uncentered):              0.060\n",
              "Method:                 Least Squares   F-statistic:                              18.11\n",
              "Date:                Tue, 28 Apr 2020   Prob (F-statistic):                    2.23e-11\n",
              "Time:                        17:25:07   Log-Likelihood:                         -9207.1\n",
              "No. Observations:                 804   AIC:                                  1.842e+04\n",
              "Df Residuals:                     801   BIC:                                  1.843e+04\n",
              "Df Model:                           3                                                  \n",
              "Covariance Type:            nonrobust                                                  \n",
              "==============================================================================\n",
              "                 coef    std err          t      P>|t|      [0.025      0.975]\n",
              "------------------------------------------------------------------------------\n",
              "x1         -1272.3412    804.623     -1.581      0.114   -2851.759     307.077\n",
              "x2          5587.4472    804.509      6.945      0.000    4008.252    7166.642\n",
              "x3         -1404.5513    804.275     -1.746      0.081   -2983.288     174.185\n",
              "==============================================================================\n",
              "Omnibus:                      157.913   Durbin-Watson:                   0.008\n",
              "Prob(Omnibus):                  0.000   Jarque-Bera (JB):              257.529\n",
              "Skew:                           1.278   Prob(JB):                     1.20e-56\n",
              "Kurtosis:                       4.074   Cond. No.                         1.03\n",
              "==============================================================================\n",
              "\n",
              "Warnings:\n",
              "[1] Standard Errors assume that the covariance matrix of the errors is correctly specified.\n",
              "\"\"\""
            ]
          },
          "metadata": {
            "tags": []
          },
          "execution_count": 26
        }
      ]
    },
    {
      "cell_type": "code",
      "metadata": {
        "id": "XCMo4zeX0ieu",
        "colab_type": "code",
        "colab": {
          "base_uri": "https://localhost:8080/",
          "height": 85
        },
        "outputId": "2ef74cbb-0550-49cc-933e-a3ca79879c41"
      },
      "source": [
        "# more doors => lower price?\n",
        "y.groupby(df.Doors).mean()"
      ],
      "execution_count": 28,
      "outputs": [
        {
          "output_type": "execute_result",
          "data": {
            "text/plain": [
              "Doors\n",
              "2    23807.135520\n",
              "4    20580.670749\n",
              "Name: Price, dtype: float64"
            ]
          },
          "metadata": {
            "tags": []
          },
          "execution_count": 28
        }
      ]
    },
    {
      "cell_type": "code",
      "metadata": {
        "id": "8KHO9S-A09X5",
        "colab_type": "code",
        "colab": {
          "base_uri": "https://localhost:8080/",
          "height": 51
        },
        "outputId": "68eae325-e1ad-439c-df53-8477402cab87"
      },
      "source": [
        "# predict the price for a car wit 45_000 miles, 8 cylinders and 4 doors\n",
        "scaled = scale.transform([[45_000, 8, 4]])\n",
        "print(scaled)\n",
        "predicted = est.predict(scaled[0])\n",
        "print(predicted)"
      ],
      "execution_count": 29,
      "outputs": [
        {
          "output_type": "stream",
          "text": [
            "[[3.07256589 1.96971667 0.55627894]]\n",
            "[6315.01330583]\n"
          ],
          "name": "stdout"
        }
      ]
    }
  ]
}