{
  "nbformat": 4,
  "nbformat_minor": 0,
  "metadata": {
    "colab": {
      "name": "PolynomialRegression.ipynb",
      "provenance": [],
      "collapsed_sections": [],
      "authorship_tag": "ABX9TyMn3eMKHMdGmYMU5Mwyy9ke",
      "include_colab_link": true
    },
    "kernelspec": {
      "name": "python3",
      "display_name": "Python 3"
    }
  },
  "cells": [
    {
      "cell_type": "markdown",
      "metadata": {
        "id": "view-in-github",
        "colab_type": "text"
      },
      "source": [
        "<a href=\"https://colab.research.google.com/github/leonistor/ml-manning/blob/master/03-predictive-models/PolynomialRegression.ipynb\" target=\"_parent\"><img src=\"https://colab.research.google.com/assets/colab-badge.svg\" alt=\"Open In Colab\"/></a>"
      ]
    },
    {
      "cell_type": "markdown",
      "metadata": {
        "id": "yfPcDfsirbuy",
        "colab_type": "text"
      },
      "source": [
        "# Polynomial Regression"
      ]
    },
    {
      "cell_type": "code",
      "metadata": {
        "id": "6VeYRSn2qp1p",
        "colab_type": "code",
        "colab": {
          "base_uri": "https://localhost:8080/",
          "height": 282
        },
        "outputId": "10650ed2-429e-4e18-8865-89741b631530"
      },
      "source": [
        "import numpy as np\n",
        "import matplotlib.pyplot as plt\n",
        "\n",
        "np.random.seed(2)\n",
        "pageSpeeds = np.random.normal(3.0, 1.0, 1000)\n",
        "purchaseAmount = np.random.normal(50, 10.0, 1000) / pageSpeeds\n",
        "\n",
        "plt.scatter(pageSpeeds, purchaseAmount)"
      ],
      "execution_count": 5,
      "outputs": [
        {
          "output_type": "execute_result",
          "data": {
            "text/plain": [
              "<matplotlib.collections.PathCollection at 0x7fc74d024d68>"
            ]
          },
          "metadata": {
            "tags": []
          },
          "execution_count": 5
        },
        {
          "output_type": "display_data",
          "data": {
            "image/png": "[encoded data removed]",
            "text/plain": [
              "<Figure size 432x288 with 1 Axes>"
            ]
          },
          "metadata": {
            "tags": [],
            "needs_background": "light"
          }
        }
      ]
    },
    {
      "cell_type": "code",
      "metadata": {
        "id": "bVEA5WNjsD7i",
        "colab_type": "code",
        "colab": {}
      },
      "source": [
        "# numpy polyfit function\n",
        "x = np.array(pageSpeeds)\n",
        "y = np.array(purchaseAmount)\n",
        "\n",
        "p4 = np.poly1d(np.polyfit(x, y, 4))"
      ],
      "execution_count": 0,
      "outputs": []
    },
    {
      "cell_type": "code",
      "metadata": {
        "id": "5teq27bescem",
        "colab_type": "code",
        "colab": {
          "base_uri": "https://localhost:8080/",
          "height": 265
        },
        "outputId": "eb5415a8-d554-44d2-db7a-38cd2e2cd044"
      },
      "source": [
        "xp = np.linspace(0, 7, 100)\n",
        "plt.scatter(x, y)\n",
        "plt.plot(xp, p4(xp), c='r')\n",
        "plt.show()"
      ],
      "execution_count": 9,
      "outputs": [
        {
          "output_type": "display_data",
          "data": {
            "image/png": "[encoded data removed]",
            "text/plain": [
              "<Figure size 432x288 with 1 Axes>"
            ]
          },
          "metadata": {
            "tags": [],
            "needs_background": "light"
          }
        }
      ]
    },
    {
      "cell_type": "code",
      "metadata": {
        "id": "dfvgMmSmstrt",
        "colab_type": "code",
        "colab": {
          "base_uri": "https://localhost:8080/",
          "height": 34
        },
        "outputId": "14d03f58-8198-447e-b9d8-4341c5fae6a8"
      },
      "source": [
        "# measure error\n",
        "from sklearn.metrics import r2_score\n",
        "\n",
        "r2 = r2_score(y, p4(x))\n",
        "print(r2)"
      ],
      "execution_count": 11,
      "outputs": [
        {
          "output_type": "stream",
          "text": [
            "0.8293766396303073\n"
          ],
          "name": "stdout"
        }
      ]
    }
  ]
}