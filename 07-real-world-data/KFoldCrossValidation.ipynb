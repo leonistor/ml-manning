{
  "nbformat": 4,
  "nbformat_minor": 0,
  "metadata": {
    "colab": {
      "name": "KFoldCrossValidation.ipynb",
      "provenance": [],
      "collapsed_sections": [],
      "authorship_tag": "ABX9TyP8jkvbPmQDSGA2ZYZaUMqt",
      "include_colab_link": true
    },
    "kernelspec": {
      "name": "python3",
      "display_name": "Python 3"
    }
  },
  "cells": [
    {
      "cell_type": "markdown",
      "metadata": {
        "id": "view-in-github",
        "colab_type": "text"
      },
      "source": [
        "<a href=\"https://colab.research.google.com/github/leonistor/ml-manning/blob/master/07-real-world-data/KFoldCrossValidation.ipynb\" target=\"_parent\"><img src=\"https://colab.research.google.com/assets/colab-badge.svg\" alt=\"Open In Colab\"/></a>"
      ]
    },
    {
      "cell_type": "markdown",
      "metadata": {
        "id": "u2coOYacMgBo",
        "colab_type": "text"
      },
      "source": [
        "# K-Fold Cross Validation"
      ]
    },
    {
      "cell_type": "code",
      "metadata": {
        "id": "VANnIv8_MYvw",
        "colab_type": "code",
        "colab": {}
      },
      "source": [
        "import numpy as np\n",
        "from sklearn import model_selection\n",
        "from sklearn import datasets\n",
        "from sklearn import svm\n",
        "\n",
        "iris = datasets.load_iris()"
      ],
      "execution_count": 0,
      "outputs": []
    },
    {
      "cell_type": "markdown",
      "metadata": {
        "id": "0G-OK1A4NToE",
        "colab_type": "text"
      },
      "source": [
        "Single train-test"
      ]
    },
    {
      "cell_type": "code",
      "metadata": {
        "id": "EDfp7YZeNWbU",
        "colab_type": "code",
        "colab": {
          "base_uri": "https://localhost:8080/",
          "height": 34
        },
        "outputId": "44d94062-0e66-4747-e075-d9b421b794f6"
      },
      "source": [
        "# split with 40% testing\n",
        "X_train, X_test, y_train, y_test = \\\n",
        "model_selection.train_test_split(iris.data, iris.target, test_size=0.4, random_state=0)\n",
        "\n",
        "# Build SVC model\n",
        "clf = svm.SVC(kernel='linear', C=1).fit(X_train, y_train)\n",
        "\n",
        "# measure performance\n",
        "clf.score(X_test, y_test)"
      ],
      "execution_count": 10,
      "outputs": [
        {
          "output_type": "execute_result",
          "data": {
            "text/plain": [
              "0.9666666666666667"
            ]
          },
          "metadata": {
            "tags": []
          },
          "execution_count": 10
        }
      ]
    },
    {
      "cell_type": "markdown",
      "metadata": {
        "id": "e8SNSrsEPN4H",
        "colab_type": "text"
      },
      "source": [
        "K-Fold cross validation"
      ]
    },
    {
      "cell_type": "code",
      "metadata": {
        "id": "vaktp2vKPSVN",
        "colab_type": "code",
        "colab": {
          "base_uri": "https://localhost:8080/",
          "height": 51
        },
        "outputId": "279092f4-452f-47a0-ae68-a10fece0a8ef"
      },
      "source": [
        "# K == cv\n",
        "scores = model_selection.cross_val_score(clf, iris.data, iris.target, cv=5)\n",
        "\n",
        "# accuracy of each fold\n",
        "print(scores)\n",
        "\n",
        "# mean accuracy of all K folds\n",
        "print(scores.mean())"
      ],
      "execution_count": 11,
      "outputs": [
        {
          "output_type": "stream",
          "text": [
            "[0.96666667 1.         0.96666667 0.96666667 1.        ]\n",
            "0.9800000000000001\n"
          ],
          "name": "stdout"
        }
      ]
    },
    {
      "cell_type": "markdown",
      "metadata": {
        "id": "60BRA2X3QJeD",
        "colab_type": "text"
      },
      "source": [
        "Use polynomial kernel"
      ]
    },
    {
      "cell_type": "code",
      "metadata": {
        "id": "eaWA5unVQLhL",
        "colab_type": "code",
        "colab": {
          "base_uri": "https://localhost:8080/",
          "height": 51
        },
        "outputId": "85083da6-ec97-4849-d2f3-658cf51c3c89"
      },
      "source": [
        "clf = svm.SVC(kernel='poly', C=1).fit(X_train, y_train)\n",
        "scores = model_selection.cross_val_score(clf, iris.data, iris.target, cv=5)\n",
        "print(scores)\n",
        "print(scores.mean())"
      ],
      "execution_count": 14,
      "outputs": [
        {
          "output_type": "stream",
          "text": [
            "[0.96666667 1.         0.96666667 0.96666667 1.        ]\n",
            "0.9800000000000001\n"
          ],
          "name": "stdout"
        }
      ]
    },
    {
      "cell_type": "code",
      "metadata": {
        "id": "f2f_E8BoQreT",
        "colab_type": "code",
        "colab": {}
      },
      "source": [
        "# same?"
      ],
      "execution_count": 0,
      "outputs": []
    }
  ]
}